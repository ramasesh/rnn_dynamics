{
 "cells": [
  {
   "cell_type": "code",
   "execution_count": 1,
   "metadata": {
    "ExecuteTime": {
     "end_time": "2020-09-01T04:39:05.136717Z",
     "start_time": "2020-09-01T04:39:03.474735Z"
    }
   },
   "outputs": [],
   "source": [
    "import renn\n",
    "import matplotlib.pyplot as plt"
   ]
  },
  {
   "cell_type": "code",
   "execution_count": 2,
   "metadata": {
    "ExecuteTime": {
     "end_time": "2020-09-01T04:39:05.194994Z",
     "start_time": "2020-09-01T04:39:05.138101Z"
    }
   },
   "outputs": [],
   "source": [
    "import tensorflow_datasets as tfds\n",
    "import jax\n",
    "import jax.numpy as jnp\n",
    "\n",
    "from jax.experimental import stax, optimizers\n",
    "\n",
    "import numpy as np\n",
    "\n",
    "from renn.losses import multiclass_xent\n",
    "\n",
    "from tqdm import tqdm\n",
    "from functools import partial\n",
    "from renn import serialize\n",
    "\n",
    "from data_processing import analysis_utils as au"
   ]
  },
  {
   "cell_type": "code",
   "execution_count": 3,
   "metadata": {
    "ExecuteTime": {
     "end_time": "2020-09-01T04:39:05.199237Z",
     "start_time": "2020-09-01T04:39:05.196735Z"
    }
   },
   "outputs": [],
   "source": [
    "from src import data"
   ]
  },
  {
   "cell_type": "code",
   "execution_count": 84,
   "metadata": {
    "ExecuteTime": {
     "end_time": "2020-09-01T05:38:13.719207Z",
     "start_time": "2020-09-01T05:38:13.715100Z"
    }
   },
   "outputs": [],
   "source": [
    "dataset_config = {'dataset': 'dbpedia',\n",
    "                  'max_pad': 400,\n",
    "                  'batch_size': 256,\n",
    "                  'num_classes': 14}"
   ]
  },
  {
   "cell_type": "code",
   "execution_count": 85,
   "metadata": {
    "ExecuteTime": {
     "end_time": "2020-09-01T05:38:15.019807Z",
     "start_time": "2020-09-01T05:38:13.968868Z"
    }
   },
   "outputs": [
    {
     "name": "stdout",
     "output_type": "stream",
     "text": [
      "{1: 0, 2: 1, 3: 2, 4: 3, 5: 4, 6: 5, 7: 6, 8: 7, 9: 8, 10: 9, 11: 10, 12: 11, 13: 12, 14: 13}\n"
     ]
    }
   ],
   "source": [
    "vocab_size, train_dset, test_dset = data.get_dataset(dataset_config)"
   ]
  },
  {
   "cell_type": "code",
   "execution_count": 86,
   "metadata": {
    "ExecuteTime": {
     "end_time": "2020-09-01T05:38:15.036124Z",
     "start_time": "2020-09-01T05:38:15.021731Z"
    }
   },
   "outputs": [],
   "source": [
    "def SequenceSum():\n",
    "    def init_fun(_, input_shape):\n",
    "        return (input_shape[0], input_shape[2]), ()\n",
    "    def apply_fun(_, inputs, **kwargs):\n",
    "        return jnp.sum(inputs, axis=1)\n",
    "    return init_fun, apply_fun"
   ]
  },
  {
   "cell_type": "code",
   "execution_count": 87,
   "metadata": {
    "ExecuteTime": {
     "end_time": "2020-09-01T05:38:15.975848Z",
     "start_time": "2020-09-01T05:38:15.037567Z"
    }
   },
   "outputs": [],
   "source": [
    "emb_size = 32\n",
    "\n",
    "input_shape = (-1, dataset_config['max_pad'])\n",
    "l2_pen = 0\n",
    "\n",
    "# Linear model\n",
    "init_fun, apply_fun = stax.serial(\n",
    "    renn.embedding(vocab_size, emb_size),\n",
    "    SequenceSum(),\n",
    "    stax.Dense(dataset_config['num_classes']),\n",
    "    )\n",
    "\n",
    "# Initialize\n",
    "key = jax.random.PRNGKey(0)\n",
    "output_shape, initial_params = init_fun(key, input_shape)\n",
    "\n",
    "# Hack to set the embedding to 0 for 0\n",
    "emb = initial_params[0]\n",
    "new_emb = np.array(emb)\n",
    "new_emb[0] = np.zeros(emb_size)\n",
    "initial_params = [jnp.array(new_emb), *initial_params[1:]]\n",
    "\n",
    "# Loss\n",
    "def xent(params, batch):\n",
    "    logits = apply_fun(params, batch['inputs'])\n",
    "    data_loss = multiclass_xent(logits, batch['labels'])\n",
    "    reg_loss = l2_pen * renn.norm(params)\n",
    "    return data_loss + reg_loss\n",
    "\n",
    "f_df = jax.value_and_grad(xent)\n",
    "\n",
    "# Accuracy\n",
    "@jax.jit\n",
    "def accuracy(params, batch):\n",
    "    logits = apply_fun(params, batch['inputs'])\n",
    "    predictions = jnp.argmax(logits, axis=1)\n",
    "    return jnp.mean(predictions == batch['labels'])\n",
    "\n"
   ]
  },
  {
   "cell_type": "code",
   "execution_count": 88,
   "metadata": {
    "ExecuteTime": {
     "end_time": "2020-09-01T05:38:16.065235Z",
     "start_time": "2020-09-01T05:38:15.980187Z"
    }
   },
   "outputs": [],
   "source": [
    "learning_rate = optimizers.exponential_decay(2e-3, 1000, 0.8)\n",
    "init_opt, update_opt, get_params = optimizers.adam(learning_rate)\n",
    "\n",
    "state = init_opt(initial_params)\n",
    "losses = []\n",
    "\n",
    "@jax.jit\n",
    "def step(k, opt_state, batch):\n",
    "    params = get_params(opt_state)\n",
    "    loss, gradients = f_df(params, batch)\n",
    "    new_state = update_opt(k, gradients, opt_state)\n",
    "    return new_state, loss\n",
    "\n",
    "def test_acc(params):\n",
    "    return jnp.array([accuracy(params, batch) for batch in tfds.as_numpy(test_dset)])"
   ]
  },
  {
   "cell_type": "code",
   "execution_count": 89,
   "metadata": {
    "ExecuteTime": {
     "end_time": "2020-09-01T05:42:31.049130Z",
     "start_time": "2020-09-01T05:38:16.067699Z"
    }
   },
   "outputs": [
    {
     "name": "stdout",
     "output_type": "stream",
     "text": [
      "=====================================\n",
      "== Epoch #0\n",
      "== Test accuracy: 6.98%\n",
      "=====================================\n",
      "[step 0]\tLoss: nan\n"
     ]
    },
    {
     "name": "stderr",
     "output_type": "stream",
     "text": [
      "/usr/local/google/home/ramasesh/VirtualEnvs/dyn/lib/python3.7/site-packages/numpy/core/fromnumeric.py:3335: RuntimeWarning: Mean of empty slice.\n",
      "  out=out, **kwargs)\n",
      "/usr/local/google/home/ramasesh/VirtualEnvs/dyn/lib/python3.7/site-packages/numpy/core/_methods.py:161: RuntimeWarning: invalid value encountered in double_scalars\n",
      "  ret = ret.dtype.type(ret / rcount)\n"
     ]
    },
    {
     "name": "stdout",
     "output_type": "stream",
     "text": [
      "[step 100]\tLoss: 0.5293\n",
      "[step 200]\tLoss: 0.1718\n",
      "[step 300]\tLoss: 0.1396\n",
      "[step 400]\tLoss: 0.1201\n",
      "[step 500]\tLoss: 0.1019\n",
      "[step 600]\tLoss: 0.1113\n",
      "[step 700]\tLoss: 0.0894\n",
      "[step 800]\tLoss: 0.0965\n",
      "[step 900]\tLoss: 0.0886\n",
      "[step 1000]\tLoss: 0.0806\n",
      "[step 1100]\tLoss: 0.1030\n",
      "[step 1200]\tLoss: 0.0828\n",
      "[step 1300]\tLoss: 0.0802\n",
      "[step 1400]\tLoss: 0.0776\n",
      "[step 1500]\tLoss: 0.0787\n",
      "[step 1600]\tLoss: 0.0820\n",
      "[step 1700]\tLoss: 0.0712\n",
      "[step 1800]\tLoss: 0.0743\n",
      "[step 1900]\tLoss: 0.0754\n",
      "[step 2000]\tLoss: 0.0821\n",
      "[step 2100]\tLoss: 0.0789\n",
      "=====================================\n",
      "== Epoch #1\n",
      "== Test accuracy: 97.93%\n",
      "=====================================\n",
      "[step 2200]\tLoss: 0.0699\n",
      "[step 2300]\tLoss: 0.0337\n",
      "[step 2400]\tLoss: 0.0330\n",
      "[step 2500]\tLoss: 0.0305\n",
      "[step 2600]\tLoss: 0.0275\n",
      "[step 2700]\tLoss: 0.0255\n",
      "[step 2800]\tLoss: 0.0258\n",
      "[step 2900]\tLoss: 0.0278\n",
      "[step 3000]\tLoss: 0.0237\n",
      "[step 3100]\tLoss: 0.0266\n",
      "[step 3200]\tLoss: 0.0229\n",
      "[step 3300]\tLoss: 0.0297\n",
      "[step 3400]\tLoss: 0.0280\n",
      "[step 3500]\tLoss: 0.0284\n",
      "[step 3600]\tLoss: 0.0282\n",
      "[step 3700]\tLoss: 0.0272\n",
      "[step 3800]\tLoss: 0.0303\n",
      "[step 3900]\tLoss: 0.0301\n",
      "[step 4000]\tLoss: 0.0267\n",
      "[step 4100]\tLoss: 0.0313\n",
      "[step 4200]\tLoss: 0.0330\n",
      "[step 4300]\tLoss: 0.0294\n",
      "=====================================\n",
      "== Epoch #2\n",
      "== Test accuracy: 97.99%\n",
      "=====================================\n",
      "[step 4400]\tLoss: 0.0288\n",
      "[step 4500]\tLoss: 0.0146\n",
      "[step 4600]\tLoss: 0.0165\n",
      "[step 4700]\tLoss: 0.0140\n",
      "[step 4800]\tLoss: 0.0139\n",
      "[step 4900]\tLoss: 0.0123\n",
      "[step 5000]\tLoss: 0.0128\n",
      "[step 5100]\tLoss: 0.0131\n",
      "[step 5200]\tLoss: 0.0126\n",
      "[step 5300]\tLoss: 0.0120\n",
      "[step 5400]\tLoss: 0.0150\n",
      "[step 5500]\tLoss: 0.0124\n",
      "[step 5600]\tLoss: 0.0149\n",
      "[step 5700]\tLoss: 0.0134\n",
      "[step 5800]\tLoss: 0.0160\n",
      "[step 5900]\tLoss: 0.0122\n",
      "[step 6000]\tLoss: 0.0158\n",
      "[step 6100]\tLoss: 0.0143\n",
      "[step 6200]\tLoss: 0.0140\n",
      "[step 6300]\tLoss: 0.0146\n",
      "[step 6400]\tLoss: 0.0128\n",
      "[step 6500]\tLoss: 0.0123\n",
      "=====================================\n",
      "== Epoch #2\n",
      "== Test accuracy: 98.09%\n",
      "=====================================\n"
     ]
    }
   ],
   "source": [
    "for epoch in range(3):\n",
    "    print('=====================================')\n",
    "    print(f'== Epoch #{epoch}')\n",
    "    p = get_params(state)\n",
    "    acc = np.mean(test_acc(p))\n",
    "    print(f'== Test accuracy: {100. * acc:0.2f}%')\n",
    "    print('=====================================')\n",
    "    \n",
    "    for batch in tfds.as_numpy(train_dset):\n",
    "        k = len(losses)\n",
    "        state, loss = step(k, state, batch)\n",
    "        losses.append(loss)\n",
    "\n",
    "        if k % 100 == 0:\n",
    "            p = get_params(state)\n",
    "            print(f'[step {k}]\\tLoss: {np.mean(losses[k-100:k]):0.4f}', flush=True)\n",
    "            \n",
    "print('=====================================')\n",
    "print(f'== Epoch #{epoch}')\n",
    "p = get_params(state)\n",
    "acc = np.mean(test_acc(p))\n",
    "print(f'== Test accuracy: {100. * acc:0.2f}%')\n",
    "print('=====================================')"
   ]
  },
  {
   "cell_type": "markdown",
   "metadata": {},
   "source": [
    "### Dimensionality of the logits"
   ]
  },
  {
   "cell_type": "code",
   "execution_count": 90,
   "metadata": {
    "ExecuteTime": {
     "end_time": "2020-09-01T05:42:31.052651Z",
     "start_time": "2020-09-01T05:42:31.050622Z"
    }
   },
   "outputs": [],
   "source": [
    "num_words = 5000"
   ]
  },
  {
   "cell_type": "code",
   "execution_count": 91,
   "metadata": {
    "ExecuteTime": {
     "end_time": "2020-09-01T05:42:31.261834Z",
     "start_time": "2020-09-01T05:42:31.054527Z"
    }
   },
   "outputs": [],
   "source": [
    "most_common_words = np.arange(num_words).reshape(1,-1).T\n",
    "output_logits = {'initial': apply_fun(initial_params, most_common_words),\n",
    "                 'final': apply_fun(p, most_common_words)}"
   ]
  },
  {
   "cell_type": "code",
   "execution_count": 92,
   "metadata": {
    "ExecuteTime": {
     "end_time": "2020-09-01T05:42:31.788591Z",
     "start_time": "2020-09-01T05:42:31.263589Z"
    }
   },
   "outputs": [],
   "source": [
    "f = lambda x: x[1:] - x[0]\n",
    "logit_changes = {k: f(v) for k,v in output_logits.items()}"
   ]
  },
  {
   "cell_type": "code",
   "execution_count": 93,
   "metadata": {
    "ExecuteTime": {
     "end_time": "2020-09-01T05:42:31.806661Z",
     "start_time": "2020-09-01T05:42:31.790278Z"
    }
   },
   "outputs": [],
   "source": [
    "PCA_obj = {k: au.PCA_rnn() for k in output_logits.keys()}\n",
    "\n",
    "for k in output_logits.keys():\n",
    "    PCA_obj[k].fit(logit_changes[k])"
   ]
  },
  {
   "cell_type": "code",
   "execution_count": 94,
   "metadata": {
    "ExecuteTime": {
     "end_time": "2020-09-01T05:42:31.811564Z",
     "start_time": "2020-09-01T05:42:31.808278Z"
    }
   },
   "outputs": [],
   "source": [
    "dimensionalities = {k: au.cumulative_var_explained(PCA_obj[k]) for k in PCA_obj.keys()}"
   ]
  },
  {
   "cell_type": "code",
   "execution_count": 95,
   "metadata": {
    "ExecuteTime": {
     "end_time": "2020-09-01T05:42:32.007971Z",
     "start_time": "2020-09-01T05:42:31.813085Z"
    }
   },
   "outputs": [
    {
     "data": {
      "text/plain": [
       "(-1.0, 15.0)"
      ]
     },
     "execution_count": 95,
     "metadata": {},
     "output_type": "execute_result"
    },
    {
     "data": {
      "image/png": "[encoded data removed]",
      "text/plain": [
       "<Figure size 576x288 with 1 Axes>"
      ]
     },
     "metadata": {
      "needs_background": "light"
     },
     "output_type": "display_data"
    }
   ],
   "source": [
    "f = au.plot_varexp(dimensionalities)\n",
    "plt.xlim(-1,dataset_config['num_classes']+1)"
   ]
  },
  {
   "cell_type": "code",
   "execution_count": 21,
   "metadata": {
    "ExecuteTime": {
     "end_time": "2020-09-01T03:34:51.074003Z",
     "start_time": "2020-09-01T03:34:51.068046Z"
    }
   },
   "outputs": [
    {
     "data": {
      "text/plain": [
       "{'initial': array([0.2802981, 0.527935 , 0.7413199, 0.8776858, 0.9999999],\n",
       "       dtype=float32),\n",
       " 'final': array([0.7871699 , 0.93477964, 0.982127  , 0.99823457, 1.        ],\n",
       "       dtype=float32)}"
      ]
     },
     "execution_count": 21,
     "metadata": {},
     "output_type": "execute_result"
    }
   ],
   "source": [
    "dimensionalities"
   ]
  },
  {
   "cell_type": "code",
   "execution_count": null,
   "metadata": {},
   "outputs": [],
   "source": []
  }
 ],
 "metadata": {
  "kernelspec": {
   "display_name": "Python 3",
   "language": "python",
   "name": "python3"
  },
  "language_info": {
   "codemirror_mode": {
    "name": "ipython",
    "version": 3
   },
   "file_extension": ".py",
   "mimetype": "text/x-python",
   "name": "python",
   "nbconvert_exporter": "python",
   "pygments_lexer": "ipython3",
   "version": "3.7.7"
  },
  "toc": {
   "base_numbering": 1,
   "nav_menu": {},
   "number_sections": true,
   "sideBar": true,
   "skip_h1_title": false,
   "title_cell": "Table of Contents",
   "title_sidebar": "Contents",
   "toc_cell": false,
   "toc_position": {},
   "toc_section_display": true,
   "toc_window_display": false
  }
 },
 "nbformat": 4,
 "nbformat_minor": 4
}
