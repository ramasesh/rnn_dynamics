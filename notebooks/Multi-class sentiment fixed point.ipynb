{
 "cells": [
  {
   "cell_type": "code",
   "execution_count": 1,
   "metadata": {
    "ExecuteTime": {
     "end_time": "2020-07-29T20:41:25.487435Z",
     "start_time": "2020-07-29T20:41:25.479882Z"
    }
   },
   "outputs": [
    {
     "name": "stdout",
     "output_type": "stream",
     "text": [
      "/usr/local/google/home/ramasesh/Projects/rnn_dynamics\n"
     ]
    }
   ],
   "source": [
    "cd .."
   ]
  },
  {
   "cell_type": "code",
   "execution_count": 37,
   "metadata": {
    "ExecuteTime": {
     "end_time": "2020-07-29T20:56:02.051435Z",
     "start_time": "2020-07-29T20:56:02.038867Z"
    }
   },
   "outputs": [],
   "source": [
    "import functools\n",
    "import jax.numpy as jnp\n",
    "import os\n",
    "import json\n",
    "import numpy as np\n",
    "\n",
    "import jax\n",
    "from jax.experimental import optimizers\n",
    "from src import data, model_utils\n",
    "from renn.rnn import cells, unroll, network\n",
    "from renn import utils\n",
    "import renn\n",
    "\n",
    "import tensorflow_datasets as tfds\n",
    "\n",
    "import matplotlib.pyplot as plt\n",
    "%matplotlib inline"
   ]
  },
  {
   "cell_type": "markdown",
   "metadata": {},
   "source": [
    "## Model and data loading"
   ]
  },
  {
   "cell_type": "code",
   "execution_count": 373,
   "metadata": {
    "ExecuteTime": {
     "end_time": "2020-07-30T00:42:18.725761Z",
     "start_time": "2020-07-30T00:42:18.721510Z"
    }
   },
   "outputs": [],
   "source": [
    "data_folder = 'results/yelp_3class_L2/LSTM_eta_0.01_L2_0.001_run_sodt7dgk/'"
   ]
  },
  {
   "cell_type": "code",
   "execution_count": 374,
   "metadata": {
    "ExecuteTime": {
     "end_time": "2020-07-30T00:42:22.288294Z",
     "start_time": "2020-07-30T00:42:22.283165Z"
    }
   },
   "outputs": [],
   "source": [
    "with open(os.path.join(data_folder, 'config.json')) as f:\n",
    "    config = json.load(f)"
   ]
  },
  {
   "cell_type": "markdown",
   "metadata": {
    "ExecuteTime": {
     "end_time": "2020-07-29T05:12:14.505590Z",
     "start_time": "2020-07-29T05:12:14.492213Z"
    }
   },
   "source": [
    "### Get data"
   ]
  },
  {
   "cell_type": "code",
   "execution_count": 375,
   "metadata": {
    "ExecuteTime": {
     "end_time": "2020-07-30T00:42:23.281203Z",
     "start_time": "2020-07-30T00:42:22.985237Z"
    }
   },
   "outputs": [
    {
     "name": "stdout",
     "output_type": "stream",
     "text": [
      "Using correct function\n"
     ]
    }
   ],
   "source": [
    "encoder, train_dset, test_dset = data.get_dataset(config['data'])"
   ]
  },
  {
   "cell_type": "markdown",
   "metadata": {},
   "source": [
    "### Get model"
   ]
  },
  {
   "cell_type": "code",
   "execution_count": 376,
   "metadata": {
    "ExecuteTime": {
     "end_time": "2020-07-30T00:42:26.062355Z",
     "start_time": "2020-07-30T00:42:26.056550Z"
    }
   },
   "outputs": [],
   "source": [
    "def get_cell(cell_type, **kwargs):\n",
    "    cell_functions = {'LSTM': cells.LSTM,\n",
    "                      'GRU': cells.GRU,\n",
    "                      'VanillaRNN': cells.VanillaRNN}\n",
    "    return cell_functions[cell_type](**kwargs)"
   ]
  },
  {
   "cell_type": "code",
   "execution_count": 377,
   "metadata": {
    "ExecuteTime": {
     "end_time": "2020-07-30T00:42:26.383522Z",
     "start_time": "2020-07-30T00:42:26.378747Z"
    }
   },
   "outputs": [],
   "source": [
    "cell = get_cell(config['model']['cell_type'],\n",
    "                num_units=config['model']['num_units'])"
   ]
  },
  {
   "cell_type": "code",
   "execution_count": 378,
   "metadata": {
    "ExecuteTime": {
     "end_time": "2020-07-30T00:42:26.573609Z",
     "start_time": "2020-07-30T00:42:26.567669Z"
    }
   },
   "outputs": [],
   "source": [
    "init_fun, apply_fun, emb_apply, readout_apply = network.build_rnn(encoder.vocab_size,\n",
    "                                                                  config['model']['emb_size'],\n",
    "                                                                  cell,\n",
    "                                                                  num_outputs=config['model']['num_outputs'])\n",
    "emb_init, emb_apply = renn.embedding(encoder.vocab_size, \n",
    "                                     config['model']['emb_size'])"
   ]
  },
  {
   "cell_type": "code",
   "execution_count": 379,
   "metadata": {
    "ExecuteTime": {
     "end_time": "2020-07-30T00:42:27.169808Z",
     "start_time": "2020-07-30T00:42:27.129198Z"
    }
   },
   "outputs": [],
   "source": [
    "network_params = model_utils.load_params(os.path.join(data_folder, 'final_params'))\n",
    "emb_params, rnn_params, readout_params = network_params"
   ]
  },
  {
   "cell_type": "code",
   "execution_count": 380,
   "metadata": {
    "ExecuteTime": {
     "end_time": "2020-07-30T00:42:27.614442Z",
     "start_time": "2020-07-30T00:42:27.585746Z"
    }
   },
   "outputs": [
    {
     "data": {
      "text/plain": [
       "DeviceArray(48.42125, dtype=float32)"
      ]
     },
     "execution_count": 380,
     "metadata": {},
     "output_type": "execute_result"
    }
   ],
   "source": [
    "optimizers.l2_norm(rnn_params)"
   ]
  },
  {
   "cell_type": "markdown",
   "metadata": {},
   "source": [
    "### Verify that model performs as we expect on the test set"
   ]
  },
  {
   "cell_type": "code",
   "execution_count": 325,
   "metadata": {
    "ExecuteTime": {
     "end_time": "2020-07-30T00:27:13.119277Z",
     "start_time": "2020-07-30T00:27:13.114595Z"
    }
   },
   "outputs": [],
   "source": [
    "acc_fun = utils.make_acc_fun(apply_fun,\n",
    "                             num_outputs = config['model']['num_outputs'])"
   ]
  },
  {
   "cell_type": "code",
   "execution_count": 326,
   "metadata": {
    "ExecuteTime": {
     "end_time": "2020-07-30T00:27:16.582295Z",
     "start_time": "2020-07-30T00:27:16.578804Z"
    }
   },
   "outputs": [],
   "source": [
    "# is_correct = []\n",
    "# for batch in tfds.as_numpy(test_dset):\n",
    "#     is_correct += [acc_fun(network_params, batch)]\n",
    "# test_acc = np.mean(is_correct)\n",
    "# print(f'Accuracy = {test_acc}')"
   ]
  },
  {
   "cell_type": "markdown",
   "metadata": {},
   "source": [
    "## Analysis"
   ]
  },
  {
   "cell_type": "markdown",
   "metadata": {},
   "source": [
    "### PCA of hidden states"
   ]
  },
  {
   "cell_type": "code",
   "execution_count": 381,
   "metadata": {
    "ExecuteTime": {
     "end_time": "2020-07-30T00:42:33.816053Z",
     "start_time": "2020-07-30T00:42:33.811704Z"
    }
   },
   "outputs": [],
   "source": [
    "from sklearn.decomposition import PCA"
   ]
  },
  {
   "cell_type": "code",
   "execution_count": 382,
   "metadata": {
    "ExecuteTime": {
     "end_time": "2020-07-30T00:42:33.974230Z",
     "start_time": "2020-07-30T00:42:33.958913Z"
    }
   },
   "outputs": [],
   "source": [
    "@jax.jit\n",
    "def _get_all_states(inputs):\n",
    "    rnn_inputs = emb_apply(emb_params, inputs)\n",
    "    initial_states = cell.get_initial_state(rnn_params, batch_size=rnn_inputs.shape[0])\n",
    "    return renn.unroll_rnn(initial_states, rnn_inputs, functools.partial(cell.batch_apply, rnn_params))\n",
    "\n",
    "def rnn_states(batch):\n",
    "    states = _get_all_states(batch['inputs'])\n",
    "    return [h[:idx] for h, idx in zip(states, batch['index'])]\n",
    "\n",
    "def rnn_end_states(batch):\n",
    "    states = rnn_states(batch)\n",
    "    return [h[-1] for h in states]"
   ]
  },
  {
   "cell_type": "code",
   "execution_count": 383,
   "metadata": {
    "ExecuteTime": {
     "end_time": "2020-07-30T00:42:36.341039Z",
     "start_time": "2020-07-30T00:42:34.119177Z"
    }
   },
   "outputs": [
    {
     "data": {
      "text/plain": [
       "(20660, 512)"
      ]
     },
     "execution_count": 383,
     "metadata": {},
     "output_type": "execute_result"
    }
   ],
   "source": [
    "test_batch = next(tfds.as_numpy(test_dset))\n",
    "\n",
    "hs = rnn_states(test_batch)\n",
    "end_states = rnn_end_states(test_batch)\n",
    "pts = np.vstack(hs)[::2]\n",
    "pts.shape"
   ]
  },
  {
   "cell_type": "code",
   "execution_count": 384,
   "metadata": {
    "ExecuteTime": {
     "end_time": "2020-07-30T00:42:36.373492Z",
     "start_time": "2020-07-30T00:42:36.342217Z"
    }
   },
   "outputs": [],
   "source": [
    "states_by_value = {k: [h for h, lbl in zip(hs, test_batch['labels']) if lbl == k] for k in range(config['model']['num_outputs'])}\n",
    "end_states_by_value = {k: [h for h, lbl in zip(end_states, test_batch['labels']) if lbl == k] for k in range(config['model']['num_outputs'])}"
   ]
  },
  {
   "cell_type": "code",
   "execution_count": 385,
   "metadata": {
    "ExecuteTime": {
     "end_time": "2020-07-30T00:42:36.381295Z",
     "start_time": "2020-07-30T00:42:36.375846Z"
    }
   },
   "outputs": [],
   "source": [
    "pca = PCA()"
   ]
  },
  {
   "cell_type": "code",
   "execution_count": 386,
   "metadata": {
    "ExecuteTime": {
     "end_time": "2020-07-30T00:42:37.019606Z",
     "start_time": "2020-07-30T00:42:36.383892Z"
    }
   },
   "outputs": [
    {
     "data": {
      "text/plain": [
       "PCA()"
      ]
     },
     "execution_count": 386,
     "metadata": {},
     "output_type": "execute_result"
    }
   ],
   "source": [
    "pca.fit(pts)"
   ]
  },
  {
   "cell_type": "code",
   "execution_count": 387,
   "metadata": {
    "ExecuteTime": {
     "end_time": "2020-07-30T00:42:37.023151Z",
     "start_time": "2020-07-30T00:42:37.021057Z"
    }
   },
   "outputs": [],
   "source": [
    "var_ratio = pca.explained_variance_ratio_\n",
    "var_ratio = np.cumsum(var_ratio)"
   ]
  },
  {
   "cell_type": "code",
   "execution_count": 388,
   "metadata": {
    "ExecuteTime": {
     "end_time": "2020-07-30T00:43:00.260800Z",
     "start_time": "2020-07-30T00:43:00.138584Z"
    }
   },
   "outputs": [
    {
     "data": {
      "text/plain": [
       "Text(0.5, 1.0, 'L2 = 0.001')"
      ]
     },
     "execution_count": 388,
     "metadata": {},
     "output_type": "execute_result"
    },
    {
     "data": {
      "image/png": "[encoded data removed]",
      "text/plain": [
       "<Figure size 432x288 with 1 Axes>"
      ]
     },
     "metadata": {
      "needs_background": "light"
     },
     "output_type": "display_data"
    }
   ],
   "source": [
    "plt.scatter(range(len(var_ratio)), var_ratio)\n",
    "plt.xlabel('Dimension')\n",
    "plt.ylabel('Variance explained')\n",
    "plt.ylim(0,1)\n",
    "plt.text(00, 0.2, f'First 4 variances: {np.round(var_ratio[:4],2)}');\n",
    "\n",
    "L2 = config['optim']['L2']\n",
    "plt.title(f'L2 = {L2}')"
   ]
  },
  {
   "cell_type": "markdown",
   "metadata": {},
   "source": [
    "### Visualizing the hidden states projected into 2D PCA plane"
   ]
  },
  {
   "cell_type": "code",
   "execution_count": 278,
   "metadata": {
    "ExecuteTime": {
     "end_time": "2020-07-30T00:11:01.152399Z",
     "start_time": "2020-07-30T00:11:00.951406Z"
    }
   },
   "outputs": [
    {
     "data": {
      "text/plain": [
       "<matplotlib.legend.Legend at 0x7fd060771580>"
      ]
     },
     "execution_count": 278,
     "metadata": {},
     "output_type": "execute_result"
    },
    {
     "data": {
      "image/png": "[encoded data removed]",
      "text/plain": [
       "<Figure size 576x576 with 1 Axes>"
      ]
     },
     "metadata": {
      "needs_background": "light"
     },
     "output_type": "display_data"
    }
   ],
   "source": [
    "plt.figure(figsize=(8,8))\n",
    "\n",
    "dim_0 = 0\n",
    "dim_1 = 1\n",
    "\n",
    "colors = ['red', 'blue', 'green']\n",
    "\n",
    "for k in range(config['model']['num_outputs']):\n",
    "    transformed = pca.transform(np.vstack(end_states_by_value[k])).T\n",
    "    x = transformed[dim_0]\n",
    "    y = transformed[dim_1]\n",
    "\n",
    "    plt.scatter(x, y, marker='.', label=f'{k+1} star', color=colors[k])\n",
    "    \n",
    "#     transformed = pca.transform(np.vstack(states_by_value[k])).T\n",
    "#     x = transformed[dim_0]\n",
    "#     y = transformed[dim_1]\n",
    "#     plt.scatter(x, y, alpha=0.01, color=colors[k])\n",
    "\n",
    "# readout_weight = readout_params[0]\n",
    "# x_ro = transformed_readout[dim_0]\n",
    "# y_ro = transformed_readout[dim_1]\n",
    "\n",
    "# for i in range(len(x_ro)):\n",
    "#     plt.plot([0, x_ro[i]], [0, y_ro[i]])\n",
    "    \n",
    "plt.xlabel(f'PC Component {dim_0}')          \n",
    "plt.ylabel(f'PC Component {dim_1}')\n",
    "plt.axis('square')\n",
    "plt.legend(loc='upper right')"
   ]
  },
  {
   "cell_type": "markdown",
   "metadata": {},
   "source": [
    "### Visualize the final states in the 2D plane"
   ]
  },
  {
   "cell_type": "markdown",
   "metadata": {},
   "source": [
    "### Find the fixed points"
   ]
  },
  {
   "cell_type": "code",
   "execution_count": 279,
   "metadata": {
    "ExecuteTime": {
     "end_time": "2020-07-30T00:11:03.620199Z",
     "start_time": "2020-07-30T00:11:03.615586Z"
    }
   },
   "outputs": [],
   "source": [
    "fp_loss_fun = renn.build_fixed_point_loss(cell, rnn_params)"
   ]
  },
  {
   "cell_type": "code",
   "execution_count": 311,
   "metadata": {
    "ExecuteTime": {
     "end_time": "2020-07-30T00:20:42.759478Z",
     "start_time": "2020-07-30T00:20:40.756684Z"
    }
   },
   "outputs": [
    {
     "name": "stderr",
     "output_type": "stream",
     "text": [
      "  2%|▏         | 211/10000 [00:01<01:31, 107.42it/s]\n"
     ]
    }
   ],
   "source": [
    "FIXED_POINT_TOLERANCE = 1e-5\n",
    "\n",
    "fixed_points, loss_hist, fp_losses = renn.find_fixed_points(fp_loss_fun, \n",
    "                                                            pts,\n",
    "                                                            jnp.zeros((pts.shape[0], config['model']['emb_size'])),\n",
    "                                                            optimizers.adam(0.01),\n",
    "                                                            tolerance=FIXED_POINT_TOLERANCE)"
   ]
  },
  {
   "cell_type": "code",
   "execution_count": 312,
   "metadata": {
    "ExecuteTime": {
     "end_time": "2020-07-30T00:20:43.815464Z",
     "start_time": "2020-07-30T00:20:43.606006Z"
    }
   },
   "outputs": [
    {
     "data": {
      "text/plain": [
       "Text(0, 0.5, 'Fixed point loss')"
      ]
     },
     "execution_count": 312,
     "metadata": {},
     "output_type": "execute_result"
    },
    {
     "data": {
      "image/png": "[encoded data removed]",
      "text/plain": [
       "<Figure size 432x288 with 1 Axes>"
      ]
     },
     "metadata": {
      "needs_background": "light"
     },
     "output_type": "display_data"
    }
   ],
   "source": [
    "plt.semilogy(loss_hist)\n",
    "plt.xlabel('Fixed-point finder iteration')\n",
    "plt.ylabel('Fixed point loss')"
   ]
  },
  {
   "cell_type": "code",
   "execution_count": 314,
   "metadata": {
    "ExecuteTime": {
     "end_time": "2020-07-30T00:21:13.587965Z",
     "start_time": "2020-07-30T00:21:13.234556Z"
    }
   },
   "outputs": [
    {
     "data": {
      "text/plain": [
       "Text(0, 0.5, 'Projection onto principal component #2')"
      ]
     },
     "execution_count": 314,
     "metadata": {},
     "output_type": "execute_result"
    },
    {
     "data": {
      "image/png": "[encoded data removed]",
      "text/plain": [
       "<Figure size 360x288 with 2 Axes>"
      ]
     },
     "metadata": {
      "needs_background": "light"
     },
     "output_type": "display_data"
    }
   ],
   "source": [
    "plt.figure(figsize=(5, 4))\n",
    "\n",
    "THRESHOLD = 1e-5\n",
    "\n",
    "transformed_fp = pca.transform(fixed_points).T\n",
    "x = transformed_fp[dim_0]\n",
    "y = transformed_fp[dim_1]\n",
    "\n",
    "mask = fp_losses < THRESHOLD\n",
    "\n",
    "x = x[mask]\n",
    "y = y[mask]\n",
    "\n",
    "plt.scatter(x, y, s=20, c=np.log10(fp_losses[mask]))\n",
    "# plt.xlim(-8, 8)\n",
    "# plt.ylim(-8, 8)\n",
    "plt.grid()\n",
    "\n",
    "plt.title('Fixed-point manifold')\n",
    "\n",
    "plt.colorbar()\n",
    "\n",
    "plt.xlabel('Projection onto principal component #1')\n",
    "plt.ylabel('Projection onto principal component #2')"
   ]
  },
  {
   "cell_type": "markdown",
   "metadata": {},
   "source": [
    "#### Dimensionality of the fixed point manifold"
   ]
  },
  {
   "cell_type": "code",
   "execution_count": 283,
   "metadata": {
    "ExecuteTime": {
     "end_time": "2020-07-30T00:11:10.812072Z",
     "start_time": "2020-07-30T00:11:10.335015Z"
    }
   },
   "outputs": [
    {
     "data": {
      "text/plain": [
       "PCA()"
      ]
     },
     "execution_count": 283,
     "metadata": {},
     "output_type": "execute_result"
    }
   ],
   "source": [
    "fp_pca = PCA()\n",
    "fp_pca.fit(fixed_points)"
   ]
  },
  {
   "cell_type": "code",
   "execution_count": 284,
   "metadata": {
    "ExecuteTime": {
     "end_time": "2020-07-30T00:11:11.036516Z",
     "start_time": "2020-07-30T00:11:10.931649Z"
    }
   },
   "outputs": [
    {
     "data": {
      "text/plain": [
       "(0.0, 10.0)"
      ]
     },
     "execution_count": 284,
     "metadata": {},
     "output_type": "execute_result"
    },
    {
     "data": {
      "image/png": "[encoded data removed]",
      "text/plain": [
       "<Figure size 432x288 with 1 Axes>"
      ]
     },
     "metadata": {
      "needs_background": "light"
     },
     "output_type": "display_data"
    }
   ],
   "source": [
    "fp_var_ratio = fp_pca.explained_variance_ratio_\n",
    "fp_var_ratio = np.cumsum(fp_var_ratio)\n",
    "\n",
    "plt.scatter(range(len(fp_var_ratio)), fp_var_ratio)\n",
    "plt.xlabel('Dimension')\n",
    "plt.ylabel('Variance explained')\n",
    "plt.ylim(0,1)\n",
    "plt.text(00, 0.2, f'First 4 variances: {np.round(fp_var_ratio[:4],2)}');\n",
    "plt.xlim(0,10)"
   ]
  },
  {
   "cell_type": "code",
   "execution_count": 285,
   "metadata": {
    "ExecuteTime": {
     "end_time": "2020-07-30T00:11:14.630301Z",
     "start_time": "2020-07-30T00:11:14.621196Z"
    }
   },
   "outputs": [],
   "source": [
    "transformed_readout= pca.transform(readout_weight.T).T"
   ]
  },
  {
   "cell_type": "code",
   "execution_count": 286,
   "metadata": {
    "ExecuteTime": {
     "end_time": "2020-07-30T00:11:14.855467Z",
     "start_time": "2020-07-30T00:11:14.848862Z"
    }
   },
   "outputs": [],
   "source": [
    "readout_weight = readout_params[0]\n",
    "transformed_readout= pca.transform(readout_weight.T).T"
   ]
  },
  {
   "cell_type": "code",
   "execution_count": 290,
   "metadata": {
    "ExecuteTime": {
     "end_time": "2020-07-30T00:11:58.432673Z",
     "start_time": "2020-07-30T00:11:58.023808Z"
    }
   },
   "outputs": [
    {
     "data": {
      "text/plain": [
       "<matplotlib.legend.Legend at 0x7fd2ba5dd820>"
      ]
     },
     "execution_count": 290,
     "metadata": {},
     "output_type": "execute_result"
    },
    {
     "data": {
      "image/png": "[encoded data removed]",
      "text/plain": [
       "<Figure size 576x576 with 1 Axes>"
      ]
     },
     "metadata": {
      "needs_background": "light"
     },
     "output_type": "display_data"
    }
   ],
   "source": [
    "plt.figure(figsize=(8,8))\n",
    "\n",
    "dim_0 = 0\n",
    "dim_1 = 1\n",
    "\n",
    "for k in range(config['model']['num_outputs']):\n",
    "    transformed = pca.transform(np.vstack(end_states_by_value[k])).T\n",
    "    x = transformed[dim_0]\n",
    "    y = transformed[dim_1]\n",
    "\n",
    "    plt.scatter(x, y, marker='.', label=f'{k+1} star')\n",
    "\n",
    "transformed_fp = pca.transform(fixed_points).T\n",
    "x = transformed_fp[dim_0]\n",
    "y = transformed_fp[dim_1]\n",
    "\n",
    "mask = fp_losses < THRESHOLD\n",
    "\n",
    "x = x[mask]\n",
    "y = y[mask]\n",
    "\n",
    "plt.scatter(x, y, s=20, c=np.log10(fp_losses[mask]))\n",
    "    \n",
    "readout_weight = readout_params[0]\n",
    "transformed_readout= pca.transform(readout_weight.T).T\n",
    "x_ro = transformed_readout[dim_0]\n",
    "y_ro = transformed_readout[dim_1]\n",
    "\n",
    "for i in range(len(x_ro)):\n",
    "    plt.plot([0, x_ro[i]], [0, y_ro[i]])\n",
    "    \n",
    "plt.xlabel(f'PC Component {dim_0}')          \n",
    "plt.ylabel(f'PC Component {dim_1}')\n",
    "plt.axis('square')\n",
    "plt.legend(loc='upper right')"
   ]
  },
  {
   "cell_type": "markdown",
   "metadata": {},
   "source": [
    "To check:\n",
    "Using the sklearn PCA projection, it computes the mean and uses that mean in the transform.  For the fixed points that shouldn't be a problem, but the readout weights could definitely be affected.  "
   ]
  },
  {
   "cell_type": "code",
   "execution_count": 340,
   "metadata": {
    "ExecuteTime": {
     "end_time": "2020-07-30T00:28:00.935432Z",
     "start_time": "2020-07-30T00:28:00.903174Z"
    }
   },
   "outputs": [
    {
     "data": {
      "text/plain": [
       "DeviceArray(74.12984, dtype=float32)"
      ]
     },
     "execution_count": 340,
     "metadata": {},
     "output_type": "execute_result"
    }
   ],
   "source": []
  },
  {
   "cell_type": "code",
   "execution_count": null,
   "metadata": {},
   "outputs": [],
   "source": []
  }
 ],
 "metadata": {
  "kernelspec": {
   "display_name": "Python 3",
   "language": "python",
   "name": "python3"
  },
  "language_info": {
   "codemirror_mode": {
    "name": "ipython",
    "version": 3
   },
   "file_extension": ".py",
   "mimetype": "text/x-python",
   "name": "python",
   "nbconvert_exporter": "python",
   "pygments_lexer": "ipython3",
   "version": "3.8.4rc1"
  },
  "toc": {
   "base_numbering": 1,
   "nav_menu": {},
   "number_sections": true,
   "sideBar": true,
   "skip_h1_title": false,
   "title_cell": "Table of Contents",
   "title_sidebar": "Contents",
   "toc_cell": false,
   "toc_position": {},
   "toc_section_display": true,
   "toc_window_display": false
  }
 },
 "nbformat": 4,
 "nbformat_minor": 4
}
