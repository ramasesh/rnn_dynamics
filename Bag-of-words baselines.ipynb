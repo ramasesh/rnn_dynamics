{
 "cells": [
  {
   "cell_type": "code",
   "execution_count": 1,
   "metadata": {
    "ExecuteTime": {
     "end_time": "2020-08-12T19:00:44.661583Z",
     "start_time": "2020-08-12T19:00:43.064683Z"
    }
   },
   "outputs": [],
   "source": [
    "import renn"
   ]
  },
  {
   "cell_type": "code",
   "execution_count": 37,
   "metadata": {
    "ExecuteTime": {
     "end_time": "2020-08-12T19:48:38.053786Z",
     "start_time": "2020-08-12T19:48:38.047860Z"
    }
   },
   "outputs": [],
   "source": [
    "import tensorflow_datasets as tfds\n",
    "import jax\n",
    "import jax.numpy as jnp\n",
    "\n",
    "from jax.experimental import stax, optimizers\n",
    "\n",
    "import numpy as np\n",
    "\n",
    "from renn.losses import multiclass_xent\n",
    "\n",
    "from tqdm import tqdm\n",
    "from functools import partial"
   ]
  },
  {
   "cell_type": "code",
   "execution_count": 65,
   "metadata": {
    "ExecuteTime": {
     "end_time": "2020-08-12T20:13:47.994404Z",
     "start_time": "2020-08-12T20:13:44.230579Z"
    }
   },
   "outputs": [],
   "source": [
    "vocab_file='./data/vocab/ag_news.vocab'\n",
    "\n",
    "seq_length = 160\n",
    "num_classes = 2\n",
    "\n",
    "def filter_fn(item):\n",
    "    return item['labels'] < num_classes\n",
    "\n",
    "# Load data\n",
    "train_dset = renn.data.ag_news('train', vocab_file, sequence_length=seq_length, data_dir='./data', filter_fn=filter_fn)\n",
    "test_dset = renn.data.ag_news('test', vocab_file, sequence_length=seq_length, data_dir='./data', filter_fn=filter_fn)\n",
    "\n",
    "# Load vocab\n",
    "with open(vocab_file, 'r') as f:\n",
    "    vocab = f.readlines()\n",
    "vocab_size = len(vocab)\n",
    "\n",
    "example = next(iter(train_dset))"
   ]
  },
  {
   "cell_type": "code",
   "execution_count": 66,
   "metadata": {
    "ExecuteTime": {
     "end_time": "2020-08-12T20:13:48.000664Z",
     "start_time": "2020-08-12T20:13:47.997078Z"
    }
   },
   "outputs": [],
   "source": [
    "def SequenceSum():\n",
    "    def init_fun(_, input_shape):\n",
    "        return (input_shape[0], input_shape[2]), ()\n",
    "    def apply_fun(_, inputs, **kwargs):\n",
    "        return jnp.sum(inputs, axis=1)\n",
    "    return init_fun, apply_fun"
   ]
  },
  {
   "cell_type": "code",
   "execution_count": 74,
   "metadata": {
    "ExecuteTime": {
     "end_time": "2020-08-12T20:18:59.034023Z",
     "start_time": "2020-08-12T20:18:59.003946Z"
    }
   },
   "outputs": [],
   "source": [
    "emb_size = 32\n",
    "\n",
    "input_shape = (-1, seq_length)\n",
    "l2_pen = 0\n",
    "\n",
    "# Linear model\n",
    "init_fun, apply_fun = stax.serial(\n",
    "    renn.embedding(vocab_size, emb_size),\n",
    "    SequenceSum(),\n",
    "    stax.Dense(num_classes),\n",
    "    )\n",
    "\n",
    "# Initialize\n",
    "key = jax.random.PRNGKey(0)\n",
    "output_shape, initial_params = init_fun(key, input_shape)\n",
    "\n",
    "# Hack to set the embedding to 0 for 0\n",
    "emb = initial_params[0]\n",
    "new_emb = np.array(emb)\n",
    "new_emb[0] = np.zeros(emb_size)\n",
    "initial_params = [jnp.array(new_emb), *initial_params[1:]]\n",
    "\n",
    "# Loss\n",
    "def xent(params, batch):\n",
    "    logits = apply_fun(params, batch['inputs'])\n",
    "    data_loss = multiclass_xent(logits, batch['labels'])\n",
    "    reg_loss = l2_pen * renn.norm(params)\n",
    "    return data_loss + reg_loss\n",
    "\n",
    "f_df = jax.value_and_grad(xent)\n",
    "\n",
    "# Accuracy\n",
    "@jax.jit\n",
    "def accuracy(params, batch):\n",
    "    logits = apply_fun(params, batch['inputs'])\n",
    "    predictions = jnp.argmax(logits, axis=1)\n",
    "    return jnp.mean(predictions == batch['labels'])\n",
    "\n"
   ]
  },
  {
   "cell_type": "code",
   "execution_count": 75,
   "metadata": {
    "ExecuteTime": {
     "end_time": "2020-08-12T20:18:59.360173Z",
     "start_time": "2020-08-12T20:18:59.310514Z"
    }
   },
   "outputs": [],
   "source": [
    "learning_rate = optimizers.exponential_decay(2e-3, 1000, 0.8)\n",
    "init_opt, update_opt, get_params = optimizers.adam(learning_rate)\n",
    "\n",
    "state = init_opt(initial_params)\n",
    "losses = []\n",
    "\n",
    "@jax.jit\n",
    "def step(k, opt_state, batch):\n",
    "    params = get_params(opt_state)\n",
    "    loss, gradients = f_df(params, batch)\n",
    "    new_state = update_opt(k, gradients, opt_state)\n",
    "    return new_state, loss\n",
    "\n",
    "def test_acc(params):\n",
    "    return jnp.array([accuracy(params, batch) for batch in tfds.as_numpy(test_dset)])"
   ]
  },
  {
   "cell_type": "code",
   "execution_count": 76,
   "metadata": {
    "ExecuteTime": {
     "end_time": "2020-08-12T20:19:15.138404Z",
     "start_time": "2020-08-12T20:18:59.444676Z"
    }
   },
   "outputs": [
    {
     "name": "stdout",
     "output_type": "stream",
     "text": [
      "=====================================\n",
      "== Epoch #0\n",
      "== Test accuracy: 53.80%\n",
      "=====================================\n",
      "[step 0]\tLoss: nan\n",
      "[step 100]\tLoss: 0.2527\n",
      "[step 200]\tLoss: 0.1102\n",
      "[step 300]\tLoss: 0.1061\n",
      "[step 400]\tLoss: 0.0946\n",
      "[step 500]\tLoss: 0.1012\n",
      "[step 600]\tLoss: 0.0858\n",
      "[step 700]\tLoss: 0.0788\n",
      "[step 800]\tLoss: 0.0933\n",
      "[step 900]\tLoss: 0.0817\n",
      "=====================================\n",
      "== Epoch #1\n",
      "== Test accuracy: 97.32%\n",
      "=====================================\n",
      "[step 1000]\tLoss: 0.0596\n",
      "[step 1100]\tLoss: 0.0344\n",
      "[step 1200]\tLoss: 0.0308\n",
      "[step 1300]\tLoss: 0.0412\n",
      "[step 1400]\tLoss: 0.0392\n",
      "[step 1500]\tLoss: 0.0437\n",
      "[step 1600]\tLoss: 0.0299\n",
      "[step 1700]\tLoss: 0.0300\n",
      "[step 1800]\tLoss: 0.0295\n",
      "=====================================\n",
      "== Epoch #2\n",
      "== Test accuracy: 97.22%\n",
      "=====================================\n",
      "[step 1900]\tLoss: 0.0351\n",
      "[step 2000]\tLoss: 0.0232\n",
      "[step 2100]\tLoss: 0.0149\n",
      "[step 2200]\tLoss: 0.0188\n",
      "[step 2300]\tLoss: 0.0168\n",
      "[step 2400]\tLoss: 0.0236\n",
      "[step 2500]\tLoss: 0.0239\n",
      "[step 2600]\tLoss: 0.0169\n",
      "[step 2700]\tLoss: 0.0112\n",
      "[step 2800]\tLoss: 0.0149\n",
      "=====================================\n",
      "== Epoch #2\n",
      "== Test accuracy: 96.69%\n",
      "=====================================\n"
     ]
    }
   ],
   "source": [
    "for epoch in range(3):\n",
    "    print('=====================================')\n",
    "    print(f'== Epoch #{epoch}')\n",
    "    p = get_params(state)\n",
    "    acc = np.mean(test_acc(p))\n",
    "    print(f'== Test accuracy: {100. * acc:0.2f}%')\n",
    "    print('=====================================')\n",
    "    \n",
    "    for batch in tfds.as_numpy(train_dset):\n",
    "        k = len(losses)\n",
    "        state, loss = step(k, state, batch)\n",
    "        losses.append(loss)\n",
    "\n",
    "        if k % 100 == 0:\n",
    "            p = get_params(state)\n",
    "            print(f'[step {k}]\\tLoss: {np.mean(losses[k-100:k]):0.4f}', flush=True)\n",
    "            \n",
    "print('=====================================')\n",
    "print(f'== Epoch #{epoch}')\n",
    "p = get_params(state)\n",
    "acc = np.mean(test_acc(p))\n",
    "print(f'== Test accuracy: {100. * acc:0.2f}%')\n",
    "print('=====================================')"
   ]
  },
  {
   "cell_type": "code",
   "execution_count": 77,
   "metadata": {
    "ExecuteTime": {
     "end_time": "2020-08-12T20:19:15.142512Z",
     "start_time": "2020-08-12T20:19:15.140114Z"
    }
   },
   "outputs": [],
   "source": [
    "params = get_params(state)"
   ]
  },
  {
   "cell_type": "code",
   "execution_count": null,
   "metadata": {},
   "outputs": [],
   "source": []
  }
 ],
 "metadata": {
  "kernelspec": {
   "display_name": "Python 3",
   "language": "python",
   "name": "python3"
  },
  "language_info": {
   "codemirror_mode": {
    "name": "ipython",
    "version": 3
   },
   "file_extension": ".py",
   "mimetype": "text/x-python",
   "name": "python",
   "nbconvert_exporter": "python",
   "pygments_lexer": "ipython3",
   "version": "3.7.7"
  },
  "toc": {
   "base_numbering": 1,
   "nav_menu": {},
   "number_sections": true,
   "sideBar": true,
   "skip_h1_title": false,
   "title_cell": "Table of Contents",
   "title_sidebar": "Contents",
   "toc_cell": false,
   "toc_position": {},
   "toc_section_display": true,
   "toc_window_display": false
  }
 },
 "nbformat": 4,
 "nbformat_minor": 4
}
