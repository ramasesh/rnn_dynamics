{
 "cells": [
  {
   "cell_type": "code",
   "execution_count": 1,
   "metadata": {
    "ExecuteTime": {
     "end_time": "2020-08-21T03:02:39.410972Z",
     "start_time": "2020-08-21T03:02:39.405641Z"
    }
   },
   "outputs": [
    {
     "name": "stdout",
     "output_type": "stream",
     "text": [
      "env: XLA_PYTHON_CLIENT_MEM_FRACTION=0.25\n"
     ]
    }
   ],
   "source": [
    "env XLA_PYTHON_CLIENT_MEM_FRACTION=0.25"
   ]
  },
  {
   "cell_type": "code",
   "execution_count": 2,
   "metadata": {
    "ExecuteTime": {
     "end_time": "2020-08-21T03:02:41.727514Z",
     "start_time": "2020-08-21T03:02:40.040241Z"
    }
   },
   "outputs": [],
   "source": [
    "import renn"
   ]
  },
  {
   "cell_type": "code",
   "execution_count": 15,
   "metadata": {
    "ExecuteTime": {
     "end_time": "2020-08-21T03:46:39.266798Z",
     "start_time": "2020-08-21T03:46:39.261307Z"
    }
   },
   "outputs": [],
   "source": [
    "import tensorflow_datasets as tfds\n",
    "import jax\n",
    "import jax.numpy as jnp\n",
    "\n",
    "from jax.experimental import stax, optimizers\n",
    "\n",
    "import numpy as np\n",
    "\n",
    "from renn.losses import multiclass_xent\n",
    "\n",
    "from tqdm import tqdm\n",
    "from functools import partial\n",
    "from renn import serialize"
   ]
  },
  {
   "cell_type": "code",
   "execution_count": 4,
   "metadata": {
    "ExecuteTime": {
     "end_time": "2020-08-21T03:02:45.658554Z",
     "start_time": "2020-08-21T03:02:41.733079Z"
    }
   },
   "outputs": [
    {
     "name": "stdout",
     "output_type": "stream",
     "text": [
      "WARNING:tensorflow:From /usr/local/google/home/ramasesh/VirtualEnvs/dyn/lib/python3.7/site-packages/tensorflow/python/util/dispatch.py:201: batch_gather (from tensorflow.python.ops.array_ops) is deprecated and will be removed after 2017-10-25.\n",
      "Instructions for updating:\n",
      "`tf.batch_gather` is deprecated, please use `tf.gather` with `batch_dims=-1` instead.\n"
     ]
    },
    {
     "name": "stderr",
     "output_type": "stream",
     "text": [
      "WARNING:tensorflow:From /usr/local/google/home/ramasesh/VirtualEnvs/dyn/lib/python3.7/site-packages/tensorflow/python/util/dispatch.py:201: batch_gather (from tensorflow.python.ops.array_ops) is deprecated and will be removed after 2017-10-25.\n",
      "Instructions for updating:\n",
      "`tf.batch_gather` is deprecated, please use `tf.gather` with `batch_dims=-1` instead.\n"
     ]
    }
   ],
   "source": [
    "vocab_file='./data/vocab/ag_news.vocab'\n",
    "\n",
    "seq_length = 160\n",
    "num_classes = 3\n",
    "\n",
    "def filter_fn(item):\n",
    "    return item['labels'] < num_classes\n",
    "\n",
    "# Load data\n",
    "train_dset = renn.data.ag_news('train', vocab_file, sequence_length=seq_length, data_dir='./data', filter_fn=filter_fn)\n",
    "test_dset = renn.data.ag_news('test', vocab_file, sequence_length=seq_length, data_dir='./data', filter_fn=filter_fn)\n",
    "\n",
    "# Load vocab\n",
    "with open(vocab_file, 'r') as f:\n",
    "    vocab = f.readlines()\n",
    "vocab_size = len(vocab)\n",
    "\n",
    "example = next(iter(train_dset))"
   ]
  },
  {
   "cell_type": "code",
   "execution_count": 5,
   "metadata": {
    "ExecuteTime": {
     "end_time": "2020-08-21T03:02:45.664817Z",
     "start_time": "2020-08-21T03:02:45.660808Z"
    }
   },
   "outputs": [],
   "source": [
    "def SequenceSum():\n",
    "    def init_fun(_, input_shape):\n",
    "        return (input_shape[0], input_shape[2]), ()\n",
    "    def apply_fun(_, inputs, **kwargs):\n",
    "        return jnp.sum(inputs, axis=1)\n",
    "    return init_fun, apply_fun"
   ]
  },
  {
   "cell_type": "code",
   "execution_count": 6,
   "metadata": {
    "ExecuteTime": {
     "end_time": "2020-08-21T03:02:47.998696Z",
     "start_time": "2020-08-21T03:02:45.666096Z"
    }
   },
   "outputs": [],
   "source": [
    "emb_size = 32\n",
    "\n",
    "input_shape = (-1, seq_length)\n",
    "l2_pen = 0\n",
    "\n",
    "# Linear model\n",
    "init_fun, apply_fun = stax.serial(\n",
    "    renn.embedding(vocab_size, emb_size),\n",
    "    SequenceSum(),\n",
    "    stax.Dense(num_classes),\n",
    "    )\n",
    "\n",
    "# Initialize\n",
    "key = jax.random.PRNGKey(0)\n",
    "output_shape, initial_params = init_fun(key, input_shape)\n",
    "\n",
    "# Hack to set the embedding to 0 for 0\n",
    "emb = initial_params[0]\n",
    "new_emb = np.array(emb)\n",
    "new_emb[0] = np.zeros(emb_size)\n",
    "initial_params = [jnp.array(new_emb), *initial_params[1:]]\n",
    "\n",
    "# Loss\n",
    "def xent(params, batch):\n",
    "    logits = apply_fun(params, batch['inputs'])\n",
    "    data_loss = multiclass_xent(logits, batch['labels'])\n",
    "    reg_loss = l2_pen * renn.norm(params)\n",
    "    return data_loss + reg_loss\n",
    "\n",
    "f_df = jax.value_and_grad(xent)\n",
    "\n",
    "# Accuracy\n",
    "@jax.jit\n",
    "def accuracy(params, batch):\n",
    "    logits = apply_fun(params, batch['inputs'])\n",
    "    predictions = jnp.argmax(logits, axis=1)\n",
    "    return jnp.mean(predictions == batch['labels'])\n",
    "\n"
   ]
  },
  {
   "cell_type": "code",
   "execution_count": 7,
   "metadata": {
    "ExecuteTime": {
     "end_time": "2020-08-21T03:02:48.005512Z",
     "start_time": "2020-08-21T03:02:48.000546Z"
    }
   },
   "outputs": [],
   "source": [
    "learning_rate = optimizers.exponential_decay(2e-3, 1000, 0.8)\n",
    "init_opt, update_opt, get_params = optimizers.adam(learning_rate)\n",
    "\n",
    "state = init_opt(initial_params)\n",
    "losses = []\n",
    "\n",
    "@jax.jit\n",
    "def step(k, opt_state, batch):\n",
    "    params = get_params(opt_state)\n",
    "    loss, gradients = f_df(params, batch)\n",
    "    new_state = update_opt(k, gradients, opt_state)\n",
    "    return new_state, loss\n",
    "\n",
    "def test_acc(params):\n",
    "    return jnp.array([accuracy(params, batch) for batch in tfds.as_numpy(test_dset)])"
   ]
  },
  {
   "cell_type": "code",
   "execution_count": 8,
   "metadata": {
    "ExecuteTime": {
     "end_time": "2020-08-21T03:04:17.740974Z",
     "start_time": "2020-08-21T03:02:48.006708Z"
    }
   },
   "outputs": [
    {
     "name": "stdout",
     "output_type": "stream",
     "text": [
      "=====================================\n",
      "== Epoch #0\n",
      "== Test accuracy: 32.57%\n",
      "=====================================\n",
      "[step 0]\tLoss: nan\n"
     ]
    },
    {
     "name": "stderr",
     "output_type": "stream",
     "text": [
      "/usr/local/google/home/ramasesh/VirtualEnvs/dyn/lib/python3.7/site-packages/numpy/core/fromnumeric.py:3335: RuntimeWarning: Mean of empty slice.\n",
      "  out=out, **kwargs)\n",
      "/usr/local/google/home/ramasesh/VirtualEnvs/dyn/lib/python3.7/site-packages/numpy/core/_methods.py:161: RuntimeWarning: invalid value encountered in double_scalars\n",
      "  ret = ret.dtype.type(ret / rcount)\n"
     ]
    },
    {
     "name": "stdout",
     "output_type": "stream",
     "text": [
      "[step 100]\tLoss: 0.4913\n",
      "[step 200]\tLoss: 0.2279\n",
      "[step 300]\tLoss: 0.1965\n",
      "[step 400]\tLoss: 0.2071\n",
      "[step 500]\tLoss: 0.1950\n",
      "[step 600]\tLoss: 0.1865\n",
      "[step 700]\tLoss: 0.1836\n",
      "[step 800]\tLoss: 0.1751\n",
      "[step 900]\tLoss: 0.1717\n",
      "[step 1000]\tLoss: 0.1686\n",
      "[step 1100]\tLoss: 0.1725\n",
      "[step 1200]\tLoss: 0.1511\n",
      "[step 1300]\tLoss: 0.1658\n",
      "[step 1400]\tLoss: 0.1638\n",
      "=====================================\n",
      "== Epoch #1\n",
      "== Test accuracy: 94.79%\n",
      "=====================================\n",
      "[step 1500]\tLoss: 0.1131\n",
      "[step 1600]\tLoss: 0.0870\n",
      "[step 1700]\tLoss: 0.0777\n",
      "[step 1800]\tLoss: 0.0867\n",
      "[step 1900]\tLoss: 0.0832\n",
      "[step 2000]\tLoss: 0.0772\n",
      "[step 2100]\tLoss: 0.0848\n",
      "[step 2200]\tLoss: 0.0755\n",
      "[step 2300]\tLoss: 0.0857\n",
      "[step 2400]\tLoss: 0.0765\n",
      "[step 2500]\tLoss: 0.0867\n",
      "[step 2600]\tLoss: 0.0710\n",
      "[step 2700]\tLoss: 0.0775\n",
      "[step 2800]\tLoss: 0.0890\n",
      "=====================================\n",
      "== Epoch #2\n",
      "== Test accuracy: 94.17%\n",
      "=====================================\n",
      "[step 2900]\tLoss: 0.0791\n",
      "[step 3000]\tLoss: 0.0526\n",
      "[step 3100]\tLoss: 0.0499\n",
      "[step 3200]\tLoss: 0.0475\n",
      "[step 3300]\tLoss: 0.0472\n",
      "[step 3400]\tLoss: 0.0429\n",
      "[step 3500]\tLoss: 0.0571\n",
      "[step 3600]\tLoss: 0.0433\n",
      "[step 3700]\tLoss: 0.0461\n",
      "[step 3800]\tLoss: 0.0477\n",
      "[step 3900]\tLoss: 0.0465\n",
      "[step 4000]\tLoss: 0.0456\n",
      "[step 4100]\tLoss: 0.0423\n",
      "[step 4200]\tLoss: 0.0522\n",
      "=====================================\n",
      "== Epoch #2\n",
      "== Test accuracy: 93.87%\n",
      "=====================================\n"
     ]
    }
   ],
   "source": [
    "for epoch in range(1):\n",
    "    print('=====================================')\n",
    "    print(f'== Epoch #{epoch}')\n",
    "    p = get_params(state)\n",
    "    acc = np.mean(test_acc(p))\n",
    "    print(f'== Test accuracy: {100. * acc:0.2f}%')\n",
    "    print('=====================================')\n",
    "    \n",
    "    for batch in tfds.as_numpy(train_dset):\n",
    "        k = len(losses)\n",
    "        state, loss = step(k, state, batch)\n",
    "        losses.append(loss)\n",
    "\n",
    "        if k % 100 == 0:\n",
    "            p = get_params(state)\n",
    "            print(f'[step {k}]\\tLoss: {np.mean(losses[k-100:k]):0.4f}', flush=True)\n",
    "            \n",
    "print('=====================================')\n",
    "print(f'== Epoch #{epoch}')\n",
    "p = get_params(state)\n",
    "acc = np.mean(test_acc(p))\n",
    "print(f'== Test accuracy: {100. * acc:0.2f}%')\n",
    "print('=====================================')"
   ]
  },
  {
   "cell_type": "code",
   "execution_count": 9,
   "metadata": {
    "ExecuteTime": {
     "end_time": "2020-08-21T03:05:00.844895Z",
     "start_time": "2020-08-21T03:05:00.840245Z"
    }
   },
   "outputs": [],
   "source": [
    "params = get_params(state)"
   ]
  },
  {
   "cell_type": "code",
   "execution_count": 10,
   "metadata": {
    "ExecuteTime": {
     "end_time": "2020-08-21T03:05:08.841569Z",
     "start_time": "2020-08-21T03:05:08.835606Z"
    }
   },
   "outputs": [],
   "source": [
    "def delta_logit(vocab_index, params):\n",
    "    test_batch = jnp.zeros((2, 160), dtype = jnp.int64)\n",
    "    test_batch = jax.ops.index_update(test_batch, jax.ops.index[1,0], vocab_index)\n",
    "    \n",
    "    logits = apply_fun(params, test_batch)\n",
    "    return logits[1] - logits[0]"
   ]
  },
  {
   "cell_type": "code",
   "execution_count": 14,
   "metadata": {
    "ExecuteTime": {
     "end_time": "2020-08-21T03:10:37.327560Z",
     "start_time": "2020-08-21T03:10:37.295438Z"
    }
   },
   "outputs": [
    {
     "data": {
      "text/plain": [
       "DeviceArray([-0.46819264, -1.2719698 ,  1.8476232 ], dtype=float32)"
      ]
     },
     "execution_count": 14,
     "metadata": {},
     "output_type": "execute_result"
    }
   ],
   "source": [
    "delta_logit(151, params)"
   ]
  },
  {
   "cell_type": "code",
   "execution_count": 21,
   "metadata": {
    "ExecuteTime": {
     "end_time": "2020-08-21T04:14:08.292398Z",
     "start_time": "2020-08-21T04:14:08.240713Z"
    }
   },
   "outputs": [
    {
     "ename": "ValueError",
     "evalue": "Object and structured dtypes are not supported.",
     "output_type": "error",
     "traceback": [
      "\u001b[0;31m---------------------------------------------------------------------------\u001b[0m",
      "\u001b[0;31mValueError\u001b[0m                                Traceback (most recent call last)",
      "\u001b[0;32m<ipython-input-21-6fcae8daec9b>\u001b[0m in \u001b[0;36m<module>\u001b[0;34m\u001b[0m\n\u001b[1;32m      1\u001b[0m \u001b[0;32mwith\u001b[0m \u001b[0mopen\u001b[0m\u001b[0;34m(\u001b[0m\u001b[0;34m'test'\u001b[0m\u001b[0;34m,\u001b[0m\u001b[0;34m'wb'\u001b[0m\u001b[0;34m)\u001b[0m \u001b[0;32mas\u001b[0m \u001b[0mf\u001b[0m\u001b[0;34m:\u001b[0m\u001b[0;34m\u001b[0m\u001b[0;34m\u001b[0m\u001b[0m\n\u001b[0;32m----> 2\u001b[0;31m     \u001b[0mserialize\u001b[0m\u001b[0;34m.\u001b[0m\u001b[0mdump\u001b[0m\u001b[0;34m(\u001b[0m\u001b[0mnp\u001b[0m\u001b[0;34m.\u001b[0m\u001b[0marray\u001b[0m\u001b[0;34m(\u001b[0m\u001b[0mparams\u001b[0m\u001b[0;34m)\u001b[0m\u001b[0;34m,\u001b[0m \u001b[0mf\u001b[0m\u001b[0;34m)\u001b[0m\u001b[0;34m\u001b[0m\u001b[0;34m\u001b[0m\u001b[0m\n\u001b[0m",
      "\u001b[0;32m~/Projects/reverse-engineering-neural-networks/renn/serialize.py\u001b[0m in \u001b[0;36mdump\u001b[0;34m(pytree, file)\u001b[0m\n\u001b[1;32m     24\u001b[0m \u001b[0;34m\u001b[0m\u001b[0m\n\u001b[1;32m     25\u001b[0m \u001b[0;32mdef\u001b[0m \u001b[0mdump\u001b[0m\u001b[0;34m(\u001b[0m\u001b[0mpytree\u001b[0m\u001b[0;34m,\u001b[0m \u001b[0mfile\u001b[0m\u001b[0;34m)\u001b[0m\u001b[0;34m:\u001b[0m\u001b[0;34m\u001b[0m\u001b[0;34m\u001b[0m\u001b[0m\n\u001b[0;32m---> 26\u001b[0;31m   \u001b[0;32mreturn\u001b[0m \u001b[0mmsgpack\u001b[0m\u001b[0;34m.\u001b[0m\u001b[0mpack\u001b[0m\u001b[0;34m(\u001b[0m\u001b[0mpytree\u001b[0m\u001b[0;34m,\u001b[0m \u001b[0mfile\u001b[0m\u001b[0;34m,\u001b[0m \u001b[0mdefault\u001b[0m\u001b[0;34m=\u001b[0m\u001b[0m_ext_pack\u001b[0m\u001b[0;34m,\u001b[0m \u001b[0mstrict_types\u001b[0m\u001b[0;34m=\u001b[0m\u001b[0;32mTrue\u001b[0m\u001b[0;34m)\u001b[0m\u001b[0;34m\u001b[0m\u001b[0;34m\u001b[0m\u001b[0m\n\u001b[0m\u001b[1;32m     27\u001b[0m \u001b[0;34m\u001b[0m\u001b[0m\n\u001b[1;32m     28\u001b[0m \u001b[0;34m\u001b[0m\u001b[0m\n",
      "\u001b[0;32m~/VirtualEnvs/dyn/lib/python3.7/site-packages/msgpack/__init__.py\u001b[0m in \u001b[0;36mpack\u001b[0;34m(o, stream, **kwargs)\u001b[0m\n\u001b[1;32m     24\u001b[0m     \"\"\"\n\u001b[1;32m     25\u001b[0m     \u001b[0mpacker\u001b[0m \u001b[0;34m=\u001b[0m \u001b[0mPacker\u001b[0m\u001b[0;34m(\u001b[0m\u001b[0;34m**\u001b[0m\u001b[0mkwargs\u001b[0m\u001b[0;34m)\u001b[0m\u001b[0;34m\u001b[0m\u001b[0;34m\u001b[0m\u001b[0m\n\u001b[0;32m---> 26\u001b[0;31m     \u001b[0mstream\u001b[0m\u001b[0;34m.\u001b[0m\u001b[0mwrite\u001b[0m\u001b[0;34m(\u001b[0m\u001b[0mpacker\u001b[0m\u001b[0;34m.\u001b[0m\u001b[0mpack\u001b[0m\u001b[0;34m(\u001b[0m\u001b[0mo\u001b[0m\u001b[0;34m)\u001b[0m\u001b[0;34m)\u001b[0m\u001b[0;34m\u001b[0m\u001b[0;34m\u001b[0m\u001b[0m\n\u001b[0m\u001b[1;32m     27\u001b[0m \u001b[0;34m\u001b[0m\u001b[0m\n\u001b[1;32m     28\u001b[0m \u001b[0;34m\u001b[0m\u001b[0m\n",
      "\u001b[0;32mmsgpack/_packer.pyx\u001b[0m in \u001b[0;36mmsgpack._cmsgpack.Packer.pack\u001b[0;34m()\u001b[0m\n",
      "\u001b[0;32mmsgpack/_packer.pyx\u001b[0m in \u001b[0;36mmsgpack._cmsgpack.Packer.pack\u001b[0;34m()\u001b[0m\n",
      "\u001b[0;32mmsgpack/_packer.pyx\u001b[0m in \u001b[0;36mmsgpack._cmsgpack.Packer.pack\u001b[0;34m()\u001b[0m\n",
      "\u001b[0;32mmsgpack/_packer.pyx\u001b[0m in \u001b[0;36mmsgpack._cmsgpack.Packer._pack\u001b[0;34m()\u001b[0m\n",
      "\u001b[0;32m~/Projects/reverse-engineering-neural-networks/renn/serialize.py\u001b[0m in \u001b[0;36m_ext_pack\u001b[0;34m(x)\u001b[0m\n\u001b[1;32m     62\u001b[0m \u001b[0;32mdef\u001b[0m \u001b[0m_ext_pack\u001b[0m\u001b[0;34m(\u001b[0m\u001b[0mx\u001b[0m\u001b[0;34m)\u001b[0m\u001b[0;34m:\u001b[0m\u001b[0;34m\u001b[0m\u001b[0;34m\u001b[0m\u001b[0m\n\u001b[1;32m     63\u001b[0m   \u001b[0;32mif\u001b[0m \u001b[0misinstance\u001b[0m\u001b[0;34m(\u001b[0m\u001b[0mx\u001b[0m\u001b[0;34m,\u001b[0m \u001b[0mnp\u001b[0m\u001b[0;34m.\u001b[0m\u001b[0mndarray\u001b[0m\u001b[0;34m)\u001b[0m\u001b[0;34m:\u001b[0m\u001b[0;34m\u001b[0m\u001b[0;34m\u001b[0m\u001b[0m\n\u001b[0;32m---> 64\u001b[0;31m     \u001b[0;32mreturn\u001b[0m \u001b[0mmsgpack\u001b[0m\u001b[0;34m.\u001b[0m\u001b[0mExtType\u001b[0m\u001b[0;34m(\u001b[0m\u001b[0m_CustomExtType\u001b[0m\u001b[0;34m.\u001b[0m\u001b[0mndarray\u001b[0m\u001b[0;34m,\u001b[0m \u001b[0mndarray_to_bytes\u001b[0m\u001b[0;34m(\u001b[0m\u001b[0mx\u001b[0m\u001b[0;34m)\u001b[0m\u001b[0;34m)\u001b[0m\u001b[0;34m\u001b[0m\u001b[0;34m\u001b[0m\u001b[0m\n\u001b[0m\u001b[1;32m     65\u001b[0m \u001b[0;34m\u001b[0m\u001b[0m\n\u001b[1;32m     66\u001b[0m   \u001b[0;32melif\u001b[0m \u001b[0misinstance\u001b[0m\u001b[0;34m(\u001b[0m\u001b[0mx\u001b[0m\u001b[0;34m,\u001b[0m \u001b[0mtuple\u001b[0m\u001b[0;34m)\u001b[0m\u001b[0;34m:\u001b[0m\u001b[0;34m\u001b[0m\u001b[0;34m\u001b[0m\u001b[0m\n",
      "\u001b[0;32m~/Projects/reverse-engineering-neural-networks/renn/serialize.py\u001b[0m in \u001b[0;36mndarray_to_bytes\u001b[0;34m(arr)\u001b[0m\n\u001b[1;32m     49\u001b[0m \u001b[0;34m\u001b[0m\u001b[0m\n\u001b[1;32m     50\u001b[0m   \u001b[0;32mif\u001b[0m \u001b[0marr\u001b[0m\u001b[0;34m.\u001b[0m\u001b[0mdtype\u001b[0m\u001b[0;34m.\u001b[0m\u001b[0mhasobject\u001b[0m \u001b[0;32mor\u001b[0m \u001b[0marr\u001b[0m\u001b[0;34m.\u001b[0m\u001b[0mdtype\u001b[0m\u001b[0;34m.\u001b[0m\u001b[0misalignedstruct\u001b[0m\u001b[0;34m:\u001b[0m\u001b[0;34m\u001b[0m\u001b[0;34m\u001b[0m\u001b[0m\n\u001b[0;32m---> 51\u001b[0;31m     \u001b[0;32mraise\u001b[0m \u001b[0mValueError\u001b[0m\u001b[0;34m(\u001b[0m\u001b[0;34m'Object and structured dtypes are not supported.'\u001b[0m\u001b[0;34m)\u001b[0m\u001b[0;34m\u001b[0m\u001b[0;34m\u001b[0m\u001b[0m\n\u001b[0m\u001b[1;32m     52\u001b[0m \u001b[0;34m\u001b[0m\u001b[0m\n\u001b[1;32m     53\u001b[0m   \u001b[0mdata\u001b[0m \u001b[0;34m=\u001b[0m \u001b[0;34m(\u001b[0m\u001b[0marr\u001b[0m\u001b[0;34m.\u001b[0m\u001b[0mtobytes\u001b[0m\u001b[0;34m(\u001b[0m\u001b[0;34m)\u001b[0m\u001b[0;34m,\u001b[0m \u001b[0marr\u001b[0m\u001b[0;34m.\u001b[0m\u001b[0mdtype\u001b[0m\u001b[0;34m.\u001b[0m\u001b[0mstr\u001b[0m\u001b[0;34m,\u001b[0m \u001b[0marr\u001b[0m\u001b[0;34m.\u001b[0m\u001b[0mshape\u001b[0m\u001b[0;34m)\u001b[0m\u001b[0;34m\u001b[0m\u001b[0;34m\u001b[0m\u001b[0m\n",
      "\u001b[0;31mValueError\u001b[0m: Object and structured dtypes are not supported."
     ]
    }
   ],
   "source": [
    "with open('test','wb') as f:\n",
    "    serialize.dump(np.array(params), f)"
   ]
  },
  {
   "cell_type": "code",
   "execution_count": null,
   "metadata": {},
   "outputs": [],
   "source": []
  }
 ],
 "metadata": {
  "kernelspec": {
   "display_name": "Python 3",
   "language": "python",
   "name": "python3"
  },
  "language_info": {
   "codemirror_mode": {
    "name": "ipython",
    "version": 3
   },
   "file_extension": ".py",
   "mimetype": "text/x-python",
   "name": "python",
   "nbconvert_exporter": "python",
   "pygments_lexer": "ipython3",
   "version": "3.7.7"
  },
  "toc": {
   "base_numbering": 1,
   "nav_menu": {},
   "number_sections": true,
   "sideBar": true,
   "skip_h1_title": false,
   "title_cell": "Table of Contents",
   "title_sidebar": "Contents",
   "toc_cell": false,
   "toc_position": {},
   "toc_section_display": true,
   "toc_window_display": false
  }
 },
 "nbformat": 4,
 "nbformat_minor": 4
}
