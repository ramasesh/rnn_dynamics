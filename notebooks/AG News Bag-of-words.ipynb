{
 "cells": [
  {
   "cell_type": "code",
   "execution_count": 1,
   "metadata": {
    "ExecuteTime": {
     "end_time": "2020-09-01T02:29:39.268519Z",
     "start_time": "2020-09-01T02:29:39.262803Z"
    }
   },
   "outputs": [
    {
     "name": "stdout",
     "output_type": "stream",
     "text": [
      "env: XLA_PYTHON_CLIENT_MEM_FRACTION=0.25\n"
     ]
    }
   ],
   "source": [
    "env XLA_PYTHON_CLIENT_MEM_FRACTION=0.25"
   ]
  },
  {
   "cell_type": "code",
   "execution_count": 17,
   "metadata": {
    "ExecuteTime": {
     "end_time": "2020-09-01T02:34:43.790307Z",
     "start_time": "2020-09-01T02:34:43.786638Z"
    }
   },
   "outputs": [],
   "source": [
    "import renn\n",
    "import matplotlib.pyplot as plt"
   ]
  },
  {
   "cell_type": "code",
   "execution_count": 13,
   "metadata": {
    "ExecuteTime": {
     "end_time": "2020-09-01T02:34:07.767266Z",
     "start_time": "2020-09-01T02:34:07.708321Z"
    }
   },
   "outputs": [],
   "source": [
    "import tensorflow_datasets as tfds\n",
    "import jax\n",
    "import jax.numpy as jnp\n",
    "\n",
    "from jax.experimental import stax, optimizers\n",
    "\n",
    "import numpy as np\n",
    "\n",
    "from renn.losses import multiclass_xent\n",
    "\n",
    "from tqdm import tqdm\n",
    "from functools import partial\n",
    "from renn import serialize\n",
    "\n",
    "from data_processing import analysis_utils as au"
   ]
  },
  {
   "cell_type": "code",
   "execution_count": 19,
   "metadata": {
    "ExecuteTime": {
     "end_time": "2020-09-01T02:34:58.629103Z",
     "start_time": "2020-09-01T02:34:55.376431Z"
    }
   },
   "outputs": [],
   "source": [
    "vocab_file='./data/vocab/ag_news.vocab'\n",
    "\n",
    "seq_length = 160\n",
    "num_classes = 4\n",
    "\n",
    "def filter_fn(item):\n",
    "    return item['labels'] < num_classes\n",
    "\n",
    "# Load data\n",
    "train_dset = renn.data.ag_news('train', vocab_file, sequence_length=seq_length, data_dir='./data', filter_fn=filter_fn)\n",
    "test_dset = renn.data.ag_news('test', vocab_file, sequence_length=seq_length, data_dir='./data', filter_fn=filter_fn)\n",
    "\n",
    "# Load vocab\n",
    "with open(vocab_file, 'r') as f:\n",
    "    vocab = f.readlines()\n",
    "vocab_size = len(vocab)\n",
    "\n",
    "example = next(iter(train_dset))"
   ]
  },
  {
   "cell_type": "code",
   "execution_count": 20,
   "metadata": {
    "ExecuteTime": {
     "end_time": "2020-09-01T02:34:59.177520Z",
     "start_time": "2020-09-01T02:34:59.172437Z"
    }
   },
   "outputs": [],
   "source": [
    "def SequenceSum():\n",
    "    def init_fun(_, input_shape):\n",
    "        return (input_shape[0], input_shape[2]), ()\n",
    "    def apply_fun(_, inputs, **kwargs):\n",
    "        return jnp.sum(inputs, axis=1)\n",
    "    return init_fun, apply_fun"
   ]
  },
  {
   "cell_type": "code",
   "execution_count": 21,
   "metadata": {
    "ExecuteTime": {
     "end_time": "2020-09-01T02:35:00.026561Z",
     "start_time": "2020-09-01T02:34:59.488039Z"
    }
   },
   "outputs": [],
   "source": [
    "emb_size = 32\n",
    "\n",
    "input_shape = (-1, seq_length)\n",
    "l2_pen = 0\n",
    "\n",
    "# Linear model\n",
    "init_fun, apply_fun = stax.serial(\n",
    "    renn.embedding(vocab_size, emb_size),\n",
    "    SequenceSum(),\n",
    "    stax.Dense(num_classes),\n",
    "    )\n",
    "\n",
    "# Initialize\n",
    "key = jax.random.PRNGKey(0)\n",
    "output_shape, initial_params = init_fun(key, input_shape)\n",
    "\n",
    "# Hack to set the embedding to 0 for 0\n",
    "emb = initial_params[0]\n",
    "new_emb = np.array(emb)\n",
    "new_emb[0] = np.zeros(emb_size)\n",
    "initial_params = [jnp.array(new_emb), *initial_params[1:]]\n",
    "\n",
    "# Loss\n",
    "def xent(params, batch):\n",
    "    logits = apply_fun(params, batch['inputs'])\n",
    "    data_loss = multiclass_xent(logits, batch['labels'])\n",
    "    reg_loss = l2_pen * renn.norm(params)\n",
    "    return data_loss + reg_loss\n",
    "\n",
    "f_df = jax.value_and_grad(xent)\n",
    "\n",
    "# Accuracy\n",
    "@jax.jit\n",
    "def accuracy(params, batch):\n",
    "    logits = apply_fun(params, batch['inputs'])\n",
    "    predictions = jnp.argmax(logits, axis=1)\n",
    "    return jnp.mean(predictions == batch['labels'])\n",
    "\n"
   ]
  },
  {
   "cell_type": "code",
   "execution_count": 22,
   "metadata": {
    "ExecuteTime": {
     "end_time": "2020-09-01T02:35:00.138449Z",
     "start_time": "2020-09-01T02:35:00.114376Z"
    }
   },
   "outputs": [],
   "source": [
    "learning_rate = optimizers.exponential_decay(2e-3, 1000, 0.8)\n",
    "init_opt, update_opt, get_params = optimizers.adam(learning_rate)\n",
    "\n",
    "state = init_opt(initial_params)\n",
    "losses = []\n",
    "\n",
    "@jax.jit\n",
    "def step(k, opt_state, batch):\n",
    "    params = get_params(opt_state)\n",
    "    loss, gradients = f_df(params, batch)\n",
    "    new_state = update_opt(k, gradients, opt_state)\n",
    "    return new_state, loss\n",
    "\n",
    "def test_acc(params):\n",
    "    return jnp.array([accuracy(params, batch) for batch in tfds.as_numpy(test_dset)])"
   ]
  },
  {
   "cell_type": "code",
   "execution_count": 23,
   "metadata": {
    "ExecuteTime": {
     "end_time": "2020-09-01T02:36:19.861573Z",
     "start_time": "2020-09-01T02:35:00.514330Z"
    }
   },
   "outputs": [
    {
     "name": "stdout",
     "output_type": "stream",
     "text": [
      "=====================================\n",
      "== Epoch #0\n",
      "== Test accuracy: 24.27%\n",
      "=====================================\n",
      "[step 0]\tLoss: nan\n"
     ]
    },
    {
     "name": "stderr",
     "output_type": "stream",
     "text": [
      "/usr/local/google/home/ramasesh/VirtualEnvs/dyn/lib/python3.7/site-packages/numpy/core/fromnumeric.py:3335: RuntimeWarning: Mean of empty slice.\n",
      "  out=out, **kwargs)\n",
      "/usr/local/google/home/ramasesh/VirtualEnvs/dyn/lib/python3.7/site-packages/numpy/core/_methods.py:161: RuntimeWarning: invalid value encountered in double_scalars\n",
      "  ret = ret.dtype.type(ret / rcount)\n"
     ]
    },
    {
     "name": "stdout",
     "output_type": "stream",
     "text": [
      "[step 100]\tLoss: 0.7555\n",
      "[step 200]\tLoss: 0.4190\n",
      "[step 300]\tLoss: 0.3474\n",
      "[step 400]\tLoss: 0.3391\n",
      "[step 500]\tLoss: 0.3415\n",
      "[step 600]\tLoss: 0.3212\n",
      "[step 700]\tLoss: 0.3298\n",
      "[step 800]\tLoss: 0.3076\n",
      "[step 900]\tLoss: 0.3201\n",
      "[step 1000]\tLoss: 0.3106\n",
      "[step 1100]\tLoss: 0.2963\n",
      "[step 1200]\tLoss: 0.2813\n",
      "[step 1300]\tLoss: 0.2800\n",
      "[step 1400]\tLoss: 0.3025\n",
      "[step 1500]\tLoss: 0.2885\n",
      "[step 1600]\tLoss: 0.2762\n",
      "[step 1700]\tLoss: 0.2679\n",
      "[step 1800]\tLoss: 0.2882\n",
      "=====================================\n",
      "== Epoch #0\n",
      "== Test accuracy: 90.55%\n",
      "=====================================\n"
     ]
    }
   ],
   "source": [
    "for epoch in range(1):\n",
    "    print('=====================================')\n",
    "    print(f'== Epoch #{epoch}')\n",
    "    p = get_params(state)\n",
    "    acc = np.mean(test_acc(p))\n",
    "    print(f'== Test accuracy: {100. * acc:0.2f}%')\n",
    "    print('=====================================')\n",
    "    \n",
    "    for batch in tfds.as_numpy(train_dset):\n",
    "        k = len(losses)\n",
    "        state, loss = step(k, state, batch)\n",
    "        losses.append(loss)\n",
    "\n",
    "        if k % 100 == 0:\n",
    "            p = get_params(state)\n",
    "            print(f'[step {k}]\\tLoss: {np.mean(losses[k-100:k]):0.4f}', flush=True)\n",
    "            \n",
    "print('=====================================')\n",
    "print(f'== Epoch #{epoch}')\n",
    "p = get_params(state)\n",
    "acc = np.mean(test_acc(p))\n",
    "print(f'== Test accuracy: {100. * acc:0.2f}%')\n",
    "print('=====================================')"
   ]
  },
  {
   "cell_type": "code",
   "execution_count": 24,
   "metadata": {
    "ExecuteTime": {
     "end_time": "2020-09-01T02:36:41.973197Z",
     "start_time": "2020-09-01T02:36:41.970138Z"
    }
   },
   "outputs": [],
   "source": [
    "params = get_params(state)"
   ]
  },
  {
   "cell_type": "code",
   "execution_count": 25,
   "metadata": {
    "ExecuteTime": {
     "end_time": "2020-09-01T02:36:42.299755Z",
     "start_time": "2020-09-01T02:36:42.293912Z"
    }
   },
   "outputs": [],
   "source": [
    "def delta_logit(vocab_index, params):\n",
    "    test_batch = jnp.zeros((2, 160), dtype = jnp.int64)\n",
    "    test_batch = jax.ops.index_update(test_batch, jax.ops.index[1,0], vocab_index)\n",
    "    \n",
    "    logits = apply_fun(params, test_batch)\n",
    "    return logits[1] - logits[0]"
   ]
  },
  {
   "cell_type": "code",
   "execution_count": 26,
   "metadata": {
    "ExecuteTime": {
     "end_time": "2020-09-01T02:36:43.310443Z",
     "start_time": "2020-09-01T02:36:42.646656Z"
    }
   },
   "outputs": [
    {
     "name": "stderr",
     "output_type": "stream",
     "text": [
      "/usr/local/google/home/ramasesh/VirtualEnvs/dyn/lib/python3.7/site-packages/jax/lax/lax.py:5905: UserWarning: Explicitly requested dtype <class 'jax.numpy.lax_numpy.int64'> requested in zeros is not available, and will be truncated to dtype int32. To enable more dtypes, set the jax_enable_x64 configuration option or the JAX_ENABLE_X64 shell environment variable. See https://github.com/google/jax#current-gotchas for more.\n",
      "  warnings.warn(msg.format(dtype, fun_name , truncated_dtype))\n"
     ]
    },
    {
     "data": {
      "text/plain": [
       "DeviceArray([-0.73290765, -1.1317863 ,  0.3733107 ,  1.0910239 ], dtype=float32)"
      ]
     },
     "execution_count": 26,
     "metadata": {},
     "output_type": "execute_result"
    }
   ],
   "source": [
    "delta_logit(151, params)"
   ]
  },
  {
   "cell_type": "code",
   "execution_count": 27,
   "metadata": {
    "ExecuteTime": {
     "end_time": "2020-09-01T02:36:43.368732Z",
     "start_time": "2020-09-01T02:36:43.312252Z"
    }
   },
   "outputs": [
    {
     "ename": "ValueError",
     "evalue": "Object and structured dtypes are not supported.",
     "output_type": "error",
     "traceback": [
      "\u001b[0;31m---------------------------------------------------------------------------\u001b[0m",
      "\u001b[0;31mValueError\u001b[0m                                Traceback (most recent call last)",
      "\u001b[0;32m<ipython-input-27-6fcae8daec9b>\u001b[0m in \u001b[0;36m<module>\u001b[0;34m\u001b[0m\n\u001b[1;32m      1\u001b[0m \u001b[0;32mwith\u001b[0m \u001b[0mopen\u001b[0m\u001b[0;34m(\u001b[0m\u001b[0;34m'test'\u001b[0m\u001b[0;34m,\u001b[0m\u001b[0;34m'wb'\u001b[0m\u001b[0;34m)\u001b[0m \u001b[0;32mas\u001b[0m \u001b[0mf\u001b[0m\u001b[0;34m:\u001b[0m\u001b[0;34m\u001b[0m\u001b[0;34m\u001b[0m\u001b[0m\n\u001b[0;32m----> 2\u001b[0;31m     \u001b[0mserialize\u001b[0m\u001b[0;34m.\u001b[0m\u001b[0mdump\u001b[0m\u001b[0;34m(\u001b[0m\u001b[0mnp\u001b[0m\u001b[0;34m.\u001b[0m\u001b[0marray\u001b[0m\u001b[0;34m(\u001b[0m\u001b[0mparams\u001b[0m\u001b[0;34m)\u001b[0m\u001b[0;34m,\u001b[0m \u001b[0mf\u001b[0m\u001b[0;34m)\u001b[0m\u001b[0;34m\u001b[0m\u001b[0;34m\u001b[0m\u001b[0m\n\u001b[0m",
      "\u001b[0;32m~/Projects/reverse-engineering-neural-networks/renn/serialize.py\u001b[0m in \u001b[0;36mdump\u001b[0;34m(pytree, file)\u001b[0m\n\u001b[1;32m     24\u001b[0m \u001b[0;34m\u001b[0m\u001b[0m\n\u001b[1;32m     25\u001b[0m \u001b[0;32mdef\u001b[0m \u001b[0mdump\u001b[0m\u001b[0;34m(\u001b[0m\u001b[0mpytree\u001b[0m\u001b[0;34m,\u001b[0m \u001b[0mfile\u001b[0m\u001b[0;34m)\u001b[0m\u001b[0;34m:\u001b[0m\u001b[0;34m\u001b[0m\u001b[0;34m\u001b[0m\u001b[0m\n\u001b[0;32m---> 26\u001b[0;31m   \u001b[0;32mreturn\u001b[0m \u001b[0mmsgpack\u001b[0m\u001b[0;34m.\u001b[0m\u001b[0mpack\u001b[0m\u001b[0;34m(\u001b[0m\u001b[0mpytree\u001b[0m\u001b[0;34m,\u001b[0m \u001b[0mfile\u001b[0m\u001b[0;34m,\u001b[0m \u001b[0mdefault\u001b[0m\u001b[0;34m=\u001b[0m\u001b[0m_ext_pack\u001b[0m\u001b[0;34m,\u001b[0m \u001b[0mstrict_types\u001b[0m\u001b[0;34m=\u001b[0m\u001b[0;32mTrue\u001b[0m\u001b[0;34m)\u001b[0m\u001b[0;34m\u001b[0m\u001b[0;34m\u001b[0m\u001b[0m\n\u001b[0m\u001b[1;32m     27\u001b[0m \u001b[0;34m\u001b[0m\u001b[0m\n\u001b[1;32m     28\u001b[0m \u001b[0;34m\u001b[0m\u001b[0m\n",
      "\u001b[0;32m~/VirtualEnvs/dyn/lib/python3.7/site-packages/msgpack/__init__.py\u001b[0m in \u001b[0;36mpack\u001b[0;34m(o, stream, **kwargs)\u001b[0m\n\u001b[1;32m     24\u001b[0m     \"\"\"\n\u001b[1;32m     25\u001b[0m     \u001b[0mpacker\u001b[0m \u001b[0;34m=\u001b[0m \u001b[0mPacker\u001b[0m\u001b[0;34m(\u001b[0m\u001b[0;34m**\u001b[0m\u001b[0mkwargs\u001b[0m\u001b[0;34m)\u001b[0m\u001b[0;34m\u001b[0m\u001b[0;34m\u001b[0m\u001b[0m\n\u001b[0;32m---> 26\u001b[0;31m     \u001b[0mstream\u001b[0m\u001b[0;34m.\u001b[0m\u001b[0mwrite\u001b[0m\u001b[0;34m(\u001b[0m\u001b[0mpacker\u001b[0m\u001b[0;34m.\u001b[0m\u001b[0mpack\u001b[0m\u001b[0;34m(\u001b[0m\u001b[0mo\u001b[0m\u001b[0;34m)\u001b[0m\u001b[0;34m)\u001b[0m\u001b[0;34m\u001b[0m\u001b[0;34m\u001b[0m\u001b[0m\n\u001b[0m\u001b[1;32m     27\u001b[0m \u001b[0;34m\u001b[0m\u001b[0m\n\u001b[1;32m     28\u001b[0m \u001b[0;34m\u001b[0m\u001b[0m\n",
      "\u001b[0;32mmsgpack/_packer.pyx\u001b[0m in \u001b[0;36mmsgpack._cmsgpack.Packer.pack\u001b[0;34m()\u001b[0m\n",
      "\u001b[0;32mmsgpack/_packer.pyx\u001b[0m in \u001b[0;36mmsgpack._cmsgpack.Packer.pack\u001b[0;34m()\u001b[0m\n",
      "\u001b[0;32mmsgpack/_packer.pyx\u001b[0m in \u001b[0;36mmsgpack._cmsgpack.Packer.pack\u001b[0;34m()\u001b[0m\n",
      "\u001b[0;32mmsgpack/_packer.pyx\u001b[0m in \u001b[0;36mmsgpack._cmsgpack.Packer._pack\u001b[0;34m()\u001b[0m\n",
      "\u001b[0;32m~/Projects/reverse-engineering-neural-networks/renn/serialize.py\u001b[0m in \u001b[0;36m_ext_pack\u001b[0;34m(x)\u001b[0m\n\u001b[1;32m     62\u001b[0m \u001b[0;32mdef\u001b[0m \u001b[0m_ext_pack\u001b[0m\u001b[0;34m(\u001b[0m\u001b[0mx\u001b[0m\u001b[0;34m)\u001b[0m\u001b[0;34m:\u001b[0m\u001b[0;34m\u001b[0m\u001b[0;34m\u001b[0m\u001b[0m\n\u001b[1;32m     63\u001b[0m   \u001b[0;32mif\u001b[0m \u001b[0misinstance\u001b[0m\u001b[0;34m(\u001b[0m\u001b[0mx\u001b[0m\u001b[0;34m,\u001b[0m \u001b[0mnp\u001b[0m\u001b[0;34m.\u001b[0m\u001b[0mndarray\u001b[0m\u001b[0;34m)\u001b[0m\u001b[0;34m:\u001b[0m\u001b[0;34m\u001b[0m\u001b[0;34m\u001b[0m\u001b[0m\n\u001b[0;32m---> 64\u001b[0;31m     \u001b[0;32mreturn\u001b[0m \u001b[0mmsgpack\u001b[0m\u001b[0;34m.\u001b[0m\u001b[0mExtType\u001b[0m\u001b[0;34m(\u001b[0m\u001b[0m_CustomExtType\u001b[0m\u001b[0;34m.\u001b[0m\u001b[0mndarray\u001b[0m\u001b[0;34m,\u001b[0m \u001b[0mndarray_to_bytes\u001b[0m\u001b[0;34m(\u001b[0m\u001b[0mx\u001b[0m\u001b[0;34m)\u001b[0m\u001b[0;34m)\u001b[0m\u001b[0;34m\u001b[0m\u001b[0;34m\u001b[0m\u001b[0m\n\u001b[0m\u001b[1;32m     65\u001b[0m \u001b[0;34m\u001b[0m\u001b[0m\n\u001b[1;32m     66\u001b[0m   \u001b[0;32melif\u001b[0m \u001b[0misinstance\u001b[0m\u001b[0;34m(\u001b[0m\u001b[0mx\u001b[0m\u001b[0;34m,\u001b[0m \u001b[0mtuple\u001b[0m\u001b[0;34m)\u001b[0m\u001b[0;34m:\u001b[0m\u001b[0;34m\u001b[0m\u001b[0;34m\u001b[0m\u001b[0m\n",
      "\u001b[0;32m~/Projects/reverse-engineering-neural-networks/renn/serialize.py\u001b[0m in \u001b[0;36mndarray_to_bytes\u001b[0;34m(arr)\u001b[0m\n\u001b[1;32m     49\u001b[0m \u001b[0;34m\u001b[0m\u001b[0m\n\u001b[1;32m     50\u001b[0m   \u001b[0;32mif\u001b[0m \u001b[0marr\u001b[0m\u001b[0;34m.\u001b[0m\u001b[0mdtype\u001b[0m\u001b[0;34m.\u001b[0m\u001b[0mhasobject\u001b[0m \u001b[0;32mor\u001b[0m \u001b[0marr\u001b[0m\u001b[0;34m.\u001b[0m\u001b[0mdtype\u001b[0m\u001b[0;34m.\u001b[0m\u001b[0misalignedstruct\u001b[0m\u001b[0;34m:\u001b[0m\u001b[0;34m\u001b[0m\u001b[0;34m\u001b[0m\u001b[0m\n\u001b[0;32m---> 51\u001b[0;31m     \u001b[0;32mraise\u001b[0m \u001b[0mValueError\u001b[0m\u001b[0;34m(\u001b[0m\u001b[0;34m'Object and structured dtypes are not supported.'\u001b[0m\u001b[0;34m)\u001b[0m\u001b[0;34m\u001b[0m\u001b[0;34m\u001b[0m\u001b[0m\n\u001b[0m\u001b[1;32m     52\u001b[0m \u001b[0;34m\u001b[0m\u001b[0m\n\u001b[1;32m     53\u001b[0m   \u001b[0mdata\u001b[0m \u001b[0;34m=\u001b[0m \u001b[0;34m(\u001b[0m\u001b[0marr\u001b[0m\u001b[0;34m.\u001b[0m\u001b[0mtobytes\u001b[0m\u001b[0;34m(\u001b[0m\u001b[0;34m)\u001b[0m\u001b[0;34m,\u001b[0m \u001b[0marr\u001b[0m\u001b[0;34m.\u001b[0m\u001b[0mdtype\u001b[0m\u001b[0;34m.\u001b[0m\u001b[0mstr\u001b[0m\u001b[0;34m,\u001b[0m \u001b[0marr\u001b[0m\u001b[0;34m.\u001b[0m\u001b[0mshape\u001b[0m\u001b[0;34m)\u001b[0m\u001b[0;34m\u001b[0m\u001b[0;34m\u001b[0m\u001b[0m\n",
      "\u001b[0;31mValueError\u001b[0m: Object and structured dtypes are not supported."
     ]
    }
   ],
   "source": [
    "with open('test','wb') as f:\n",
    "    serialize.dump(np.array(params), f)"
   ]
  },
  {
   "cell_type": "markdown",
   "metadata": {},
   "source": [
    "### Logit-changes PCA"
   ]
  },
  {
   "cell_type": "code",
   "execution_count": 28,
   "metadata": {
    "ExecuteTime": {
     "end_time": "2020-09-01T02:36:52.392718Z",
     "start_time": "2020-09-01T02:36:52.390747Z"
    }
   },
   "outputs": [],
   "source": [
    "num_words = 300"
   ]
  },
  {
   "cell_type": "code",
   "execution_count": 29,
   "metadata": {
    "ExecuteTime": {
     "end_time": "2020-09-01T02:36:52.864613Z",
     "start_time": "2020-09-01T02:36:52.757921Z"
    }
   },
   "outputs": [],
   "source": [
    "most_common_words = np.arange(num_words).reshape(1,-1).T\n",
    "output_logits = {'initial': apply_fun(initial_params, most_common_words),\n",
    "                 'final': apply_fun(p, most_common_words)}"
   ]
  },
  {
   "cell_type": "code",
   "execution_count": 30,
   "metadata": {
    "ExecuteTime": {
     "end_time": "2020-09-01T02:36:53.165926Z",
     "start_time": "2020-09-01T02:36:52.900698Z"
    }
   },
   "outputs": [],
   "source": [
    "f = lambda x: x[1:] - x[0]\n",
    "logit_changes = {k: f(v) for k,v in output_logits.items()}"
   ]
  },
  {
   "cell_type": "code",
   "execution_count": 31,
   "metadata": {
    "ExecuteTime": {
     "end_time": "2020-09-01T02:36:53.171953Z",
     "start_time": "2020-09-01T02:36:53.168071Z"
    }
   },
   "outputs": [],
   "source": [
    "PCA_obj = {k: au.PCA_rnn() for k in output_logits.keys()}\n",
    "\n",
    "for k in output_logits.keys():\n",
    "    PCA_obj[k].fit(logit_changes[k])"
   ]
  },
  {
   "cell_type": "code",
   "execution_count": 32,
   "metadata": {
    "ExecuteTime": {
     "end_time": "2020-09-01T02:36:53.341661Z",
     "start_time": "2020-09-01T02:36:53.337793Z"
    }
   },
   "outputs": [],
   "source": [
    "dimensionalities = {k: au.cumulative_var_explained(PCA_obj[k]) for k in PCA_obj.keys()}"
   ]
  },
  {
   "cell_type": "code",
   "execution_count": 33,
   "metadata": {
    "ExecuteTime": {
     "end_time": "2020-09-01T02:36:53.875650Z",
     "start_time": "2020-09-01T02:36:53.725554Z"
    }
   },
   "outputs": [
    {
     "data": {
      "text/plain": [
       "(-1.0, 5.0)"
      ]
     },
     "execution_count": 33,
     "metadata": {},
     "output_type": "execute_result"
    },
    {
     "data": {
      "image/png": "[encoded data removed]",
      "text/plain": [
       "<Figure size 576x288 with 1 Axes>"
      ]
     },
     "metadata": {
      "needs_background": "light"
     },
     "output_type": "display_data"
    }
   ],
   "source": [
    "f = au.plot_varexp(dimensionalities)\n",
    "plt.xlim(-1,5)"
   ]
  },
  {
   "cell_type": "code",
   "execution_count": 41,
   "metadata": {
    "ExecuteTime": {
     "end_time": "2020-09-01T02:40:00.267156Z",
     "start_time": "2020-09-01T02:40:00.102491Z"
    }
   },
   "outputs": [
    {
     "data": {
      "text/plain": [
       "(array([0.02339176, 0.        , 0.        , 0.        , 0.21052576,\n",
       "        0.46783501, 1.75438147, 2.59648431, 1.1461959 , 0.37426801,\n",
       "        0.16374229, 0.07017524, 0.09356702, 0.        , 0.07017524,\n",
       "        0.        , 0.        , 0.        , 0.        , 0.02339175]),\n",
       " array([-1.0593817 , -0.9164048 , -0.7734278 , -0.63045084, -0.48747388,\n",
       "        -0.3444969 , -0.20151994, -0.05854298,  0.08443399,  0.22741094,\n",
       "         0.3703879 ,  0.51336485,  0.65634185,  0.7993188 ,  0.9422958 ,\n",
       "         1.0852728 ,  1.2282497 ,  1.3712267 ,  1.5142037 ,  1.6571805 ,\n",
       "         1.8001575 ], dtype=float32),\n",
       " <BarContainer object of 20 artists>)"
      ]
     },
     "execution_count": 41,
     "metadata": {},
     "output_type": "execute_result"
    },
    {
     "data": {
      "image/png": "[encoded data removed]",
      "text/plain": [
       "<Figure size 432x288 with 1 Axes>"
      ]
     },
     "metadata": {
      "needs_background": "light"
     },
     "output_type": "display_data"
    }
   ],
   "source": [
    "plt.hist(logit_changes['initial'].sum(axis=1), bins=20, density=True)\n",
    "plt.hist(logit_changes['final'].sum(axis=1), bins=20, density=True)"
   ]
  },
  {
   "cell_type": "code",
   "execution_count": null,
   "metadata": {},
   "outputs": [],
   "source": []
  },
  {
   "cell_type": "code",
   "execution_count": null,
   "metadata": {},
   "outputs": [],
   "source": []
  }
 ],
 "metadata": {
  "kernelspec": {
   "display_name": "Python 3",
   "language": "python",
   "name": "python3"
  },
  "language_info": {
   "codemirror_mode": {
    "name": "ipython",
    "version": 3
   },
   "file_extension": ".py",
   "mimetype": "text/x-python",
   "name": "python",
   "nbconvert_exporter": "python",
   "pygments_lexer": "ipython3",
   "version": "3.7.7"
  },
  "toc": {
   "base_numbering": 1,
   "nav_menu": {},
   "number_sections": true,
   "sideBar": true,
   "skip_h1_title": false,
   "title_cell": "Table of Contents",
   "title_sidebar": "Contents",
   "toc_cell": false,
   "toc_position": {},
   "toc_section_display": true,
   "toc_window_display": false
  }
 },
 "nbformat": 4,
 "nbformat_minor": 4
}
