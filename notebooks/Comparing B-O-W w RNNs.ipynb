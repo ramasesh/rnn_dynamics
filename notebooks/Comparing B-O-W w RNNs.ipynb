{
 "cells": [
  {
   "cell_type": "code",
   "execution_count": 6,
   "metadata": {
    "ExecuteTime": {
     "end_time": "2020-08-21T04:12:06.688845Z",
     "start_time": "2020-08-21T04:12:06.680331Z"
    }
   },
   "outputs": [],
   "source": [
    "# import tensorflow as tf\n",
    "import functools\n",
    "import jax.numpy as jnp\n",
    "import os\n",
    "import json\n",
    "import numpy as np\n",
    "\n",
    "import jax\n",
    "from jax.experimental import stax, optimizers\n",
    "from src import data, model_utils, optim_utils, measurements\n",
    "from renn.rnn import cells, unroll, network\n",
    "from renn import utils\n",
    "import renn\n",
    "\n",
    "from data_processing import analysis_utils as au\n",
    "from renn import analysis_utils as renn_au\n",
    "\n",
    "import tensorflow_datasets as tfds\n",
    "\n",
    "# from sklearn.decomposition import PCA\n",
    "\n",
    "import matplotlib.pyplot as plt\n",
    "%matplotlib inline\n",
    "\n",
    "import pickle"
   ]
  },
  {
   "cell_type": "code",
   "execution_count": 17,
   "metadata": {
    "ExecuteTime": {
     "end_time": "2020-08-21T04:19:36.477587Z",
     "start_time": "2020-08-21T04:19:36.469468Z"
    }
   },
   "outputs": [],
   "source": [
    "vocab_file='./data/vocab/ag_news.vocab'\n",
    "with open(vocab_file, 'r') as f:\n",
    "    vocab = f.readlines()\n",
    "vocab_size = len(vocab)"
   ]
  },
  {
   "cell_type": "markdown",
   "metadata": {},
   "source": [
    "## Load B.O.W. model"
   ]
  },
  {
   "cell_type": "code",
   "execution_count": 37,
   "metadata": {
    "ExecuteTime": {
     "end_time": "2020-08-21T04:26:35.066870Z",
     "start_time": "2020-08-21T04:26:35.031818Z"
    }
   },
   "outputs": [],
   "source": [
    "def SequenceSum():\n",
    "    def init_fun(_, input_shape):\n",
    "        return (input_shape[0], input_shape[2]), ()\n",
    "    def apply_fun(_, inputs, **kwargs):\n",
    "        return jnp.sum(inputs, axis=1)\n",
    "    return init_fun, apply_fun\n",
    "\n",
    "emb_size = 32\n",
    "\n",
    "seq_length = 160\n",
    "num_classes = 3\n",
    "\n",
    "input_shape = (-1, seq_length)\n",
    "l2_pen = 0\n",
    "\n",
    "# Linear model\n",
    "init_fun, bow_apply_fun = stax.serial(\n",
    "    renn.embedding(vocab_size, emb_size),\n",
    "    SequenceSum(),\n",
    "    stax.Dense(num_classes),\n",
    "    )\n",
    "\n",
    "# Initialize\n",
    "key = jax.random.PRNGKey(0)\n",
    "output_shape, initial_params = init_fun(key, input_shape)"
   ]
  },
  {
   "cell_type": "code",
   "execution_count": 38,
   "metadata": {
    "ExecuteTime": {
     "end_time": "2020-08-21T04:26:35.467814Z",
     "start_time": "2020-08-21T04:26:35.462232Z"
    }
   },
   "outputs": [],
   "source": [
    "with open('bow_models/bow_agnews_3class', 'rb') as f:\n",
    "    bow_params = pickle.load(f)"
   ]
  },
  {
   "cell_type": "code",
   "execution_count": 41,
   "metadata": {
    "ExecuteTime": {
     "end_time": "2020-08-21T04:26:56.216641Z",
     "start_time": "2020-08-21T04:26:56.211435Z"
    }
   },
   "outputs": [],
   "source": [
    "def delta_logit_bow(vocab_indices, apply_fun, params):\n",
    "    test_batch = jnp.zeros((1+len(vocab_indices), seq_length), dtype = jnp.int64)\n",
    "    test_batch = jax.ops.index_update(test_batch, jax.ops.index[1:len(vocab_indices)+1,0], vocab_indices)\n",
    "    \n",
    "    logits = apply_fun(params, test_batch)\n",
    "    return logits[1:] - logits[0]"
   ]
  },
  {
   "cell_type": "markdown",
   "metadata": {},
   "source": [
    "# Load trained model"
   ]
  },
  {
   "cell_type": "code",
   "execution_count": 331,
   "metadata": {
    "ExecuteTime": {
     "end_time": "2020-08-21T05:24:49.884910Z",
     "start_time": "2020-08-21T05:24:49.870129Z"
    }
   },
   "outputs": [],
   "source": [
    "data_folder = 'results/ag_news/5_Epoch/classes_3_cell_GRU_eta_0.01_L2_0.01_run_6o2a1mp2/'\n",
    "with open(os.path.join(data_folder, 'config.json')) as f:\n",
    "    config = json.load(f)\n",
    "cell = model_utils.get_cell(config['model']['cell_type'],\n",
    "                        num_units=config['model']['num_units'])\n",
    "\n",
    "init_fun, rnn_apply_fun, emb_apply, readout_apply = network.build_rnn(vocab_size,\n",
    "                                                                  config['model']['emb_size'],\n",
    "                                                                  cell,\n",
    "                                                                  num_outputs=config['model']['num_outputs'])\n",
    "emb_init, emb_apply = renn.embedding(vocab_size, \n",
    "                                     config['model']['emb_size'])\n",
    "\n",
    "network_params = model_utils.load_params(os.path.join(data_folder, 'final_params'))\n",
    "emb_params, rnn_params, readout_params = network_params"
   ]
  },
  {
   "cell_type": "code",
   "execution_count": 332,
   "metadata": {
    "ExecuteTime": {
     "end_time": "2020-08-21T05:24:58.480706Z",
     "start_time": "2020-08-21T05:24:58.474930Z"
    }
   },
   "outputs": [],
   "source": [
    "def delta_logit_rnn(inp_nums, rnn_cell, rnn_readout_fun, rnn_emb_fun, rnn_readout_params, rnn_emb_params, rnn_params):\n",
    "    initial_states = rnn_cell.get_initial_state(rnn_params, batch_size=len(inp_nums))\n",
    "    initial_logits = rnn_readout_fun(rnn_readout_params, initial_states)\n",
    "    \n",
    "    word_input = rnn_emb_fun(rnn_emb_params, inp_nums)\n",
    "    final_states = rnn_cell.batch_apply(rnn_params, word_input, initial_states)\n",
    "    final_logits = rnn_readout_fun(rnn_readout_params, final_states)\n",
    "    \n",
    "    return final_logits - initial_logits"
   ]
  },
  {
   "cell_type": "markdown",
   "metadata": {},
   "source": [
    "# Comparison"
   ]
  },
  {
   "cell_type": "code",
   "execution_count": 333,
   "metadata": {
    "ExecuteTime": {
     "end_time": "2020-08-21T05:24:58.779386Z",
     "start_time": "2020-08-21T05:24:58.745960Z"
    }
   },
   "outputs": [
    {
     "name": "stderr",
     "output_type": "stream",
     "text": [
      "/usr/local/google/home/ramasesh/VirtualEnvs/dyn/lib/python3.7/site-packages/jax/lax/lax.py:5905: UserWarning: Explicitly requested dtype <class 'jax.numpy.lax_numpy.int64'> requested in zeros is not available, and will be truncated to dtype int32. To enable more dtypes, set the jax_enable_x64 configuration option or the JAX_ENABLE_X64 shell environment variable. See https://github.com/google/jax#current-gotchas for more.\n",
      "  warnings.warn(msg.format(dtype, fun_name , truncated_dtype))\n"
     ]
    }
   ],
   "source": [
    "words_to_try = range(5000)\n",
    "bow_change = delta_logit_bow(words_to_try, bow_apply_fun, bow_params)\n",
    "allowed_indices = jnp.where(jnp.max(jnp.abs(bow_change), axis=1) > 1.0)[0]"
   ]
  },
  {
   "cell_type": "code",
   "execution_count": 334,
   "metadata": {
    "ExecuteTime": {
     "end_time": "2020-08-21T05:24:58.880920Z",
     "start_time": "2020-08-21T05:24:58.875531Z"
    }
   },
   "outputs": [
    {
     "data": {
      "text/plain": [
       "138"
      ]
     },
     "execution_count": 334,
     "metadata": {},
     "output_type": "execute_result"
    }
   ],
   "source": [
    "len(allowed_indices)"
   ]
  },
  {
   "cell_type": "code",
   "execution_count": 335,
   "metadata": {
    "ExecuteTime": {
     "end_time": "2020-08-21T05:24:59.254710Z",
     "start_time": "2020-08-21T05:24:59.017343Z"
    }
   },
   "outputs": [
    {
     "data": {
      "text/plain": [
       "[None, None, None, None, None, None]"
      ]
     },
     "execution_count": 335,
     "metadata": {},
     "output_type": "execute_result"
    },
    {
     "data": {
      "image/png": "[encoded data removed]",
      "text/plain": [
       "<Figure size 144x720 with 2 Axes>"
      ]
     },
     "metadata": {
      "needs_background": "light"
     },
     "output_type": "display_data"
    }
   ],
   "source": [
    "min_word = 91\n",
    "max_word = 120\n",
    "\n",
    "f, ax = plt.subplots(figsize=(2,10))\n",
    "im = ax.imshow(bow_change[jax.ops.index[allowed_indices[jax.ops.index[min_word:max_word + 1]]]], vmin=-2, vmax=2, cmap='RdBu')\n",
    "ax.set_yticks(np.arange(max_word - min_word+1))\n",
    "ax.set_yticklabels([vocab[i][:-1] for i in allowed_indices[jax.ops.index[min_word:max_word + 1]]])\n",
    "ax.set_xticks([0,1,2])\n",
    "ax.set_xticklabels(['World', 'Sports', 'Business'])\n",
    "cbar = ax.figure.colorbar(im, ax=ax)\n",
    "plt.setp(ax.get_xticklabels(), rotation=45, ha=\"right\",\n",
    "         rotation_mode=\"anchor\")"
   ]
  },
  {
   "cell_type": "code",
   "execution_count": 336,
   "metadata": {
    "ExecuteTime": {
     "end_time": "2020-08-21T05:24:59.531571Z",
     "start_time": "2020-08-21T05:24:59.351455Z"
    }
   },
   "outputs": [
    {
     "data": {
      "text/plain": [
       "Text(0, 0.5, 'Frequency')"
      ]
     },
     "execution_count": 336,
     "metadata": {},
     "output_type": "execute_result"
    },
    {
     "data": {
      "image/png": "[encoded data removed]",
      "text/plain": [
       "<Figure size 432x288 with 1 Axes>"
      ]
     },
     "metadata": {
      "needs_background": "light"
     },
     "output_type": "display_data"
    }
   ],
   "source": [
    "plt.hist(jnp.max(jnp.abs(bow_change), axis=1), bins=np.linspace(0,2, 50))\n",
    "plt.xlabel('Max logit change')\n",
    "plt.ylabel('Frequency')"
   ]
  },
  {
   "cell_type": "code",
   "execution_count": 337,
   "metadata": {
    "ExecuteTime": {
     "end_time": "2020-08-21T05:24:59.649198Z",
     "start_time": "2020-08-21T05:24:59.646212Z"
    }
   },
   "outputs": [
    {
     "data": {
      "text/plain": [
       "138"
      ]
     },
     "execution_count": 337,
     "metadata": {},
     "output_type": "execute_result"
    }
   ],
   "source": [
    "len(allowed_indices)"
   ]
  },
  {
   "cell_type": "code",
   "execution_count": 338,
   "metadata": {
    "ExecuteTime": {
     "end_time": "2020-08-21T05:24:59.827872Z",
     "start_time": "2020-08-21T05:24:59.812946Z"
    }
   },
   "outputs": [],
   "source": [
    "bow_change = delta_logit_bow(allowed_indices, bow_apply_fun, bow_params)"
   ]
  },
  {
   "cell_type": "code",
   "execution_count": 339,
   "metadata": {
    "ExecuteTime": {
     "end_time": "2020-08-21T05:24:59.946662Z",
     "start_time": "2020-08-21T05:24:59.918920Z"
    }
   },
   "outputs": [],
   "source": [
    "rnn_change = delta_logit_rnn(allowed_indices, cell, readout_apply, emb_apply, readout_params, emb_params, rnn_params)"
   ]
  },
  {
   "cell_type": "code",
   "execution_count": 340,
   "metadata": {
    "ExecuteTime": {
     "end_time": "2020-08-21T05:25:00.289184Z",
     "start_time": "2020-08-21T05:25:00.283729Z"
    }
   },
   "outputs": [],
   "source": [
    "def theta(vecs1, vecs2):\n",
    "    dot_products = jnp.diag(jnp.dot(vecs1, vecs2.T))\n",
    "    magnitudes = jnp.sqrt(jnp.diag(jnp.dot(vecs1, vecs1.T))*jnp.diag(jnp.dot(vecs2, vecs2.T)))\n",
    "    \n",
    "    return jnp.arccos(dot_products/magnitudes)"
   ]
  },
  {
   "cell_type": "code",
   "execution_count": 341,
   "metadata": {
    "ExecuteTime": {
     "end_time": "2020-08-21T05:25:00.660023Z",
     "start_time": "2020-08-21T05:25:00.647119Z"
    }
   },
   "outputs": [],
   "source": [
    "thetas = theta(rnn_change, bow_change)"
   ]
  },
  {
   "cell_type": "code",
   "execution_count": 342,
   "metadata": {
    "ExecuteTime": {
     "end_time": "2020-08-21T05:25:00.980889Z",
     "start_time": "2020-08-21T05:25:00.973171Z"
    }
   },
   "outputs": [
    {
     "data": {
      "text/plain": [
       "DeviceArray(24.58804, dtype=float32)"
      ]
     },
     "execution_count": 342,
     "metadata": {},
     "output_type": "execute_result"
    }
   ],
   "source": [
    "np.mean(thetas)*180/np.pi"
   ]
  },
  {
   "cell_type": "code",
   "execution_count": 343,
   "metadata": {
    "ExecuteTime": {
     "end_time": "2020-08-21T05:25:01.327925Z",
     "start_time": "2020-08-21T05:25:01.165947Z"
    }
   },
   "outputs": [
    {
     "data": {
      "text/plain": [
       "Text(0.8, 30, 'Mean: 24.59\\ndegrees')"
      ]
     },
     "execution_count": 343,
     "metadata": {},
     "output_type": "execute_result"
    },
    {
     "data": {
      "image/png": "[encoded data removed]",
      "text/plain": [
       "<Figure size 432x288 with 1 Axes>"
      ]
     },
     "metadata": {
      "needs_background": "light"
     },
     "output_type": "display_data"
    }
   ],
   "source": [
    "plt.hist(thetas, bins=np.linspace(0,1, 20))\n",
    "plt.xlabel('Theta (rad)')\n",
    "plt.ylabel('Frequency')\n",
    "plt.axvline(np.mean(thetas), linestyle='dotted', color='k')\n",
    "plt.text(0.8, 30, f'Mean: {np.mean(thetas)*180/np.pi:0.2f}\\ndegrees')"
   ]
  },
  {
   "cell_type": "code",
   "execution_count": null,
   "metadata": {},
   "outputs": [],
   "source": []
  }
 ],
 "metadata": {
  "kernelspec": {
   "display_name": "Python 3",
   "language": "python",
   "name": "python3"
  },
  "language_info": {
   "codemirror_mode": {
    "name": "ipython",
    "version": 3
   },
   "file_extension": ".py",
   "mimetype": "text/x-python",
   "name": "python",
   "nbconvert_exporter": "python",
   "pygments_lexer": "ipython3",
   "version": "3.7.7"
  },
  "toc": {
   "base_numbering": 1,
   "nav_menu": {},
   "number_sections": true,
   "sideBar": true,
   "skip_h1_title": false,
   "title_cell": "Table of Contents",
   "title_sidebar": "Contents",
   "toc_cell": false,
   "toc_position": {},
   "toc_section_display": true,
   "toc_window_display": false
  }
 },
 "nbformat": 4,
 "nbformat_minor": 4
}
