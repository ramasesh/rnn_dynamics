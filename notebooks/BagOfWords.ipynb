{
 "cells": [
  {
   "cell_type": "markdown",
   "metadata": {},
   "source": [
    "# Training and analyzing bag-of-words models\n",
    "\n",
    "This notebook allows for training bag-of-words models on the datasets we use, for comparison to the RNN solutions."
   ]
  },
  {
   "cell_type": "code",
   "execution_count": 26,
   "metadata": {
    "ExecuteTime": {
     "end_time": "2020-11-25T19:33:02.574097Z",
     "start_time": "2020-11-25T19:33:02.568258Z"
    }
   },
   "outputs": [],
   "source": [
    "import renn\n",
    "from renn.losses import multiclass_xent\n",
    "\n",
    "import jax\n",
    "from jax.experimental import stax, optimizers\n",
    "import jax.numpy as jnp\n",
    "\n",
    "import numpy as np\n",
    "import matplotlib.pyplot as plt\n",
    "\n",
    "import tensorflow_datasets as tfds\n",
    "from src import data\n",
    "\n",
    "from data_processing import analysis_utils as au"
   ]
  },
  {
   "cell_type": "code",
   "execution_count": 2,
   "metadata": {
    "ExecuteTime": {
     "end_time": "2020-11-25T19:24:06.118617Z",
     "start_time": "2020-11-25T19:24:06.111946Z"
    }
   },
   "outputs": [
    {
     "name": "stdout",
     "output_type": "stream",
     "text": [
      "/usr/local/google/home/ramasesh/Projects/rnn_dynamics\n"
     ]
    }
   ],
   "source": [
    "cd .."
   ]
  },
  {
   "cell_type": "markdown",
   "metadata": {},
   "source": [
    "## Load dataset"
   ]
  },
  {
   "cell_type": "code",
   "execution_count": 3,
   "metadata": {
    "ExecuteTime": {
     "end_time": "2020-11-25T19:24:06.963657Z",
     "start_time": "2020-11-25T19:24:06.957746Z"
    }
   },
   "outputs": [],
   "source": [
    "DATASET = 'ag_news'\n",
    "\n",
    "dataset_configs = {'dbpedia': {'dataset': 'dbpedia',\n",
    "                               'max_pad': 400,\n",
    "                               'batch_size': 256,\n",
    "                               'num_classes': 14},\n",
    "                   'yelp':    {'dataset': 'yelp',\n",
    "                               'max_pad': 800,\n",
    "                               'batch_size': 256,\n",
    "                               'num_classes': 5},\n",
    "                   'ag_news': {'dataset': 'ag_news',\n",
    "                               'max_pad': 160,\n",
    "                               'num_classes': 4,\n",
    "                               'batch_size': 256}}"
   ]
  },
  {
   "cell_type": "code",
   "execution_count": 4,
   "metadata": {
    "ExecuteTime": {
     "end_time": "2020-11-25T19:24:10.170045Z",
     "start_time": "2020-11-25T19:24:07.644077Z"
    }
   },
   "outputs": [
    {
     "name": "stdout",
     "output_type": "stream",
     "text": [
      "WARNING:tensorflow:From /usr/local/google/home/ramasesh/Projects/rnn_dynamics/env/lib/python3.8/site-packages/tensorflow/python/util/dispatch.py:201: batch_gather (from tensorflow.python.ops.array_ops) is deprecated and will be removed after 2017-10-25.\n",
      "Instructions for updating:\n",
      "`tf.batch_gather` is deprecated, please use `tf.gather` with `batch_dims=-1` instead.\n"
     ]
    },
    {
     "name": "stderr",
     "output_type": "stream",
     "text": [
      "WARNING:tensorflow:From /usr/local/google/home/ramasesh/Projects/rnn_dynamics/env/lib/python3.8/site-packages/tensorflow/python/util/dispatch.py:201: batch_gather (from tensorflow.python.ops.array_ops) is deprecated and will be removed after 2017-10-25.\n",
      "Instructions for updating:\n",
      "`tf.batch_gather` is deprecated, please use `tf.gather` with `batch_dims=-1` instead.\n"
     ]
    }
   ],
   "source": [
    "vocab_size, train_dset, test_dset = data.get_dataset(dataset_configs[DATASET])"
   ]
  },
  {
   "cell_type": "markdown",
   "metadata": {},
   "source": [
    "## Build model"
   ]
  },
  {
   "cell_type": "code",
   "execution_count": 5,
   "metadata": {
    "ExecuteTime": {
     "end_time": "2020-11-25T19:24:11.035635Z",
     "start_time": "2020-11-25T19:24:11.031353Z"
    }
   },
   "outputs": [],
   "source": [
    "EMBEDDING_DIMENSION=32\n",
    "VOCAB_SIZE=vocab_size\n",
    "NUM_CLASSES=dataset_configs[DATASET]['num_classes']"
   ]
  },
  {
   "cell_type": "code",
   "execution_count": 6,
   "metadata": {
    "ExecuteTime": {
     "end_time": "2020-11-25T19:24:14.156846Z",
     "start_time": "2020-11-25T19:24:14.151315Z"
    }
   },
   "outputs": [],
   "source": [
    "def SequenceSum():\n",
    "    def init_fun(_, input_shape):\n",
    "        return (input_shape[0], input_shape[2]), ()\n",
    "    def apply_fun(_, inputs, **kwargs):\n",
    "        return jnp.sum(inputs, axis=1)\n",
    "    return init_fun, apply_fun"
   ]
  },
  {
   "cell_type": "code",
   "execution_count": 7,
   "metadata": {
    "ExecuteTime": {
     "end_time": "2020-11-25T19:24:14.942443Z",
     "start_time": "2020-11-25T19:24:14.937359Z"
    }
   },
   "outputs": [],
   "source": [
    "input_shape = (-1, dataset_configs[DATASET]['max_pad'])\n",
    "\n",
    "# Linear model\n",
    "init_fun, apply_fun = stax.serial(\n",
    "    renn.embedding(VOCAB_SIZE, EMBEDDING_DIMENSION),\n",
    "    SequenceSum(),\n",
    "    stax.Dense(NUM_CLASSES),\n",
    "    )\n",
    "\n"
   ]
  },
  {
   "cell_type": "markdown",
   "metadata": {},
   "source": [
    "### Loss and Accuracy functions"
   ]
  },
  {
   "cell_type": "code",
   "execution_count": 8,
   "metadata": {
    "ExecuteTime": {
     "end_time": "2020-11-25T19:24:15.904165Z",
     "start_time": "2020-11-25T19:24:15.896751Z"
    }
   },
   "outputs": [],
   "source": [
    "# Loss\n",
    "def xent(params, batch):\n",
    "    logits = apply_fun(params, batch['inputs'])\n",
    "    data_loss = multiclass_xent(logits, batch['labels'])\n",
    "    return data_loss\n",
    "\n",
    "f_df = jax.value_and_grad(xent)\n",
    "\n",
    "# Accuracy\n",
    "@jax.jit\n",
    "def accuracy(params, batch):\n",
    "    logits = apply_fun(params, batch['inputs'])\n",
    "    predictions = jnp.argmax(logits, axis=1)\n",
    "    return jnp.mean(predictions == batch['labels'])"
   ]
  },
  {
   "cell_type": "markdown",
   "metadata": {},
   "source": [
    "## Training"
   ]
  },
  {
   "cell_type": "code",
   "execution_count": 9,
   "metadata": {
    "ExecuteTime": {
     "end_time": "2020-11-25T19:24:17.152847Z",
     "start_time": "2020-11-25T19:24:17.149006Z"
    }
   },
   "outputs": [],
   "source": [
    "NUM_EPOCHS=3"
   ]
  },
  {
   "cell_type": "markdown",
   "metadata": {},
   "source": [
    "### Initialize model"
   ]
  },
  {
   "cell_type": "code",
   "execution_count": 10,
   "metadata": {
    "ExecuteTime": {
     "end_time": "2020-11-25T19:24:21.142892Z",
     "start_time": "2020-11-25T19:24:18.393612Z"
    }
   },
   "outputs": [],
   "source": [
    "# Initialize\n",
    "key = jax.random.PRNGKey(0)\n",
    "output_shape, initial_params = init_fun(key, input_shape)\n",
    "\n",
    "# Set the embedding to 0 for 0\n",
    "emb = initial_params[0]\n",
    "new_emb = np.array(emb)\n",
    "new_emb[0] = np.zeros(EMBEDDING_DIMENSION)\n",
    "initial_params = [jnp.array(new_emb), *initial_params[1:]]"
   ]
  },
  {
   "cell_type": "markdown",
   "metadata": {},
   "source": [
    "### Train"
   ]
  },
  {
   "cell_type": "code",
   "execution_count": 11,
   "metadata": {
    "ExecuteTime": {
     "end_time": "2020-11-25T19:24:27.908272Z",
     "start_time": "2020-11-25T19:24:27.894193Z"
    }
   },
   "outputs": [],
   "source": [
    "learning_rate = optimizers.exponential_decay(2e-3, 1000, 0.8)\n",
    "init_opt, update_opt, get_params = optimizers.adam(learning_rate)\n",
    "\n",
    "state = init_opt(initial_params)\n",
    "losses = []\n",
    "\n",
    "@jax.jit\n",
    "def step(k, opt_state, batch):\n",
    "    params = get_params(opt_state)\n",
    "    loss, gradients = f_df(params, batch)\n",
    "    new_state = update_opt(k, gradients, opt_state)\n",
    "    return new_state, loss\n",
    "\n",
    "def test_acc(params):\n",
    "    return jnp.array([accuracy(params, batch) for batch in tfds.as_numpy(test_dset)])"
   ]
  },
  {
   "cell_type": "code",
   "execution_count": 16,
   "metadata": {
    "ExecuteTime": {
     "end_time": "2020-11-25T19:29:50.673238Z",
     "start_time": "2020-11-25T19:28:06.238543Z"
    }
   },
   "outputs": [
    {
     "name": "stdout",
     "output_type": "stream",
     "text": [
      "=====================================\n",
      "== Epoch #0\n",
      "== Test accuracy: 24.24%\n",
      "=====================================\n",
      "[step 0]\tLoss: nan\n"
     ]
    },
    {
     "name": "stderr",
     "output_type": "stream",
     "text": [
      "/usr/local/google/home/ramasesh/Projects/rnn_dynamics/env/lib/python3.8/site-packages/numpy/core/fromnumeric.py:3372: RuntimeWarning: Mean of empty slice.\n",
      "  return _methods._mean(a, axis=axis, dtype=dtype,\n",
      "/usr/local/google/home/ramasesh/Projects/rnn_dynamics/env/lib/python3.8/site-packages/numpy/core/_methods.py:170: RuntimeWarning: invalid value encountered in double_scalars\n",
      "  ret = ret.dtype.type(ret / rcount)\n"
     ]
    },
    {
     "name": "stdout",
     "output_type": "stream",
     "text": [
      "[step 100]\tLoss: 0.6000\n",
      "[step 200]\tLoss: 0.3233\n",
      "[step 300]\tLoss: 0.2962\n",
      "[step 400]\tLoss: 0.2821\n",
      "=====================================\n",
      "== Epoch #1\n",
      "== Test accuracy: 89.94%\n",
      "=====================================\n",
      "[step 500]\tLoss: 0.2678\n",
      "[step 600]\tLoss: 0.1867\n",
      "[step 700]\tLoss: 0.1779\n",
      "[step 800]\tLoss: 0.1699\n",
      "[step 900]\tLoss: 0.1806\n",
      "=====================================\n",
      "== Epoch #2\n",
      "== Test accuracy: 90.44%\n",
      "=====================================\n",
      "[step 1000]\tLoss: 0.1610\n",
      "[step 1100]\tLoss: 0.1299\n",
      "[step 1200]\tLoss: 0.1343\n",
      "[step 1300]\tLoss: 0.1264\n",
      "[step 1400]\tLoss: 0.1278\n",
      "=====================================\n",
      "== Epoch #2\n",
      "== Test accuracy: 89.83%\n",
      "=====================================\n"
     ]
    }
   ],
   "source": [
    "for epoch in range(NUM_EPOCHS):\n",
    "    print('=====================================')\n",
    "    print(f'== Epoch #{epoch}')\n",
    "    p = get_params(state)\n",
    "    acc = np.mean(test_acc(p))\n",
    "    print(f'== Test accuracy: {100. * acc:0.2f}%')\n",
    "    print('=====================================')\n",
    "    \n",
    "    for batch in tfds.as_numpy(train_dset):\n",
    "        k = len(losses)\n",
    "        state, loss = step(k, state, batch)\n",
    "        losses.append(loss)\n",
    "\n",
    "        if k % 100 == 0:\n",
    "            p = get_params(state)\n",
    "            print(f'[step {k}]\\tLoss: {np.mean(losses[k-100:k]):0.4f}', flush=True)\n",
    "            \n",
    "print('=====================================')\n",
    "print(f'== Epoch #{epoch}')\n",
    "p = get_params(state)\n",
    "acc = np.mean(test_acc(p))\n",
    "print(f'== Test accuracy: {100. * acc:0.2f}%')\n",
    "print('=====================================')"
   ]
  },
  {
   "cell_type": "markdown",
   "metadata": {},
   "source": [
    "## Analyze"
   ]
  },
  {
   "cell_type": "markdown",
   "metadata": {},
   "source": [
    "Here we get the effective dimensionality of the bag-of-words models, by accumulating the logit changes which are induced by particular words and then "
   ]
  },
  {
   "cell_type": "code",
   "execution_count": 17,
   "metadata": {
    "ExecuteTime": {
     "end_time": "2020-11-25T19:31:05.758796Z",
     "start_time": "2020-11-25T19:31:05.753973Z"
    }
   },
   "outputs": [],
   "source": [
    "params = get_params(state)"
   ]
  },
  {
   "cell_type": "code",
   "execution_count": 18,
   "metadata": {
    "ExecuteTime": {
     "end_time": "2020-11-25T19:31:33.134426Z",
     "start_time": "2020-11-25T19:31:33.129281Z"
    }
   },
   "outputs": [],
   "source": [
    "def delta_logit(vocab_index, params):\n",
    "    \"\"\"Returns the changes in bag-of-words logit values induced\n",
    "    by the word 'vocab_index' \"\"\"\n",
    "    test_batch = jnp.zeros((2, 160), dtype = jnp.int64)\n",
    "    test_batch = jax.ops.index_update(test_batch, jax.ops.index[1,0], vocab_index)\n",
    "    \n",
    "    logits = apply_fun(params, test_batch)\n",
    "    return logits[1] - logits[0]"
   ]
  },
  {
   "cell_type": "code",
   "execution_count": 19,
   "metadata": {
    "ExecuteTime": {
     "end_time": "2020-11-25T19:31:46.674975Z",
     "start_time": "2020-11-25T19:31:46.672392Z"
    }
   },
   "outputs": [],
   "source": [
    "num_words = 300"
   ]
  },
  {
   "cell_type": "code",
   "execution_count": 20,
   "metadata": {
    "ExecuteTime": {
     "end_time": "2020-11-25T19:31:56.452257Z",
     "start_time": "2020-11-25T19:31:56.216686Z"
    }
   },
   "outputs": [],
   "source": [
    "most_common_words = np.arange(num_words).reshape(1,-1).T\n",
    "output_logits = {'initial': apply_fun(initial_params, most_common_words),\n",
    "                 'final': apply_fun(p, most_common_words)}"
   ]
  },
  {
   "cell_type": "code",
   "execution_count": 21,
   "metadata": {
    "ExecuteTime": {
     "end_time": "2020-11-25T19:32:05.269830Z",
     "start_time": "2020-11-25T19:32:04.675570Z"
    }
   },
   "outputs": [],
   "source": [
    "f = lambda x: x[1:] - x[0]\n",
    "logit_changes = {k: f(v) for k,v in output_logits.items()}"
   ]
  },
  {
   "cell_type": "code",
   "execution_count": 23,
   "metadata": {
    "ExecuteTime": {
     "end_time": "2020-11-25T19:32:30.955818Z",
     "start_time": "2020-11-25T19:32:30.924136Z"
    }
   },
   "outputs": [],
   "source": [
    "PCA_obj = {k: au.PCA_rnn() for k in output_logits.keys()}\n",
    "\n",
    "for k in output_logits.keys():\n",
    "    PCA_obj[k].fit(logit_changes[k])"
   ]
  },
  {
   "cell_type": "code",
   "execution_count": 24,
   "metadata": {
    "ExecuteTime": {
     "end_time": "2020-11-25T19:32:42.060463Z",
     "start_time": "2020-11-25T19:32:42.055398Z"
    }
   },
   "outputs": [],
   "source": [
    "dimensionalities = {k: au.cumulative_var_explained(PCA_obj[k]) for k in PCA_obj.keys()}"
   ]
  },
  {
   "cell_type": "code",
   "execution_count": 29,
   "metadata": {
    "ExecuteTime": {
     "end_time": "2020-11-25T19:33:25.482667Z",
     "start_time": "2020-11-25T19:33:25.315567Z"
    }
   },
   "outputs": [
    {
     "data": {
      "image/png": "[encoded data removed]",
      "text/plain": [
       "<Figure size 576x288 with 1 Axes>"
      ]
     },
     "metadata": {
      "needs_background": "light"
     },
     "output_type": "display_data"
    }
   ],
   "source": [
    "f = au.plot_varexp(dimensionalities)\n",
    "plt.xlim(-1,5)\n",
    "plt.title(\"Effective dimensionality of the bag-of-words logits\", fontsize=16);"
   ]
  },
  {
   "cell_type": "code",
   "execution_count": null,
   "metadata": {},
   "outputs": [],
   "source": []
  }
 ],
 "metadata": {
  "kernelspec": {
   "display_name": "Python 3",
   "language": "python",
   "name": "python3"
  },
  "language_info": {
   "codemirror_mode": {
    "name": "ipython",
    "version": 3
   },
   "file_extension": ".py",
   "mimetype": "text/x-python",
   "name": "python",
   "nbconvert_exporter": "python",
   "pygments_lexer": "ipython3",
   "version": "3.8.5"
  },
  "toc": {
   "base_numbering": 1,
   "nav_menu": {},
   "number_sections": true,
   "sideBar": true,
   "skip_h1_title": false,
   "title_cell": "Table of Contents",
   "title_sidebar": "Contents",
   "toc_cell": false,
   "toc_position": {},
   "toc_section_display": true,
   "toc_window_display": false
  }
 },
 "nbformat": 4,
 "nbformat_minor": 4
}
