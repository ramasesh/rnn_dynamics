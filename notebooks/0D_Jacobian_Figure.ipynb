{
 "cells": [
  {
   "cell_type": "code",
   "execution_count": 1,
   "metadata": {
    "ExecuteTime": {
     "end_time": "2020-09-22T05:49:13.630364Z",
     "start_time": "2020-09-22T05:49:11.913487Z"
    }
   },
   "outputs": [],
   "source": [
    "# import tensorflow as tf\n",
    "import functools\n",
    "import jax.numpy as jnp\n",
    "import os\n",
    "import json_lines\n",
    "import numpy as np\n",
    "import json\n",
    "\n",
    "import jax\n",
    "from jax.experimental import optimizers\n",
    "from src import data, model_utils, optim_utils, measurements\n",
    "from renn.rnn import cells, unroll, network\n",
    "from renn import utils\n",
    "import renn\n",
    "\n",
    "from data_processing import analysis_utils as au\n",
    "from renn import analysis_utils as renn_au\n",
    "\n",
    "import tensorflow_datasets as tfds\n",
    "\n",
    "from sklearn.decomposition import PCA\n",
    "\n",
    "import matplotlib.pyplot as plt\n",
    "%matplotlib inline\n",
    "\n",
    "import jetpack"
   ]
  },
  {
   "cell_type": "markdown",
   "metadata": {},
   "source": [
    "# Model and data loading"
   ]
  },
  {
   "cell_type": "code",
   "execution_count": 2,
   "metadata": {
    "ExecuteTime": {
     "end_time": "2020-09-22T05:49:46.047961Z",
     "start_time": "2020-09-22T05:49:16.728240Z"
    }
   },
   "outputs": [
    {
     "name": "stdout",
     "output_type": "stream",
     "text": [
      "WARNING:tensorflow:From /usr/local/google/home/ramasesh/VirtualEnvs/dyn/lib/python3.7/site-packages/tensorflow/python/util/dispatch.py:201: batch_gather (from tensorflow.python.ops.array_ops) is deprecated and will be removed after 2017-10-25.\n",
      "Instructions for updating:\n",
      "`tf.batch_gather` is deprecated, please use `tf.gather` with `batch_dims=-1` instead.\n"
     ]
    }
   ],
   "source": [
    "folders_to_use = {'GRU': 'results/yelp/five_class_fine_L2/GRU_eta_0.01_L2_0.1_run_om1jxhhv/',\n",
    "                  'LSTM': 'results/yelp/five_class_fine_L2/LSTM_eta_0.01_L2_0.26826958_run_t9xq09dl/',\n",
    "                  'UGRNN': 'results/yelp/five_class_fine_L2/UGRNN_eta_0.01_L2_0.26826958_run_eeh67rsj/'}\n",
    "\n",
    "eigenvalues = {}\n",
    "\n",
    "# del folders_to_use['GRU']\n",
    "\n",
    "for arch, data_folder in folders_to_use.items():\n",
    "    \n",
    "    # load config\n",
    "    with open(os.path.join(data_folder, 'config.json')) as f:\n",
    "        config = json.load(f)\n",
    "        \n",
    "    # load data\n",
    "    vocab_size, train_dset, test_dset = data.get_dataset(config['data'])\n",
    "    \n",
    "    cell = model_utils.get_cell(config['model']['cell_type'],\n",
    "                            num_units=config['model']['num_units'])\n",
    "    \n",
    "    init_fun, apply_fun, emb_apply, readout_apply = network.build_rnn(vocab_size,\n",
    "                                                                  config['model']['emb_size'],\n",
    "                                                                  cell,\n",
    "                                                                  num_outputs=config['model']['num_outputs'])\n",
    "    \n",
    "    network_params = model_utils.load_params(os.path.join(data_folder, 'final_params'))\n",
    "    emb_params, rnn_params, readout_params = network_params\n",
    "    \n",
    "    test_batch = next(iter(tfds.as_numpy(test_dset)))\n",
    "    \n",
    "    visited_states = au.rnn_states(cell, test_batch, rnn_params, emb_params, emb_apply)\n",
    "    final_states = au.rnn_end_states(cell, test_batch, rnn_params, emb_params, emb_apply)\n",
    "    \n",
    "    fixed_points_, loss_hist, fp_losses = au.fixed_points(cell,\n",
    "                                                    rnn_params,\n",
    "                                                    visited_states,\n",
    "                                                    tolerance=5e-6,\n",
    "                                                    embedding_size=config['model']['emb_size'],\n",
    "                                                    noise_scale=0.4,\n",
    "                                                    decimation_factor=4\n",
    "                                                    )\n",
    "\n",
    "    linearization_point = fixed_points_[0]\n",
    "    \n",
    "    J_hh = cell.rec_jac(rnn_params, \n",
    "             jnp.zeros(config['model']['emb_size']), \n",
    "             linearization_point)\n",
    "\n",
    "    R, E, L = renn.eigsorted(J_hh)\n",
    "    \n",
    "    eigenvalues[arch] = E"
   ]
  },
  {
   "cell_type": "code",
   "execution_count": 3,
   "metadata": {
    "ExecuteTime": {
     "end_time": "2020-09-22T05:50:46.108581Z",
     "start_time": "2020-09-22T05:50:46.096014Z"
    }
   },
   "outputs": [],
   "source": [
    "import pickle\n",
    "with open('paper_figures/zero_d_eigenvalues.pickle', 'wb') as f:\n",
    "    pickle.dump(eigenvalues, f)"
   ]
  },
  {
   "cell_type": "markdown",
   "metadata": {},
   "source": [
    "# Image making"
   ]
  },
  {
   "cell_type": "code",
   "execution_count": null,
   "metadata": {
    "ExecuteTime": {
     "end_time": "2020-09-22T05:47:48.808572Z",
     "start_time": "2020-09-22T05:47:40.404Z"
    }
   },
   "outputs": [],
   "source": [
    "def plot_evals(evals, ax_obj):\n",
    "    ax_obj.scatter(np.real(evals), np.imag(evals), c='k', marker='.')\n",
    "    \n",
    "def plot_unit_circle(ax_obj):\n",
    "    t = np.linspace(0,np.pi*2,100)\n",
    "    ax_obj.plot(np.cos(t),np.sin(t),linewidth=1)\n",
    "\n",
    "def set_figure_settings(arch, arch_ind, ax_obj):\n",
    "    ax_obj.set_aspect('equal')\n",
    "    ax_obj.set_xlim(-1,1)\n",
    "    ax_obj.set_ylim(-1,1)\n",
    "    ax_obj.set_title(f'{arch} spectrum', fontsize=24)\n",
    "    ax_obj.grid()\n",
    "    ax_obj.set_xlabel('Real[eigenvalue]', fontsize=20)\n",
    " \n",
    "    ax_obj.set_xticks([-1, -0.5, 0, 0.5, 1])\n",
    "    ax_obj.set_yticks([-1, -0.5, 0, 0.5, 1])\n",
    "    ax_obj.set_xticklabels([-1, -0.5, 0, 0.5, 1], fontsize=20)\n",
    "\n",
    "    if arch_ind == 0:\n",
    "        ax_obj.set_ylabel('Imag[eigenvalue]', fontsize=20)\n",
    "        ax_obj.set_yticklabels([-1, -0.5, 0, 0.5, 1], fontsize=20)   \n",
    "    \n",
    "fig, ax = plt.subplots(figsize=(14, 5), ncols=3, sharey=True)    \n",
    "architectures = ['LSTM', 'GRU', 'UGRNN']\n",
    "for arch_ind, arch in enumerate(architectures):\n",
    "    plot_evals(eigenvalues[arch], ax[arch_ind])\n",
    "    plot_unit_circle(ax[arch_ind])\n",
    "    set_figure_settings(arch, arch_ind, ax[arch_ind])\n"
   ]
  },
  {
   "cell_type": "code",
   "execution_count": null,
   "metadata": {},
   "outputs": [],
   "source": []
  }
 ],
 "metadata": {
  "kernelspec": {
   "display_name": "Python 3",
   "language": "python",
   "name": "python3"
  },
  "language_info": {
   "codemirror_mode": {
    "name": "ipython",
    "version": 3
   },
   "file_extension": ".py",
   "mimetype": "text/x-python",
   "name": "python",
   "nbconvert_exporter": "python",
   "pygments_lexer": "ipython3",
   "version": "3.7.7"
  },
  "toc": {
   "base_numbering": 1,
   "nav_menu": {},
   "number_sections": true,
   "sideBar": true,
   "skip_h1_title": false,
   "title_cell": "Table of Contents",
   "title_sidebar": "Contents",
   "toc_cell": false,
   "toc_position": {},
   "toc_section_display": true,
   "toc_window_display": false
  }
 },
 "nbformat": 4,
 "nbformat_minor": 4
}
