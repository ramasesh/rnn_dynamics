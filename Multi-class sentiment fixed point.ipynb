{
 "cells": [
  {
   "cell_type": "code",
   "execution_count": 1,
   "metadata": {
    "ExecuteTime": {
     "end_time": "2020-07-31T19:30:06.949601Z",
     "start_time": "2020-07-31T19:30:05.412217Z"
    }
   },
   "outputs": [],
   "source": [
    "import functools\n",
    "import jax.numpy as jnp\n",
    "import os\n",
    "import json\n",
    "import numpy as np\n",
    "\n",
    "import jax\n",
    "from jax.experimental import optimizers\n",
    "from src import data, model_utils\n",
    "from renn.rnn import cells, unroll, network\n",
    "from renn import utils\n",
    "import renn\n",
    "\n",
    "from data_processing import analysis_utils as au\n",
    "\n",
    "import tensorflow_datasets as tfds\n",
    "\n",
    "from sklearn.decomposition import PCA\n",
    "\n",
    "import matplotlib.pyplot as plt\n",
    "%matplotlib inline"
   ]
  },
  {
   "cell_type": "markdown",
   "metadata": {},
   "source": [
    "## Model and data loading"
   ]
  },
  {
   "cell_type": "code",
   "execution_count": 220,
   "metadata": {
    "ExecuteTime": {
     "end_time": "2020-07-31T19:56:16.824976Z",
     "start_time": "2020-07-31T19:56:16.820843Z"
    }
   },
   "outputs": [],
   "source": [
    "data_folder = 'results/yelp/2class/LSTM_eta_0.01_L2_0.01_run_1gjjukc1/'"
   ]
  },
  {
   "cell_type": "code",
   "execution_count": 221,
   "metadata": {
    "ExecuteTime": {
     "end_time": "2020-07-31T19:56:17.277002Z",
     "start_time": "2020-07-31T19:56:17.071883Z"
    }
   },
   "outputs": [
    {
     "name": "stdout",
     "output_type": "stream",
     "text": [
      "config.json  final_params  test.acc.jsonl  train.acc.jsonl  train.loss.jsonl\r\n"
     ]
    }
   ],
   "source": [
    "ls results/yelp/2class/LSTM_eta_0.01_L2_0.01_run_08gtn8hq/"
   ]
  },
  {
   "cell_type": "code",
   "execution_count": 222,
   "metadata": {
    "ExecuteTime": {
     "end_time": "2020-07-31T19:56:17.286477Z",
     "start_time": "2020-07-31T19:56:17.281226Z"
    }
   },
   "outputs": [],
   "source": [
    "with open(os.path.join(data_folder, 'config.json')) as f:\n",
    "    config = json.load(f)"
   ]
  },
  {
   "cell_type": "markdown",
   "metadata": {
    "ExecuteTime": {
     "end_time": "2020-07-29T05:12:14.505590Z",
     "start_time": "2020-07-29T05:12:14.492213Z"
    }
   },
   "source": [
    "### Get data"
   ]
  },
  {
   "cell_type": "code",
   "execution_count": 223,
   "metadata": {
    "ExecuteTime": {
     "end_time": "2020-07-31T19:56:18.038676Z",
     "start_time": "2020-07-31T19:56:17.709911Z"
    }
   },
   "outputs": [],
   "source": [
    "encoder, train_dset, test_dset = data.get_dataset(config['data'])"
   ]
  },
  {
   "cell_type": "markdown",
   "metadata": {},
   "source": [
    "### Get model"
   ]
  },
  {
   "cell_type": "code",
   "execution_count": 224,
   "metadata": {
    "ExecuteTime": {
     "end_time": "2020-07-31T19:56:18.042226Z",
     "start_time": "2020-07-31T19:56:18.040048Z"
    }
   },
   "outputs": [],
   "source": [
    "cell = model_utils.get_cell(config['model']['cell_type'],\n",
    "                            num_units=config['model']['num_units'])"
   ]
  },
  {
   "cell_type": "code",
   "execution_count": 225,
   "metadata": {
    "ExecuteTime": {
     "end_time": "2020-07-31T19:56:18.145326Z",
     "start_time": "2020-07-31T19:56:18.139671Z"
    }
   },
   "outputs": [],
   "source": [
    "init_fun, apply_fun, emb_apply, readout_apply = network.build_rnn(encoder.vocab_size,\n",
    "                                                                  config['model']['emb_size'],\n",
    "                                                                  cell,\n",
    "                                                                  num_outputs=config['model']['num_outputs'])\n",
    "emb_init, emb_apply = renn.embedding(encoder.vocab_size, \n",
    "                                     config['model']['emb_size'])"
   ]
  },
  {
   "cell_type": "code",
   "execution_count": 226,
   "metadata": {
    "ExecuteTime": {
     "end_time": "2020-07-31T19:56:18.590842Z",
     "start_time": "2020-07-31T19:56:18.562506Z"
    }
   },
   "outputs": [],
   "source": [
    "network_params = model_utils.load_params(os.path.join(data_folder, 'final_params'))\n",
    "emb_params, rnn_params, readout_params = network_params"
   ]
  },
  {
   "cell_type": "code",
   "execution_count": 227,
   "metadata": {
    "ExecuteTime": {
     "end_time": "2020-07-31T19:56:18.759929Z",
     "start_time": "2020-07-31T19:56:18.729888Z"
    }
   },
   "outputs": [
    {
     "data": {
      "text/plain": [
       "DeviceArray(23.594744, dtype=float32)"
      ]
     },
     "execution_count": 227,
     "metadata": {},
     "output_type": "execute_result"
    }
   ],
   "source": [
    "optimizers.l2_norm(rnn_params)"
   ]
  },
  {
   "cell_type": "markdown",
   "metadata": {},
   "source": [
    "### Verify that model performs as we expect on the test set"
   ]
  },
  {
   "cell_type": "code",
   "execution_count": 228,
   "metadata": {
    "ExecuteTime": {
     "end_time": "2020-07-31T19:56:19.047765Z",
     "start_time": "2020-07-31T19:56:19.043170Z"
    }
   },
   "outputs": [],
   "source": [
    "acc_fun = utils.make_acc_fun(apply_fun,\n",
    "                             num_outputs = config['model']['num_outputs'])"
   ]
  },
  {
   "cell_type": "code",
   "execution_count": 229,
   "metadata": {
    "ExecuteTime": {
     "end_time": "2020-07-31T19:56:19.437860Z",
     "start_time": "2020-07-31T19:56:19.434250Z"
    }
   },
   "outputs": [],
   "source": [
    "# is_correct = []\n",
    "# for batch in tfds.as_numpy(test_dset):\n",
    "#     is_correct += [acc_fun(network_params, batch)]\n",
    "# test_acc = np.mean(is_correct)\n",
    "# print(f'Accuracy = {test_acc}')"
   ]
  },
  {
   "cell_type": "markdown",
   "metadata": {},
   "source": [
    "## Analysis"
   ]
  },
  {
   "cell_type": "markdown",
   "metadata": {},
   "source": [
    "### PCA of hidden states"
   ]
  },
  {
   "cell_type": "code",
   "execution_count": 230,
   "metadata": {
    "ExecuteTime": {
     "end_time": "2020-07-31T19:56:20.323576Z",
     "start_time": "2020-07-31T19:56:20.307010Z"
    }
   },
   "outputs": [],
   "source": [
    "@jax.jit\n",
    "def _get_all_states(inputs):\n",
    "    rnn_inputs = emb_apply(emb_params, inputs)\n",
    "    initial_states = cell.get_initial_state(rnn_params, batch_size=rnn_inputs.shape[0])\n",
    "    return renn.unroll_rnn(initial_states, rnn_inputs, functools.partial(cell.batch_apply, rnn_params))\n",
    "\n",
    "def rnn_states(batch):\n",
    "    states = _get_all_states(batch['inputs'])\n",
    "    return [h[:idx] for h, idx in zip(states, batch['index'])]\n",
    "\n",
    "def rnn_end_states(batch):\n",
    "    states = rnn_states(batch)\n",
    "    return [h[-1] for h in states]"
   ]
  },
  {
   "cell_type": "code",
   "execution_count": 231,
   "metadata": {
    "ExecuteTime": {
     "end_time": "2020-07-31T19:56:22.508800Z",
     "start_time": "2020-07-31T19:56:20.482720Z"
    }
   },
   "outputs": [
    {
     "data": {
      "text/plain": [
       "(19366, 512)"
      ]
     },
     "execution_count": 231,
     "metadata": {},
     "output_type": "execute_result"
    }
   ],
   "source": [
    "test_batch = next(tfds.as_numpy(test_dset))\n",
    "\n",
    "hs = rnn_states(test_batch)\n",
    "end_states = rnn_end_states(test_batch)\n",
    "pts = np.vstack(hs)[::2]\n",
    "pts.shape"
   ]
  },
  {
   "cell_type": "code",
   "execution_count": 232,
   "metadata": {
    "ExecuteTime": {
     "end_time": "2020-07-31T19:56:22.537201Z",
     "start_time": "2020-07-31T19:56:22.509939Z"
    }
   },
   "outputs": [],
   "source": [
    "states_by_value = {k: [h for h, lbl in zip(hs, test_batch['labels']) if lbl == k] for k in range(config['data']['num_classes'])}\n",
    "end_states_by_value = {k: [h for h, lbl in zip(end_states, test_batch['labels']) if lbl == k] for k in range(config['data']['num_classes'])}"
   ]
  },
  {
   "cell_type": "code",
   "execution_count": 233,
   "metadata": {
    "ExecuteTime": {
     "end_time": "2020-07-31T19:56:23.154803Z",
     "start_time": "2020-07-31T19:56:22.539724Z"
    }
   },
   "outputs": [
    {
     "data": {
      "text/plain": [
       "PCA()"
      ]
     },
     "execution_count": 233,
     "metadata": {},
     "output_type": "execute_result"
    }
   ],
   "source": [
    "PCA_objects = {'all_states': PCA(),\n",
    "               'end_states': PCA(),\n",
    "               'fixed_points': PCA()}\n",
    "\n",
    "PCA_objects['all_states'].fit(pts)\n",
    "PCA_objects['end_states'].fit(np.vstack(end_states))"
   ]
  },
  {
   "cell_type": "code",
   "execution_count": 234,
   "metadata": {
    "ExecuteTime": {
     "end_time": "2020-07-31T19:56:23.159102Z",
     "start_time": "2020-07-31T19:56:23.156419Z"
    }
   },
   "outputs": [],
   "source": [
    "dimensionalities = {'all_states': au.cumulative_var_explained(PCA_objects['all_states']),\n",
    "                    'end_states': au.cumulative_var_explained(PCA_objects['end_states'])}"
   ]
  },
  {
   "cell_type": "code",
   "execution_count": 235,
   "metadata": {
    "ExecuteTime": {
     "end_time": "2020-07-31T19:56:23.316793Z",
     "start_time": "2020-07-31T19:56:23.160649Z"
    }
   },
   "outputs": [
    {
     "data": {
      "image/png": "[encoded data removed]",
      "text/plain": [
       "<Figure size 576x288 with 1 Axes>"
      ]
     },
     "metadata": {
      "needs_background": "light"
     },
     "output_type": "display_data"
    }
   ],
   "source": [
    "f = au.plot_varexp(dimensionalities)"
   ]
  },
  {
   "cell_type": "markdown",
   "metadata": {},
   "source": [
    "### Visualizing the hidden states projected into 2D PCA plane"
   ]
  },
  {
   "cell_type": "code",
   "execution_count": 236,
   "metadata": {
    "ExecuteTime": {
     "end_time": "2020-07-31T19:56:27.337452Z",
     "start_time": "2020-07-31T19:56:27.322369Z"
    }
   },
   "outputs": [],
   "source": [
    "initial_states = cell.get_initial_state(rnn_params, batch_size=1)"
   ]
  },
  {
   "cell_type": "code",
   "execution_count": 237,
   "metadata": {
    "ExecuteTime": {
     "end_time": "2020-07-31T19:56:27.582908Z",
     "start_time": "2020-07-31T19:56:27.576910Z"
    }
   },
   "outputs": [
    {
     "data": {
      "text/plain": [
       "(1, 512)"
      ]
     },
     "execution_count": 237,
     "metadata": {},
     "output_type": "execute_result"
    }
   ],
   "source": [
    "initial_states.shape"
   ]
  },
  {
   "cell_type": "code",
   "execution_count": 238,
   "metadata": {
    "ExecuteTime": {
     "end_time": "2020-07-31T19:56:27.873221Z",
     "start_time": "2020-07-31T19:56:27.861792Z"
    }
   },
   "outputs": [],
   "source": [
    "transformed_initial_state = PCA_objects['all_states'].transform(np.vstack(initial_states)).T"
   ]
  },
  {
   "cell_type": "code",
   "execution_count": 239,
   "metadata": {
    "ExecuteTime": {
     "end_time": "2020-07-31T19:56:28.314711Z",
     "start_time": "2020-07-31T19:56:28.307678Z"
    }
   },
   "outputs": [
    {
     "data": {
      "text/plain": [
       "array([35.858353], dtype=float32)"
      ]
     },
     "execution_count": 239,
     "metadata": {},
     "output_type": "execute_result"
    }
   ],
   "source": [
    "transformed_initial_state[0]"
   ]
  },
  {
   "cell_type": "code",
   "execution_count": 240,
   "metadata": {
    "ExecuteTime": {
     "end_time": "2020-07-31T19:56:28.997822Z",
     "start_time": "2020-07-31T19:56:28.810260Z"
    }
   },
   "outputs": [
    {
     "data": {
      "text/plain": [
       "<matplotlib.legend.Legend at 0x7f40f7846220>"
      ]
     },
     "execution_count": 240,
     "metadata": {},
     "output_type": "execute_result"
    },
    {
     "data": {
      "image/png": "[encoded data removed]",
      "text/plain": [
       "<Figure size 288x288 with 1 Axes>"
      ]
     },
     "metadata": {
      "needs_background": "light"
     },
     "output_type": "display_data"
    }
   ],
   "source": [
    "plt.figure(figsize=(4,4))\n",
    "\n",
    "dim_0 = 0\n",
    "dim_1 = 1\n",
    "\n",
    "colors = ['red', 'blue', 'green']\n",
    "\n",
    "for k in range(config['data']['num_classes']):\n",
    "    transformed = PCA_objects['all_states'].transform(np.vstack(end_states_by_value[k])).T\n",
    "    x = transformed[dim_0]\n",
    "    y = transformed[dim_1]\n",
    "\n",
    "    plt.scatter(x, y, marker='.', label=f'{k+1} star', color=colors[k])\n",
    "    \n",
    "transformed_initial_state = PCA_objects['all_states'].transform(np.vstack(initial_states)).T\n",
    "plt.scatter(transformed_initial_state[dim_0],\n",
    "            transformed_initial_state[dim_1],\n",
    "            marker=(5,1),\n",
    "            color='orange',\n",
    "            s=400)\n",
    "    \n",
    "#     transformed = pca.transform(np.vstack(states_by_value[k])).T\n",
    "#     x = transformed[dim_0]\n",
    "#     y = transformed[dim_1]\n",
    "#     plt.scatter(x, y, alpha=0.01, color=colors[k])\n",
    "\n",
    "# readout_weight = readout_params[0]\n",
    "# x_ro = transformed_readout[dim_0]\n",
    "# y_ro = transformed_readout[dim_1]\n",
    "\n",
    "# for i in range(len(x_ro)):\n",
    "#     plt.plot([0, x_ro[i]], [0, y_ro[i]])\n",
    "    \n",
    "plt.xlabel(f'PC Component {dim_0}')          \n",
    "plt.ylabel(f'PC Component {dim_1}')\n",
    "plt.axis('equal')\n",
    "plt.legend(loc='upper right')"
   ]
  },
  {
   "cell_type": "markdown",
   "metadata": {},
   "source": [
    "### Visualize the final states in the 2D plane"
   ]
  },
  {
   "cell_type": "markdown",
   "metadata": {},
   "source": [
    "### Find the fixed points"
   ]
  },
  {
   "cell_type": "code",
   "execution_count": 241,
   "metadata": {
    "ExecuteTime": {
     "end_time": "2020-07-31T19:56:34.560683Z",
     "start_time": "2020-07-31T19:56:34.556042Z"
    }
   },
   "outputs": [],
   "source": [
    "fp_loss_fun = renn.build_fixed_point_loss(cell, rnn_params)"
   ]
  },
  {
   "cell_type": "code",
   "execution_count": 244,
   "metadata": {
    "ExecuteTime": {
     "end_time": "2020-07-31T19:56:48.756934Z",
     "start_time": "2020-07-31T19:56:46.801204Z"
    }
   },
   "outputs": [
    {
     "name": "stderr",
     "output_type": "stream",
     "text": [
      " 30%|███       | 3033/10000 [00:01<00:04, 1571.45it/s]\n"
     ]
    }
   ],
   "source": [
    "FIXED_POINT_TOLERANCE = 1e-3\n",
    "\n",
    "starting_points = np.vstack(end_states)\n",
    "\n",
    "fixed_points, loss_hist, fp_losses = renn.find_fixed_points(fp_loss_fun, \n",
    "                                                            starting_points,\n",
    "                                                            jnp.zeros((starting_points.shape[0], config['model']['emb_size'])),\n",
    "                                                            optimizers.adam(0.01),\n",
    "                                                            tolerance=FIXED_POINT_TOLERANCE)"
   ]
  },
  {
   "cell_type": "code",
   "execution_count": 245,
   "metadata": {
    "ExecuteTime": {
     "end_time": "2020-07-31T19:56:49.772980Z",
     "start_time": "2020-07-31T19:56:49.448119Z"
    }
   },
   "outputs": [
    {
     "data": {
      "text/plain": [
       "Text(0, 0.5, 'Fixed point loss')"
      ]
     },
     "execution_count": 245,
     "metadata": {},
     "output_type": "execute_result"
    },
    {
     "data": {
      "image/png": "[encoded data removed]",
      "text/plain": [
       "<Figure size 432x288 with 1 Axes>"
      ]
     },
     "metadata": {
      "needs_background": "light"
     },
     "output_type": "display_data"
    }
   ],
   "source": [
    "plt.semilogy(loss_hist)\n",
    "plt.xlabel('Fixed-point finder iteration')\n",
    "plt.ylabel('Fixed point loss')"
   ]
  },
  {
   "cell_type": "code",
   "execution_count": 247,
   "metadata": {
    "ExecuteTime": {
     "end_time": "2020-07-31T19:56:58.378204Z",
     "start_time": "2020-07-31T19:56:58.158383Z"
    }
   },
   "outputs": [
    {
     "data": {
      "text/plain": [
       "Text(0, 0.5, 'Projection onto principal component #2')"
      ]
     },
     "execution_count": 247,
     "metadata": {},
     "output_type": "execute_result"
    },
    {
     "data": {
      "image/png": "[encoded data removed]",
      "text/plain": [
       "<Figure size 360x288 with 2 Axes>"
      ]
     },
     "metadata": {
      "needs_background": "light"
     },
     "output_type": "display_data"
    }
   ],
   "source": [
    "plt.figure(figsize=(5, 4))\n",
    "\n",
    "THRESHOLD = 1e-0\n",
    "\n",
    "transformed_fp = PCA_objects['all_states'].transform(fixed_points).T\n",
    "x = transformed_fp[dim_0]\n",
    "y = transformed_fp[dim_1]\n",
    "\n",
    "mask = fp_losses < THRESHOLD\n",
    "\n",
    "x = x[mask]\n",
    "y = y[mask]\n",
    "\n",
    "plt.scatter(x, y, s=20, c=np.log10(fp_losses[mask]))\n",
    "# plt.xlim(-8, 8)\n",
    "# plt.ylim(-8, 8)\n",
    "plt.grid()\n",
    "\n",
    "transformed_initial_state = PCA_objects['all_states'].transform(np.vstack(initial_states)).T\n",
    "plt.scatter(transformed_initial_state[dim_0],\n",
    "            transformed_initial_state[dim_1],\n",
    "            marker=(5,1),\n",
    "            color='orange',\n",
    "            s=400)\n",
    "\n",
    "plt.title(f'Fixed-point manifold:\\nthreshold={THRESHOLD}')\n",
    "\n",
    "plt.colorbar()\n",
    "\n",
    "plt.xlabel('Projection onto principal component #1')\n",
    "plt.ylabel('Projection onto principal component #2')"
   ]
  },
  {
   "cell_type": "markdown",
   "metadata": {},
   "source": [
    "#### Dimensionality of the fixed point manifold"
   ]
  },
  {
   "cell_type": "code",
   "execution_count": 248,
   "metadata": {
    "ExecuteTime": {
     "end_time": "2020-07-31T19:57:02.031748Z",
     "start_time": "2020-07-31T19:57:01.968194Z"
    }
   },
   "outputs": [],
   "source": [
    "PCA_objects['fixed_points'].fit(fixed_points)\n",
    "dimensionalities['fixed_points']= au.cumulative_var_explained(PCA_objects['fixed_points'])"
   ]
  },
  {
   "cell_type": "code",
   "execution_count": 249,
   "metadata": {
    "ExecuteTime": {
     "end_time": "2020-07-31T19:57:02.272948Z",
     "start_time": "2020-07-31T19:57:02.109008Z"
    }
   },
   "outputs": [
    {
     "data": {
      "text/plain": [
       "(-1.0, 8.0)"
      ]
     },
     "execution_count": 249,
     "metadata": {},
     "output_type": "execute_result"
    },
    {
     "data": {
      "image/png": "[encoded data removed]",
      "text/plain": [
       "<Figure size 576x288 with 1 Axes>"
      ]
     },
     "metadata": {
      "needs_background": "light"
     },
     "output_type": "display_data"
    }
   ],
   "source": [
    "f = au.plot_varexp(dimensionalities)\n",
    "plt.xlim(-1, 8)"
   ]
  },
  {
   "cell_type": "code",
   "execution_count": 250,
   "metadata": {
    "ExecuteTime": {
     "end_time": "2020-07-31T19:57:02.900466Z",
     "start_time": "2020-07-31T19:57:02.894527Z"
    }
   },
   "outputs": [],
   "source": [
    "readout_weight = readout_params[0]\n",
    "transformed_readout= PCA_objects['all_states'].transform(readout_weight.T).T"
   ]
  },
  {
   "cell_type": "code",
   "execution_count": 251,
   "metadata": {
    "ExecuteTime": {
     "end_time": "2020-07-31T19:57:03.087196Z",
     "start_time": "2020-07-31T19:57:03.083139Z"
    }
   },
   "outputs": [],
   "source": [
    "readout_bias = readout_params[1]"
   ]
  },
  {
   "cell_type": "code",
   "execution_count": 252,
   "metadata": {
    "ExecuteTime": {
     "end_time": "2020-07-31T19:57:03.604894Z",
     "start_time": "2020-07-31T19:57:03.598653Z"
    }
   },
   "outputs": [
    {
     "data": {
      "text/plain": [
       "array([-0.01372004], dtype=float32)"
      ]
     },
     "execution_count": 252,
     "metadata": {},
     "output_type": "execute_result"
    }
   ],
   "source": [
    "readout_bias"
   ]
  },
  {
   "cell_type": "markdown",
   "metadata": {},
   "source": [
    "### Check alignment of the fixed point PCA vectors with the hidden state PCA vectors"
   ]
  },
  {
   "cell_type": "code",
   "execution_count": 253,
   "metadata": {
    "ExecuteTime": {
     "end_time": "2020-07-31T19:57:04.647798Z",
     "start_time": "2020-07-31T19:57:04.348468Z"
    }
   },
   "outputs": [
    {
     "data": {
      "image/png": "[encoded data removed]",
      "text/plain": [
       "<Figure size 720x216 with 3 Axes>"
      ]
     },
     "metadata": {
      "needs_background": "light"
     },
     "output_type": "display_data"
    }
   ],
   "source": [
    "f = au.plot_alignment(PCA_objects)"
   ]
  },
  {
   "cell_type": "code",
   "execution_count": 254,
   "metadata": {
    "ExecuteTime": {
     "end_time": "2020-07-31T19:57:05.964230Z",
     "start_time": "2020-07-31T19:57:05.958716Z"
    }
   },
   "outputs": [],
   "source": [
    "transformed_readout= PCA_objects['all_states'].transform(readout_weight.T).T"
   ]
  },
  {
   "cell_type": "code",
   "execution_count": 255,
   "metadata": {
    "ExecuteTime": {
     "end_time": "2020-07-31T19:57:06.423236Z",
     "start_time": "2020-07-31T19:57:06.410932Z"
    }
   },
   "outputs": [
    {
     "data": {
      "text/plain": [
       "array([[ 3.66075325e+01],\n",
       "       [ 2.15928435e+00],\n",
       "       [ 1.33256702e+01],\n",
       "       [ 1.04082451e+01],\n",
       "       [ 3.93550730e+00],\n",
       "       [-3.51318657e-01],\n",
       "       [-1.75073326e+00],\n",
       "       [ 1.95283723e+00],\n",
       "       [-5.69310367e-01],\n",
       "       [-1.60881042e+00],\n",
       "       [-9.34580028e-01],\n",
       "       [-6.76848292e-01],\n",
       "       [-5.71874499e-01],\n",
       "       [-1.86051035e+00],\n",
       "       [ 2.65874803e-01],\n",
       "       [-1.86918408e-01],\n",
       "       [-1.21076226e-01],\n",
       "       [ 9.99838233e-01],\n",
       "       [ 4.60910797e-03],\n",
       "       [ 8.56072009e-01],\n",
       "       [-2.25227147e-01],\n",
       "       [ 2.65522182e-01],\n",
       "       [-1.52666271e-02],\n",
       "       [ 4.22772706e-01],\n",
       "       [ 2.46492520e-01],\n",
       "       [ 4.65838224e-01],\n",
       "       [ 2.71454692e-01],\n",
       "       [ 9.47065711e-01],\n",
       "       [-4.19812649e-03],\n",
       "       [ 3.11540902e-01],\n",
       "       [ 3.47389877e-02],\n",
       "       [ 4.28286612e-01],\n",
       "       [ 1.66562796e-01],\n",
       "       [ 2.70118982e-01],\n",
       "       [-4.22441363e-02],\n",
       "       [ 2.57998019e-01],\n",
       "       [-6.75286651e-02],\n",
       "       [ 2.42646635e-02],\n",
       "       [-2.79321015e-01],\n",
       "       [-1.81953982e-03],\n",
       "       [ 1.66292995e-01],\n",
       "       [ 2.79796034e-01],\n",
       "       [-3.18769395e-01],\n",
       "       [ 3.92180264e-01],\n",
       "       [ 1.84682906e-01],\n",
       "       [-3.35088074e-01],\n",
       "       [ 7.64989853e-03],\n",
       "       [-5.30371368e-01],\n",
       "       [-3.96366388e-01],\n",
       "       [ 3.34382713e-01],\n",
       "       [-1.88667893e-01],\n",
       "       [ 2.72965580e-01],\n",
       "       [ 8.32252204e-02],\n",
       "       [-1.89664423e-01],\n",
       "       [ 1.18924856e-01],\n",
       "       [-4.65282798e-02],\n",
       "       [-1.27537400e-02],\n",
       "       [ 1.44125581e-01],\n",
       "       [-2.53824472e-01],\n",
       "       [-4.63456810e-02],\n",
       "       [ 9.86105800e-02],\n",
       "       [ 1.22427098e-01],\n",
       "       [ 1.79530382e-02],\n",
       "       [-1.63613617e-01],\n",
       "       [ 3.51999938e-01],\n",
       "       [-2.28718877e-01],\n",
       "       [ 3.59981209e-01],\n",
       "       [ 6.83313608e-03],\n",
       "       [-7.22181201e-02],\n",
       "       [-6.03312850e-02],\n",
       "       [-7.37642646e-02],\n",
       "       [-2.12093920e-01],\n",
       "       [ 8.34386945e-02],\n",
       "       [-5.50406575e-02],\n",
       "       [-1.67290747e-01],\n",
       "       [-2.99977511e-01],\n",
       "       [ 7.00162649e-02],\n",
       "       [ 4.43115234e-02],\n",
       "       [-2.05789566e-01],\n",
       "       [-4.09710407e-02],\n",
       "       [-1.48863167e-01],\n",
       "       [ 2.01963022e-01],\n",
       "       [-2.59282053e-01],\n",
       "       [ 1.25053455e-03],\n",
       "       [ 3.57324392e-01],\n",
       "       [-2.62539297e-01],\n",
       "       [-2.80955732e-01],\n",
       "       [ 1.31093502e-01],\n",
       "       [-1.15928963e-01],\n",
       "       [-1.98752880e-02],\n",
       "       [-6.85223937e-02],\n",
       "       [-7.04905987e-02],\n",
       "       [-6.55620694e-02],\n",
       "       [ 2.21834600e-01],\n",
       "       [ 1.25820681e-01],\n",
       "       [-2.24229068e-01],\n",
       "       [ 2.07675070e-01],\n",
       "       [-2.40764558e-01],\n",
       "       [ 1.30621195e-02],\n",
       "       [ 3.60840559e-02],\n",
       "       [-1.35127246e-01],\n",
       "       [ 1.19660169e-01],\n",
       "       [ 2.43741035e-01],\n",
       "       [ 2.03061640e-01],\n",
       "       [ 7.10257888e-02],\n",
       "       [ 1.57041758e-01],\n",
       "       [-1.05644464e-01],\n",
       "       [ 7.88498819e-02],\n",
       "       [-9.92506742e-03],\n",
       "       [ 1.15929037e-01],\n",
       "       [ 1.94204450e-02],\n",
       "       [-1.09304488e-01],\n",
       "       [-9.54168439e-02],\n",
       "       [-5.45226783e-02],\n",
       "       [ 1.34077430e-01],\n",
       "       [ 2.29236022e-01],\n",
       "       [-1.14218727e-01],\n",
       "       [-7.94391632e-02],\n",
       "       [ 1.74616814e-01],\n",
       "       [-1.33003712e-01],\n",
       "       [ 5.17658591e-02],\n",
       "       [-5.92995435e-02],\n",
       "       [-8.20137262e-02],\n",
       "       [ 6.37498498e-02],\n",
       "       [-4.98677567e-02],\n",
       "       [-7.67429471e-02],\n",
       "       [-5.80168888e-02],\n",
       "       [ 6.17925934e-02],\n",
       "       [-1.00036532e-01],\n",
       "       [ 1.53713822e-02],\n",
       "       [ 1.30013674e-01],\n",
       "       [ 2.62784362e-02],\n",
       "       [ 1.44132376e-02],\n",
       "       [-2.39508748e-01],\n",
       "       [-2.15251863e-01],\n",
       "       [ 3.02381217e-02],\n",
       "       [ 1.71941891e-02],\n",
       "       [-3.85332704e-02],\n",
       "       [ 5.90569377e-02],\n",
       "       [ 3.55250835e-02],\n",
       "       [ 1.30348206e-02],\n",
       "       [ 4.17294055e-02],\n",
       "       [ 9.28863138e-02],\n",
       "       [-7.19789565e-02],\n",
       "       [ 9.83679295e-03],\n",
       "       [-2.60603607e-01],\n",
       "       [ 1.09655291e-01],\n",
       "       [ 8.98481011e-02],\n",
       "       [-2.71444470e-02],\n",
       "       [-1.49921179e-02],\n",
       "       [ 1.29933044e-01],\n",
       "       [-6.98316097e-02],\n",
       "       [ 1.58259403e-02],\n",
       "       [-8.41385871e-02],\n",
       "       [ 1.14059508e-01],\n",
       "       [ 4.02943939e-02],\n",
       "       [-7.71771073e-02],\n",
       "       [-1.68639421e-03],\n",
       "       [-1.17885053e-01],\n",
       "       [ 4.28610742e-02],\n",
       "       [-7.58205950e-02],\n",
       "       [ 6.35808557e-02],\n",
       "       [-2.26545334e-03],\n",
       "       [ 8.85387063e-02],\n",
       "       [-3.45655084e-02],\n",
       "       [ 1.73142552e-02],\n",
       "       [-2.50425041e-02],\n",
       "       [-3.37046981e-02],\n",
       "       [ 3.97331119e-02],\n",
       "       [-7.68871792e-03],\n",
       "       [ 2.43254639e-02],\n",
       "       [ 7.06828833e-02],\n",
       "       [ 2.60158479e-02],\n",
       "       [ 3.11217308e-02],\n",
       "       [ 1.22163951e-01],\n",
       "       [ 6.74334913e-02],\n",
       "       [-5.68511337e-03],\n",
       "       [ 7.47110248e-02],\n",
       "       [-1.05357230e-01],\n",
       "       [ 1.40792221e-01],\n",
       "       [-5.89826703e-02],\n",
       "       [ 1.76078498e-01],\n",
       "       [ 7.27659762e-02],\n",
       "       [ 2.93956399e-02],\n",
       "       [-7.08661675e-02],\n",
       "       [-2.18139291e-01],\n",
       "       [ 1.62023008e-02],\n",
       "       [-2.26896286e-01],\n",
       "       [ 5.28459102e-02],\n",
       "       [-1.32890195e-01],\n",
       "       [ 1.21981502e-02],\n",
       "       [-5.53978719e-02],\n",
       "       [ 2.29068398e-02],\n",
       "       [ 5.88047504e-02],\n",
       "       [-7.17869401e-03],\n",
       "       [ 2.08916813e-02],\n",
       "       [-5.81186116e-02],\n",
       "       [ 1.24041855e-01],\n",
       "       [-4.02833223e-02],\n",
       "       [-7.79924989e-02],\n",
       "       [ 7.61382282e-02],\n",
       "       [-8.59324336e-02],\n",
       "       [ 1.31608948e-01],\n",
       "       [-4.71335053e-02],\n",
       "       [ 9.94572639e-02],\n",
       "       [ 8.30362737e-02],\n",
       "       [-3.66302133e-02],\n",
       "       [-7.33061973e-03],\n",
       "       [ 8.67208242e-02],\n",
       "       [-1.91243887e-02],\n",
       "       [-7.77764320e-02],\n",
       "       [-2.66713277e-02],\n",
       "       [-8.69186521e-02],\n",
       "       [-3.99745740e-02],\n",
       "       [ 3.49520668e-02],\n",
       "       [ 8.97198915e-03],\n",
       "       [ 3.75813246e-02],\n",
       "       [ 1.60244256e-02],\n",
       "       [ 3.08869183e-02],\n",
       "       [ 1.51320696e-02],\n",
       "       [-1.64818764e-02],\n",
       "       [-7.05736876e-03],\n",
       "       [ 2.40688920e-02],\n",
       "       [-8.01307186e-02],\n",
       "       [ 4.00892198e-02],\n",
       "       [-1.33635849e-03],\n",
       "       [-2.26717591e-02],\n",
       "       [ 1.24749675e-01],\n",
       "       [ 5.94930649e-02],\n",
       "       [ 3.73659730e-02],\n",
       "       [-1.95809081e-02],\n",
       "       [-3.30263376e-03],\n",
       "       [-4.57224250e-02],\n",
       "       [ 6.68584704e-02],\n",
       "       [ 2.47774795e-02],\n",
       "       [ 5.99674955e-02],\n",
       "       [ 5.99478483e-02],\n",
       "       [ 8.37064981e-02],\n",
       "       [ 4.99790609e-02],\n",
       "       [-2.98541784e-02],\n",
       "       [-8.12515914e-02],\n",
       "       [ 6.38642609e-02],\n",
       "       [ 1.88869983e-02],\n",
       "       [-2.90699303e-02],\n",
       "       [-2.29383409e-02],\n",
       "       [-3.89172435e-02],\n",
       "       [-1.20737821e-01],\n",
       "       [-8.08133483e-02],\n",
       "       [-1.19038343e-01],\n",
       "       [ 5.14897108e-02],\n",
       "       [-3.14077735e-02],\n",
       "       [-7.28764478e-03],\n",
       "       [-1.31960109e-01],\n",
       "       [-8.13954026e-02],\n",
       "       [-8.65252912e-02],\n",
       "       [ 6.51726127e-02],\n",
       "       [-2.76943110e-03],\n",
       "       [-7.13077337e-02],\n",
       "       [ 6.19597435e-02],\n",
       "       [-3.27878743e-02],\n",
       "       [ 1.50127590e-01],\n",
       "       [ 3.81654501e-02],\n",
       "       [ 3.20321470e-02],\n",
       "       [-7.64587447e-02],\n",
       "       [ 3.03010345e-02],\n",
       "       [-1.02334261e-01],\n",
       "       [ 7.40176141e-02],\n",
       "       [ 7.88077116e-02],\n",
       "       [-9.39363241e-02],\n",
       "       [-5.68029583e-02],\n",
       "       [-3.61794233e-03],\n",
       "       [ 9.40643251e-03],\n",
       "       [ 1.05620086e-01],\n",
       "       [-1.44756287e-02],\n",
       "       [ 1.69491470e-02],\n",
       "       [ 4.01788875e-02],\n",
       "       [-1.02647364e-01],\n",
       "       [-3.18487212e-02],\n",
       "       [ 3.73966992e-02],\n",
       "       [ 2.18546689e-02],\n",
       "       [-3.82927060e-02],\n",
       "       [ 9.02895927e-02],\n",
       "       [-3.06936093e-02],\n",
       "       [-6.71178475e-02],\n",
       "       [-4.36207354e-02],\n",
       "       [-2.18155496e-02],\n",
       "       [-1.23751432e-01],\n",
       "       [-7.88733661e-02],\n",
       "       [ 2.87590027e-02],\n",
       "       [-6.46804571e-02],\n",
       "       [ 4.61196601e-02],\n",
       "       [ 3.83277833e-02],\n",
       "       [ 1.46116093e-01],\n",
       "       [-4.88151796e-02],\n",
       "       [ 4.76402193e-02],\n",
       "       [ 5.47290593e-03],\n",
       "       [ 3.23165655e-02],\n",
       "       [ 3.81718129e-02],\n",
       "       [-8.68220031e-02],\n",
       "       [ 4.02517766e-02],\n",
       "       [-2.52539981e-02],\n",
       "       [ 3.58702838e-02],\n",
       "       [-1.44210318e-02],\n",
       "       [-6.40197024e-02],\n",
       "       [ 8.72499347e-02],\n",
       "       [ 3.70756537e-02],\n",
       "       [-3.66091579e-02],\n",
       "       [-3.00876349e-02],\n",
       "       [ 1.55943930e-02],\n",
       "       [ 2.31158733e-03],\n",
       "       [ 2.77359597e-02],\n",
       "       [-8.69535059e-02],\n",
       "       [-2.42038220e-02],\n",
       "       [-7.37957805e-02],\n",
       "       [ 3.14855352e-02],\n",
       "       [ 5.55293933e-02],\n",
       "       [-3.70011106e-02],\n",
       "       [-2.83708237e-02],\n",
       "       [-4.93831560e-02],\n",
       "       [ 3.30386125e-02],\n",
       "       [-3.39652076e-02],\n",
       "       [-2.21631676e-03],\n",
       "       [ 5.66461086e-02],\n",
       "       [-4.98722903e-02],\n",
       "       [-8.71015191e-02],\n",
       "       [ 1.34938493e-01],\n",
       "       [-1.13327615e-01],\n",
       "       [-8.08192044e-02],\n",
       "       [-3.80289555e-03],\n",
       "       [-1.62057698e-01],\n",
       "       [-4.88498881e-02],\n",
       "       [-2.23957375e-02],\n",
       "       [ 5.99106364e-02],\n",
       "       [-3.88974063e-02],\n",
       "       [-1.03873566e-01],\n",
       "       [-7.06881378e-03],\n",
       "       [ 2.66902968e-02],\n",
       "       [-3.20958644e-02],\n",
       "       [ 2.09736191e-02],\n",
       "       [-8.69878009e-03],\n",
       "       [ 7.73699433e-02],\n",
       "       [-4.64202985e-02],\n",
       "       [ 5.40684499e-02],\n",
       "       [-6.17640764e-02],\n",
       "       [-1.45445764e-02],\n",
       "       [-1.03400901e-01],\n",
       "       [-9.89146829e-02],\n",
       "       [ 1.23648345e-03],\n",
       "       [ 4.15019467e-02],\n",
       "       [-8.83842856e-02],\n",
       "       [ 5.22024035e-02],\n",
       "       [ 7.27448761e-02],\n",
       "       [ 3.95283774e-02],\n",
       "       [-8.74051601e-02],\n",
       "       [ 9.21837613e-02],\n",
       "       [-2.71197148e-02],\n",
       "       [-3.64753753e-02],\n",
       "       [ 9.38633755e-02],\n",
       "       [ 5.13939857e-02],\n",
       "       [-3.38840559e-02],\n",
       "       [ 6.44975975e-02],\n",
       "       [ 2.81387940e-02],\n",
       "       [-1.42808020e-01],\n",
       "       [-3.35675701e-02],\n",
       "       [ 2.66704597e-02],\n",
       "       [ 4.22570445e-02],\n",
       "       [ 2.61287168e-02],\n",
       "       [-8.37421417e-03],\n",
       "       [-5.73800504e-02],\n",
       "       [ 1.61106661e-02],\n",
       "       [ 2.44417153e-02],\n",
       "       [ 5.88992909e-02],\n",
       "       [ 1.06553093e-01],\n",
       "       [-3.06503605e-02],\n",
       "       [ 2.79782936e-02],\n",
       "       [ 1.16211846e-02],\n",
       "       [-5.77835478e-02],\n",
       "       [ 7.12624341e-02],\n",
       "       [-4.34599295e-02],\n",
       "       [-1.36557534e-01],\n",
       "       [-1.90777518e-03],\n",
       "       [ 2.25572661e-03],\n",
       "       [ 3.66946310e-02],\n",
       "       [-1.43088549e-02],\n",
       "       [ 1.48318838e-02],\n",
       "       [-2.07449570e-02],\n",
       "       [-7.59420171e-03],\n",
       "       [-8.72317106e-02],\n",
       "       [ 1.05311006e-01],\n",
       "       [ 2.28618309e-02],\n",
       "       [-2.71656811e-02],\n",
       "       [-5.31542301e-02],\n",
       "       [-1.08964220e-02],\n",
       "       [ 2.69218180e-02],\n",
       "       [ 9.17094946e-03],\n",
       "       [ 2.20131632e-02],\n",
       "       [ 1.02183111e-02],\n",
       "       [-6.28835857e-02],\n",
       "       [ 1.01525802e-02],\n",
       "       [ 3.08953300e-02],\n",
       "       [ 1.28674172e-02],\n",
       "       [-8.39216709e-02],\n",
       "       [-3.11154500e-03],\n",
       "       [-1.62903965e-03],\n",
       "       [ 1.67048033e-02],\n",
       "       [ 1.86342392e-02],\n",
       "       [-9.75880213e-03],\n",
       "       [-2.11425703e-02],\n",
       "       [ 9.60154086e-03],\n",
       "       [-9.61979479e-02],\n",
       "       [ 1.78264175e-02],\n",
       "       [-8.08850676e-02],\n",
       "       [-2.16089804e-02],\n",
       "       [-5.41985780e-03],\n",
       "       [-2.43741833e-02],\n",
       "       [-3.56226005e-02],\n",
       "       [ 3.09021771e-03],\n",
       "       [ 3.92255150e-02],\n",
       "       [-4.56056446e-02],\n",
       "       [ 9.81245190e-04],\n",
       "       [-8.22123587e-02],\n",
       "       [ 7.01263100e-02],\n",
       "       [-2.30852477e-02],\n",
       "       [ 1.89282894e-02],\n",
       "       [-3.61437798e-02],\n",
       "       [-1.59325153e-01],\n",
       "       [ 3.17116342e-02],\n",
       "       [ 3.40758488e-02],\n",
       "       [ 3.34336683e-02],\n",
       "       [ 4.15750593e-02],\n",
       "       [-8.66714120e-03],\n",
       "       [ 2.84883101e-02],\n",
       "       [-4.78209481e-02],\n",
       "       [-7.32491761e-02],\n",
       "       [ 4.94660139e-02],\n",
       "       [-4.07628119e-02],\n",
       "       [-1.06070578e-01],\n",
       "       [-3.73448506e-02],\n",
       "       [ 3.04335356e-02],\n",
       "       [ 5.82666136e-02],\n",
       "       [ 2.88745780e-02],\n",
       "       [ 6.44239634e-02],\n",
       "       [-1.18185058e-02],\n",
       "       [ 9.40540954e-02],\n",
       "       [-8.16362649e-02],\n",
       "       [ 8.88872147e-03],\n",
       "       [ 9.80206653e-02],\n",
       "       [-4.70845178e-02],\n",
       "       [-9.99846011e-02],\n",
       "       [-7.45819807e-02],\n",
       "       [ 4.93601374e-02],\n",
       "       [ 2.50125732e-02],\n",
       "       [ 7.35032931e-03],\n",
       "       [-7.59844705e-02],\n",
       "       [-1.05712255e-02],\n",
       "       [-1.85016289e-01],\n",
       "       [ 2.70508379e-02],\n",
       "       [-1.78238060e-02],\n",
       "       [-3.26238722e-02],\n",
       "       [-5.16464002e-02],\n",
       "       [-6.54071048e-02],\n",
       "       [-3.50370444e-02],\n",
       "       [ 3.18329930e-02],\n",
       "       [-8.06055591e-02],\n",
       "       [-4.27489020e-02],\n",
       "       [ 7.83997774e-02],\n",
       "       [-3.29082385e-02],\n",
       "       [ 5.07044606e-02],\n",
       "       [-7.27849156e-02],\n",
       "       [-2.99993753e-02],\n",
       "       [-1.41343251e-01],\n",
       "       [ 1.59601271e-01],\n",
       "       [ 1.03356652e-01],\n",
       "       [ 2.36482676e-02],\n",
       "       [ 3.80551405e-02],\n",
       "       [ 8.81569646e-03],\n",
       "       [-5.33698350e-02],\n",
       "       [-3.97966504e-02],\n",
       "       [ 1.69587471e-02],\n",
       "       [-6.31870627e-02],\n",
       "       [ 2.30935030e-02],\n",
       "       [-8.11524391e-02],\n",
       "       [-1.00768376e-02],\n",
       "       [-2.77534239e-02],\n",
       "       [-1.02593541e-01],\n",
       "       [ 2.09795702e-02],\n",
       "       [-1.23852836e-02],\n",
       "       [ 2.11455449e-02],\n",
       "       [ 2.28910856e-02],\n",
       "       [ 1.07000805e-02],\n",
       "       [-7.46206194e-02],\n",
       "       [ 1.21857673e-02],\n",
       "       [-2.41667591e-02],\n",
       "       [-2.71156169e-02],\n",
       "       [-4.81308997e-02],\n",
       "       [-6.71482384e-02],\n",
       "       [-6.63381517e-02],\n",
       "       [-1.48578072e-02],\n",
       "       [ 1.01545274e-01],\n",
       "       [-2.63212062e-02],\n",
       "       [-3.49199884e-02],\n",
       "       [ 2.87479628e-02],\n",
       "       [-5.82647808e-02],\n",
       "       [ 4.75857668e-02],\n",
       "       [-3.53368791e-03],\n",
       "       [ 1.16705768e-01],\n",
       "       [-5.08310087e-02],\n",
       "       [-3.56712528e-02],\n",
       "       [ 6.68643042e-02],\n",
       "       [ 6.86535705e-03],\n",
       "       [-2.63777352e-03],\n",
       "       [ 4.89473194e-02]], dtype=float32)"
      ]
     },
     "execution_count": 255,
     "metadata": {},
     "output_type": "execute_result"
    }
   ],
   "source": [
    "transformed_readout"
   ]
  },
  {
   "cell_type": "code",
   "execution_count": 256,
   "metadata": {
    "ExecuteTime": {
     "end_time": "2020-07-31T19:57:06.859814Z",
     "start_time": "2020-07-31T19:57:06.611658Z"
    }
   },
   "outputs": [
    {
     "name": "stderr",
     "output_type": "stream",
     "text": [
      "/usr/local/google/home/ramasesh/VirtualEnvs/Jax/lib/python3.8/site-packages/numpy/core/_asarray.py:136: VisibleDeprecationWarning: Creating an ndarray from ragged nested sequences (which is a list-or-tuple of lists-or-tuples-or ndarrays with different lengths or shapes) is deprecated. If you meant to do this, you must specify 'dtype=object' when creating the ndarray\n",
      "  return array(a, dtype, copy=False, order=order, subok=True)\n"
     ]
    },
    {
     "data": {
      "text/plain": [
       "<matplotlib.colorbar.Colorbar at 0x7f40f50e0490>"
      ]
     },
     "execution_count": 256,
     "metadata": {},
     "output_type": "execute_result"
    },
    {
     "data": {
      "image/png": "[encoded data removed]",
      "text/plain": [
       "<Figure size 576x576 with 2 Axes>"
      ]
     },
     "metadata": {
      "needs_background": "light"
     },
     "output_type": "display_data"
    }
   ],
   "source": [
    "plt.figure(figsize=(8,8))\n",
    "\n",
    "dim_0 = 0\n",
    "dim_1 = 1\n",
    "\n",
    "for k in range(config['data']['num_classes']):\n",
    "    transformed = PCA_objects['all_states'].transform(np.vstack(end_states_by_value[k])).T\n",
    "    x = transformed[dim_0]\n",
    "    y = transformed[dim_1]\n",
    "\n",
    "    plt.scatter(x, y, marker='.', label=f'{k+1} star', color=colors[k], alpha=0.3)\n",
    "\n",
    "transformed_fp = PCA_objects['all_states'].transform(fixed_points).T\n",
    "x = transformed_fp[dim_0]\n",
    "y = transformed_fp[dim_1]\n",
    "z = transformed_fp[2]\n",
    "\n",
    "mask = fp_losses < THRESHOLD\n",
    "\n",
    "x = x[mask]\n",
    "y = y[mask]\n",
    "z = z[mask]\n",
    "\n",
    "plt.scatter(x, y, s=20, c=z, marker='+')\n",
    "    \n",
    "readout_weight = readout_params[0]\n",
    "transformed_readout= PCA_objects['all_states'].transform(readout_weight.T).T\n",
    "plt.plot([0, transformed_readout[0]], [0, transformed_readout[1]])\n",
    "# x_ro = transformed_readout[dim_0]\n",
    "# y_ro = transformed_readout[dim_1]\n",
    "\n",
    "# for i in range(len(x_ro)):\n",
    "#     plt.plot([0, x_ro[i]], [0, y_ro[i]], color=colors[i])\n",
    "    \n",
    "plt.xlabel(f'PC Component {dim_0}')          \n",
    "plt.ylabel(f'PC Component {dim_1}')\n",
    "plt.axis('equal')\n",
    "plt.legend(loc='upper right')\n",
    "plt.colorbar()"
   ]
  },
  {
   "cell_type": "markdown",
   "metadata": {},
   "source": [
    "To check:\n",
    "Using the sklearn PCA projection, it computes the mean and uses that mean in the transform.  For the fixed points that shouldn't be a problem, but the readout weights could definitely be affected.  "
   ]
  },
  {
   "cell_type": "markdown",
   "metadata": {},
   "source": [
    "### Fixed-point selector and Recurrent Jacobian"
   ]
  },
  {
   "cell_type": "code",
   "execution_count": 257,
   "metadata": {
    "ExecuteTime": {
     "end_time": "2020-07-31T19:57:33.167163Z",
     "start_time": "2020-07-31T19:57:33.162685Z"
    }
   },
   "outputs": [],
   "source": [
    "# clean up fixed point manifold and sort\n",
    "def allowed_indices(fixed_points, condition):\n",
    "    for i, pt in enumerate(fixed_points):\n",
    "        if condition(pt):\n",
    "            yield i"
   ]
  },
  {
   "cell_type": "code",
   "execution_count": 258,
   "metadata": {
    "ExecuteTime": {
     "end_time": "2020-07-31T19:57:33.325234Z",
     "start_time": "2020-07-31T19:57:33.320923Z"
    }
   },
   "outputs": [],
   "source": [
    "def condition(pt):\n",
    "#     if pt[0] > -0.1 and pt[0] < 0.6:\n",
    "#         if pt[1] < 0.2:\n",
    "#             return False\n",
    "#     return True\n",
    "    return True"
   ]
  },
  {
   "cell_type": "code",
   "execution_count": 259,
   "metadata": {
    "ExecuteTime": {
     "end_time": "2020-07-31T19:57:33.446367Z",
     "start_time": "2020-07-31T19:57:33.441784Z"
    }
   },
   "outputs": [],
   "source": [
    "indices_to_keep = list(allowed_indices(transformed_fp.T, condition))"
   ]
  },
  {
   "cell_type": "code",
   "execution_count": 260,
   "metadata": {
    "ExecuteTime": {
     "end_time": "2020-07-31T19:57:33.597969Z",
     "start_time": "2020-07-31T19:57:33.587560Z"
    }
   },
   "outputs": [
    {
     "data": {
      "text/plain": [
       "-11.551978"
      ]
     },
     "execution_count": 260,
     "metadata": {},
     "output_type": "execute_result"
    }
   ],
   "source": [
    "PCA_objects['all_states'].transform(fixed_points[0].reshape(1,-1))[0][0]"
   ]
  },
  {
   "cell_type": "code",
   "execution_count": 261,
   "metadata": {
    "ExecuteTime": {
     "end_time": "2020-07-31T19:57:33.894088Z",
     "start_time": "2020-07-31T19:57:33.846380Z"
    }
   },
   "outputs": [],
   "source": [
    "allowed_fixed_points = fixed_points[indices_to_keep]\n",
    "allowed_fixed_points = sorted(allowed_fixed_points, \n",
    "                              key = lambda x: PCA_objects['all_states'].transform(x.reshape(1,-1))[0][0])\n",
    "\n",
    "transformed_kept = PCA_objects['all_states'].transform(allowed_fixed_points).T"
   ]
  },
  {
   "cell_type": "code",
   "execution_count": 262,
   "metadata": {
    "ExecuteTime": {
     "end_time": "2020-07-31T19:57:34.201652Z",
     "start_time": "2020-07-31T19:57:34.099573Z"
    }
   },
   "outputs": [
    {
     "data": {
      "image/png": "[encoded data removed]",
      "text/plain": [
       "<Figure size 432x288 with 1 Axes>"
      ]
     },
     "metadata": {
      "needs_background": "light"
     },
     "output_type": "display_data"
    }
   ],
   "source": [
    "fixed_point_indices = [220]\n",
    "\n",
    "x = transformed_kept[dim_0]\n",
    "y = transformed_kept[dim_1]\n",
    "\n",
    "plt.scatter(x, y, s=20)\n",
    "\n",
    "for fixed_point_index in fixed_point_indices:\n",
    "    plt.scatter(x[fixed_point_index], y[fixed_point_index], marker=(5,1), color='orange', s=50)\n",
    "# plt.axis('square')"
   ]
  },
  {
   "cell_type": "code",
   "execution_count": 263,
   "metadata": {
    "ExecuteTime": {
     "end_time": "2020-07-31T19:59:23.366475Z",
     "start_time": "2020-07-31T19:57:35.534107Z"
    }
   },
   "outputs": [],
   "source": [
    "top_k = 5\n",
    "\n",
    "evals = np.zeros((top_k, len(allowed_fixed_points)), dtype=complex)\n",
    "\n",
    "for fp_ind, fp in enumerate(allowed_fixed_points):\n",
    "    J_hh = cell.rec_jac(rnn_params, \n",
    "             jnp.zeros(config['model']['emb_size']), \n",
    "             fp)\n",
    "    \n",
    "    R, E, L = renn.eigsorted(J_hh)\n",
    "    \n",
    "    evals[:,fp_ind] = E[:top_k]\n",
    "    "
   ]
  },
  {
   "cell_type": "code",
   "execution_count": 264,
   "metadata": {
    "ExecuteTime": {
     "end_time": "2020-07-31T19:59:23.514240Z",
     "start_time": "2020-07-31T19:59:23.368165Z"
    }
   },
   "outputs": [
    {
     "name": "stderr",
     "output_type": "stream",
     "text": [
      "/usr/local/google/home/ramasesh/VirtualEnvs/Jax/lib/python3.8/site-packages/numpy/core/_asarray.py:136: ComplexWarning: Casting complex values to real discards the imaginary part\n",
      "  return array(a, dtype, copy=False, order=order, subok=True)\n"
     ]
    },
    {
     "data": {
      "text/plain": [
       "Text(0, 0.5, 'Real part of eigenvalue')"
      ]
     },
     "execution_count": 264,
     "metadata": {},
     "output_type": "execute_result"
    },
    {
     "data": {
      "image/png": "[encoded data removed]",
      "text/plain": [
       "<Figure size 432x288 with 1 Axes>"
      ]
     },
     "metadata": {
      "needs_background": "light"
     },
     "output_type": "display_data"
    }
   ],
   "source": [
    "for i in range(top_k):\n",
    "    plt.scatter(transformed_kept[0], evals[i])\n",
    "plt.xlabel(\"PC0 coordinate\")\n",
    "plt.ylabel('Real part of eigenvalue')"
   ]
  },
  {
   "cell_type": "code",
   "execution_count": 189,
   "metadata": {
    "ExecuteTime": {
     "end_time": "2020-07-31T19:54:37.254018Z",
     "start_time": "2020-07-31T19:54:36.851585Z"
    }
   },
   "outputs": [],
   "source": [
    "fixed_point_index = 200\n",
    "\n",
    "J_hh = cell.rec_jac(rnn_params, \n",
    "             jnp.zeros(config['model']['emb_size']), \n",
    "             fixed_points[fixed_point_index])\n",
    "\n",
    "R, E, L = renn.eigsorted(J_hh)"
   ]
  },
  {
   "cell_type": "code",
   "execution_count": 192,
   "metadata": {
    "ExecuteTime": {
     "end_time": "2020-07-31T19:54:47.731075Z",
     "start_time": "2020-07-31T19:54:47.602297Z"
    }
   },
   "outputs": [
    {
     "data": {
      "text/plain": [
       "Text(0, 0.5, 'imag')"
      ]
     },
     "execution_count": 192,
     "metadata": {},
     "output_type": "execute_result"
    },
    {
     "data": {
      "image/png": "[encoded data removed]",
      "text/plain": [
       "<Figure size 720x216 with 1 Axes>"
      ]
     },
     "metadata": {
      "needs_background": "light"
     },
     "output_type": "display_data"
    }
   ],
   "source": [
    "plt.figure(figsize=(10, 3))\n",
    "plt.plot(np.real(E), np.imag(E), '.', ms=10)\n",
    "plt.grid()\n",
    "plt.xlim(0, 1.2)\n",
    "plt.ylim(-0.2, 0.2)\n",
    "\n",
    "t = np.linspace(0,np.pi*2,100)\n",
    "plt.plot(np.cos(t), np.sin(t), linewidth=1)\n",
    "\n",
    "plt.title('Jacobian state -> state eigenvalues')\n",
    "plt.xlabel('real')\n",
    "plt.ylabel('imag')"
   ]
  },
  {
   "cell_type": "code",
   "execution_count": 10,
   "metadata": {
    "ExecuteTime": {
     "end_time": "2020-07-31T04:37:57.757987Z",
     "start_time": "2020-07-31T04:37:48.698717Z"
    }
   },
   "outputs": [],
   "source": [
    "bins = np.linspace(-8,8,50)\n",
    "running_hist = 0\n",
    "\n",
    "batch_num = 0\n",
    "for batch in tfds.as_numpy(test_dset):\n",
    "    network_logits = apply_fun(network_params, batch['inputs'])\n",
    "    network_logits = renn.utils.select(network_logits, batch['index'])\n",
    "    \n",
    "    running_hist = running_hist + np.histogram(network_logits.flatten(), bins = bins)[0]\n",
    "    batch_num += 1\n",
    "    \n",
    "    if batch_num > 20:\n",
    "        break"
   ]
  },
  {
   "cell_type": "code",
   "execution_count": null,
   "metadata": {
    "ExecuteTime": {
     "end_time": "2020-07-31T04:36:28.538483Z",
     "start_time": "2020-07-31T04:36:17.016Z"
    }
   },
   "outputs": [],
   "source": [
    "plt.plot(bins[:-1], running_hist)\n",
    "plt.xlabel('Output logit')\n",
    "plt.ylabel('Frequency')"
   ]
  },
  {
   "cell_type": "code",
   "execution_count": null,
   "metadata": {},
   "outputs": [],
   "source": []
  }
 ],
 "metadata": {
  "kernelspec": {
   "display_name": "Python 3",
   "language": "python",
   "name": "python3"
  },
  "language_info": {
   "codemirror_mode": {
    "name": "ipython",
    "version": 3
   },
   "file_extension": ".py",
   "mimetype": "text/x-python",
   "name": "python",
   "nbconvert_exporter": "python",
   "pygments_lexer": "ipython3",
   "version": "3.8.4rc1"
  },
  "toc": {
   "base_numbering": 1,
   "nav_menu": {},
   "number_sections": true,
   "sideBar": true,
   "skip_h1_title": false,
   "title_cell": "Table of Contents",
   "title_sidebar": "Contents",
   "toc_cell": false,
   "toc_position": {},
   "toc_section_display": true,
   "toc_window_display": false
  }
 },
 "nbformat": 4,
 "nbformat_minor": 4
}
